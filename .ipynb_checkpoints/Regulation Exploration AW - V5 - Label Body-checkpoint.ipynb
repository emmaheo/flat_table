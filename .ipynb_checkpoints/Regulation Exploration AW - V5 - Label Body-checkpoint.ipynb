{
 "cells": [
  {
   "cell_type": "code",
   "execution_count": 2,
   "metadata": {
    "collapsed": true
   },
   "outputs": [],
   "source": [
    "#Import the required packages\n",
    "import pandas as pd\n",
    "import xml.etree.ElementTree\n",
    "from lxml import etree\n",
    "import os\n",
    "import io\n",
    "\n",
    "#Hide Future Version warnings\n",
    "import warnings\n",
    "warnings.simplefilter(action='ignore', category=FutureWarning)"
   ]
  },
  {
   "cell_type": "code",
   "execution_count": 3,
   "metadata": {
    "collapsed": true
   },
   "outputs": [],
   "source": [
    "#Code to convert XML element tree to a dictionary\n",
    "def make_dict_from_tree(element_tree):\n",
    "    def internal_iter(tree, accum):\n",
    "        if tree is None:\n",
    "            return accum\n",
    "        \n",
    "        if tree.getchildren():\n",
    "            accum[tree.tag] = {}\n",
    "            for each in tree.getchildren():\n",
    "                result = internal_iter(each, {})\n",
    "                if each.tag in accum[tree.tag]:\n",
    "                    if not isinstance(accum[tree.tag][each.tag], list):\n",
    "                        accum[tree.tag][each.tag] = [\n",
    "                            accum[tree.tag][each.tag]\n",
    "                        ]\n",
    "                    accum[tree.tag][each.tag].append(result[each.tag])\n",
    "                else:\n",
    "                    accum[tree.tag].update(result)\n",
    "        else:\n",
    "            accum[tree.tag] = tree.text\n",
    "        return accum\n",
    "    return internal_iter(element_tree, {})"
   ]
  },
  {
   "cell_type": "code",
   "execution_count": 11,
   "metadata": {
    "collapsed": true
   },
   "outputs": [],
   "source": [
    "#function to clean each body text\n",
    "def body_clean(text):\n",
    "    cleaned = text.replace(\"Text\", \"\")\n",
    "    cleaned = cleaned.replace(\"[\", \"\")\n",
    "    cleaned = cleaned.replace(\"]\", \"\")\n",
    "    cleaned = cleaned.replace(\"{\", \"\")\n",
    "    cleaned = cleaned.replace(\"}\", \"\")\n",
    "    return cleaned"
   ]
  },
  {
   "cell_type": "code",
   "execution_count": 12,
   "metadata": {
    "collapsed": true
   },
   "outputs": [],
   "source": [
    "#function to clean each label tag\n",
    "def label_clean(text):\n",
    "    cleaned = body_clean(text)\n",
    "    cleaned = cleaned.replace(\"'\", \"\")\n",
    "    return cleaned"
   ]
  },
  {
   "cell_type": "markdown",
   "metadata": {},
   "source": [
    "# Test - Preparing the Body Section of Each Regulation"
   ]
  },
  {
   "cell_type": "code",
   "execution_count": 15,
   "metadata": {},
   "outputs": [],
   "source": [
    "list_regs = ['SOR-2013-39.xml','SOR-2000-107.xml','SOR-2005-334.xml']\n",
    "\n",
    "#Final list of each regulation's formatted body text to append to the dataframe\n",
    "list_body_final = []\n",
    "\n",
    "for reg in list_regs:\n",
    "    #Create the master dictionary for each regulation \n",
    "    doc = etree.parse(reg)\n",
    "    doc_dict = make_dict_from_tree(doc.getroot())\n",
    "    \n",
    "    #Create the nested list for each regulation's label and associated text \n",
    "    ###Structure for one regulation --> [[Label: X, [phrase1, phrase2, phrase3]],[Label: Y, [Phrase5, Phrase6]]]\n",
    "    list_reg_labeled_body = []  \n",
    "    \n",
    "    #Iterate through each part of a regulation's body (i.e. the labels such as label 1, label 2 etc.)\n",
    "    Parts = len(doc_dict['Regulation']['Body']['Section'])\n",
    "    \n",
    "    for i in range(0,Parts):\n",
    "        #Identify the title (e.g.number) of each section in the regulation body\n",
    "        label_number = str(doc_dict['Regulation']['Body']['Section'][i][\"Label\"])\n",
    "        label_tag = \"Label: \" + label_clean(label_number)\n",
    "\n",
    "        #Determine all the contents associated with the label, removing the label key\n",
    "        label_text = doc_dict['Regulation']['Body']['Section'][i].copy()\n",
    "        del label_text['Label']\n",
    "\n",
    "        #Format the text for each label, removing remains of xml tags and dictionary formatting\n",
    "        label_text = body_clean(str(label_text))\n",
    "        label_text = label_text.split(\"'\")\n",
    "        list_label_text = []\n",
    "\n",
    "        for phrase in label_text:\n",
    "            if len(phrase) > 2:\n",
    "                list_label_text.append(phrase)\n",
    "\n",
    "        #Create the nested pair of label_tag + label_text --> [Label: X, [phrase1, phrase2, phrase3]]\n",
    "        label_pair = []\n",
    "        label_pair.append(label_tag)\n",
    "        label_pair.append(list_label_text)\n",
    "    \n",
    "        #Append all the nested lists for each individual regulation\n",
    "        list_reg_labeled_body.append(label_pair)   \n",
    "        \n",
    "    #Append each regulations final label-text nested list for adding to the df\n",
    "    list_body_final.append(list_reg_labeled_body)"
   ]
  },
  {
   "cell_type": "markdown",
   "metadata": {},
   "source": [
    "###### Testing the outputs of the three regs used"
   ]
  },
  {
   "cell_type": "code",
   "execution_count": 27,
   "metadata": {},
   "outputs": [
    {
     "data": {
      "text/plain": [
       "3"
      ]
     },
     "execution_count": 27,
     "metadata": {},
     "output_type": "execute_result"
    }
   ],
   "source": [
    "#Testing the output\n",
    "len(list_body_final)"
   ]
  },
  {
   "cell_type": "code",
   "execution_count": 28,
   "metadata": {},
   "outputs": [
    {
     "data": {
      "text/plain": [
       "4"
      ]
     },
     "execution_count": 28,
     "metadata": {},
     "output_type": "execute_result"
    }
   ],
   "source": [
    "len(list_body_final[0])"
   ]
  },
  {
   "cell_type": "code",
   "execution_count": 29,
   "metadata": {
    "collapsed": true
   },
   "outputs": [
    {
     "data": {
      "text/plain": [
       "[['Label: 1',\n",
       "  ['XRefExternal',\n",
       "   'CPA Canada Public Sector Accounting Handbook',\n",
       "   'DefinedTermEn',\n",
       "   'government',\n",
       "   'MarginalNote',\n",
       "   'DefinitionRef',\n",
       "   'government',\n",
       "   'HistoricalNote',\n",
       "   'SOR/2017-114, s. 5.']],\n",
       " ['Label: 2',\n",
       "  ['Subsection',\n",
       "   'XRefExternal',\n",
       "   'Northwest Territories Act',\n",
       "   'Paragraph',\n",
       "   'an obligation incurred as a result of any loan of money received by the government, including a loan made by the issuance and sale of bonds, debentures, notes or any other evidence of indebtedness;',\n",
       "   'Label',\n",
       "   '(a)',\n",
       "   'XRefInternal',\n",
       "   'Label',\n",
       "   '(b)',\n",
       "   'XRefInternal',\n",
       "   'Label',\n",
       "   '(c)',\n",
       "   'a contingent liability incurred as a result of any loan guarantee provided by the government.',\n",
       "   'Label',\n",
       "   '(d)',\n",
       "   'Label',\n",
       "   '(1)',\n",
       "   'Each of the following does not constitute or is deemed not to constitute borrowing:',\n",
       "   'Paragraph',\n",
       "   'an obligation, liability or contingent liability incurred as a result of any transaction referred to in subsection (1) between any two parties within the government; and',\n",
       "   'Label',\n",
       "   '(a)',\n",
       "   'XRefExternal',\n",
       "   'National Housing Act',\n",
       "   'National Housing Act',\n",
       "   'Label',\n",
       "   '(b)',\n",
       "   'MarginalNote',\n",
       "   'Exclusions',\n",
       "   'Label',\n",
       "   '(2)',\n",
       "   'HistoricalNote',\n",
       "   'SOR/2017-114, s. 3.',\n",
       "   'MarginalNote',\n",
       "   'Meaning']],\n",
       " ['Label: 3',\n",
       "  ['XRefExternal',\n",
       "   'Northwest Territories Act',\n",
       "   'Paragraph',\n",
       "   'XRefInternal',\n",
       "   'Label',\n",
       "   '(a)',\n",
       "   'XRefExternal',\n",
       "   'CPA Canada Public Sector Accounting Handbook',\n",
       "   'XRefInternal',\n",
       "   'Label',\n",
       "   '(b)',\n",
       "   'XRefExternal',\n",
       "   'CPA Canada Public Sector Accounting Handbook',\n",
       "   'XRefInternal',\n",
       "   'Label',\n",
       "   '(c)',\n",
       "   'XRefInternal',\n",
       "   'Label',\n",
       "   '(d)',\n",
       "   'MarginalNote',\n",
       "   'Manner to determine value of borrowing',\n",
       "   'HistoricalNote',\n",
       "   'SOR/2017-114, ss. 4, 5.']],\n",
       " ['Label: FootnoteRef: *',\n",
       "  ['Footnote',\n",
       "   'Emphasis',\n",
       "   'see',\n",
       "   'Label',\n",
       "   'XRefExternal',\n",
       "   'Jobs, Growth and Long-term Prosperity Act',\n",
       "   'MarginalNote',\n",
       "   'S.C. 2012, c. 19']]]"
      ]
     },
     "execution_count": 29,
     "metadata": {},
     "output_type": "execute_result"
    }
   ],
   "source": [
    "list_body_final[0]"
   ]
  },
  {
   "cell_type": "code",
   "execution_count": 24,
   "metadata": {},
   "outputs": [
    {
     "data": {
      "text/plain": [
       "['Label: 1',\n",
       " ['XRefExternal',\n",
       "  'CPA Canada Public Sector Accounting Handbook',\n",
       "  'DefinedTermEn',\n",
       "  'government',\n",
       "  'MarginalNote',\n",
       "  'DefinitionRef',\n",
       "  'government',\n",
       "  'HistoricalNote',\n",
       "  'SOR/2017-114, s. 5.']]"
      ]
     },
     "execution_count": 24,
     "metadata": {},
     "output_type": "execute_result"
    }
   ],
   "source": [
    "list_body_final[0][0]"
   ]
  },
  {
   "cell_type": "code",
   "execution_count": 25,
   "metadata": {},
   "outputs": [
    {
     "data": {
      "text/plain": [
       "'Label: 1'"
      ]
     },
     "execution_count": 25,
     "metadata": {},
     "output_type": "execute_result"
    }
   ],
   "source": [
    "list_body_final[0][0][0]"
   ]
  },
  {
   "cell_type": "code",
   "execution_count": 26,
   "metadata": {},
   "outputs": [
    {
     "data": {
      "text/plain": [
       "['XRefExternal',\n",
       " 'CPA Canada Public Sector Accounting Handbook',\n",
       " 'DefinedTermEn',\n",
       " 'government',\n",
       " 'MarginalNote',\n",
       " 'DefinitionRef',\n",
       " 'government',\n",
       " 'HistoricalNote',\n",
       " 'SOR/2017-114, s. 5.']"
      ]
     },
     "execution_count": 26,
     "metadata": {},
     "output_type": "execute_result"
    }
   ],
   "source": [
    "list_body_final[0][0][1]"
   ]
  },
  {
   "cell_type": "code",
   "execution_count": 30,
   "metadata": {
    "collapsed": true
   },
   "outputs": [
    {
     "data": {
      "text/plain": [
       "[['Label: 1',\n",
       "  ['The definitions in this section apply in these Regulations.',\n",
       "   'Definition',\n",
       "   'DefinedTermFr',\n",
       "   'facteur de bioaccumulation',\n",
       "   'DefinedTermEn',\n",
       "   'bioaccumulation factor',\n",
       "   'DefinedTermFr',\n",
       "   'facteur de bioconcentration',\n",
       "   'DefinedTermEn',\n",
       "   'bioconcentration factor',\n",
       "   'DefinedTermFr',\n",
       "   'demi-vie',\n",
       "   'DefinedTermEn',\n",
       "   'half-life',\n",
       "   'DefinedTermFr',\n",
       "   'coefficient de partage octanol-eau',\n",
       "   'DefinedTermEn',\n",
       "   'octanol-water partition coefficient']],\n",
       " ['Label: 2', ['XRefExternal', 'Canadian Environmental Protection Act, 1999']],\n",
       " ['Label: 3',\n",
       "  ['A substance is persistent when it has at least one of the following characteristics:',\n",
       "   'Paragraph',\n",
       "   'in air,',\n",
       "   'Subparagraph',\n",
       "   'its half-life is equal to or greater than 2 days, or',\n",
       "   'Label',\n",
       "   '(i)',\n",
       "   'it is subject to atmospheric transport from its source to a remote area;',\n",
       "   'Label',\n",
       "   '(ii)',\n",
       "   'Label',\n",
       "   '(a)',\n",
       "   'in water, its half-life is equal to or greater than 182 days;',\n",
       "   'Label',\n",
       "   '(b)',\n",
       "   'in sediments, its half-life is equal to or greater than 365 days; or',\n",
       "   'Label',\n",
       "   '(c)',\n",
       "   'in soil, its half-life is equal to or greater than 182 days.',\n",
       "   'Label',\n",
       "   '(d)']],\n",
       " ['Label: 4',\n",
       "  ['A substance is bioaccumulative',\n",
       "   'Paragraph',\n",
       "   'when its bioaccumulation factor is equal to or greater than 5 000;',\n",
       "   'Label',\n",
       "   '(a)',\n",
       "   'if its bioaccumulation factor cannot be determined in accordance with a method referred to in section 5, when its bioconcentration factor is equal to or greater than 5 000; and',\n",
       "   'Label',\n",
       "   '(b)',\n",
       "   'if neither its bioaccumulation factor nor its bioconcentration factor can be determined in accordance with a method referred to in section 5, when the logarithm of its octanol-water partition coefficient is equal to or greater than 5.',\n",
       "   'Label',\n",
       "   '(c)']],\n",
       " ['Label: 5',\n",
       "  ['The determination of persistence and bioaccumulation with respect to a substance under sections 3 and 4 must be made in accordance with generally recognized methods of the Organisation for Economic Co-operation and Development (OECD) or of some other similar organisation or, if no such methods exist, in accordance with generally recognized methods within the scientific community and taking into account the intrinsic properties of the substance, the ecosystem under consideration and the conditions in the environment.']],\n",
       " ['Label: 6', ['These Regulations come into force on March 31, 2000.']]]"
      ]
     },
     "execution_count": 30,
     "metadata": {},
     "output_type": "execute_result"
    }
   ],
   "source": [
    "list_body_final[1]"
   ]
  },
  {
   "cell_type": "code",
   "execution_count": 38,
   "metadata": {
    "collapsed": true
   },
   "outputs": [
    {
     "data": {
      "text/plain": [
       "['A substance is persistent when it has at least one of the following characteristics:',\n",
       " 'Paragraph',\n",
       " 'in air,',\n",
       " 'Subparagraph',\n",
       " 'its half-life is equal to or greater than 2 days, or',\n",
       " 'Label',\n",
       " '(i)',\n",
       " 'it is subject to atmospheric transport from its source to a remote area;',\n",
       " 'Label',\n",
       " '(ii)',\n",
       " 'Label',\n",
       " '(a)',\n",
       " 'in water, its half-life is equal to or greater than 182 days;',\n",
       " 'Label',\n",
       " '(b)',\n",
       " 'in sediments, its half-life is equal to or greater than 365 days; or',\n",
       " 'Label',\n",
       " '(c)',\n",
       " 'in soil, its half-life is equal to or greater than 182 days.',\n",
       " 'Label',\n",
       " '(d)']"
      ]
     },
     "execution_count": 38,
     "metadata": {},
     "output_type": "execute_result"
    }
   ],
   "source": [
    "list_body_final[1][2][1]"
   ]
  },
  {
   "cell_type": "code",
   "execution_count": 46,
   "metadata": {},
   "outputs": [
    {
     "data": {
      "text/plain": [
       "'Label: 6'"
      ]
     },
     "execution_count": 46,
     "metadata": {},
     "output_type": "execute_result"
    }
   ],
   "source": [
    "list_body_final[1][5][0]"
   ]
  },
  {
   "cell_type": "code",
   "execution_count": null,
   "metadata": {
    "collapsed": true
   },
   "outputs": [],
   "source": []
  },
  {
   "cell_type": "markdown",
   "metadata": {},
   "source": [
    "# Looping through all Regs & Flagging Errors (SOR Only)"
   ]
  },
  {
   "cell_type": "code",
   "execution_count": 83,
   "metadata": {},
   "outputs": [],
   "source": [
    "#Obtain the list of regulations only from the working directory\n",
    "list_regs = []\n",
    "files = [f for f in os.listdir('.') if os.path.isfile(f)]\n",
    "\n",
    "for file in files:\n",
    "    if file[-3:] == 'xml':\n",
    "        list_regs.append(file)"
   ]
  },
  {
   "cell_type": "code",
   "execution_count": 90,
   "metadata": {
    "scrolled": false
   },
   "outputs": [],
   "source": [
    "#Final list of each regulation's formatted body text to append to the dataframe\n",
    "list_body_final = []\n",
    "list_exceptions = []\n",
    "\n",
    "for reg in list_regs:\n",
    "    #Create the master dictionary for each regulation \n",
    "    doc = etree.parse(reg)\n",
    "    doc_dict = make_dict_from_tree(doc.getroot())\n",
    "    \n",
    "    #Create the nested list for each regulation's label and associated text \n",
    "    ###Structure for one regulation --> [[Label: X, [phrase1, phrase2, phrase3]],[Label: Y, [Phrase5, Phrase6]]]\n",
    "    list_reg_labeled_body = []  \n",
    "    \n",
    "    #The following code will execute assuming the reg follows the conventional structure...track the exceptions\n",
    "    try:\n",
    "        #Iterate through each part of a regulation's body (i.e. the labels such as label 1, label 2 etc.)\n",
    "        Parts = len(doc_dict['Regulation']['Body']['Section'])\n",
    "\n",
    "        for i in range(0,Parts):\n",
    "            #Identify the title (e.g.number) of each section in the regulation body\n",
    "            label_number = str(doc_dict['Regulation']['Body']['Section'][i][\"Label\"])\n",
    "            label_tag = \"Label: \" + label_clean(label_number)\n",
    "\n",
    "            #Determine all the contents associated with the label, removing the label key\n",
    "            label_text = doc_dict['Regulation']['Body']['Section'][i].copy()\n",
    "            del label_text['Label']\n",
    "\n",
    "            #Format the text for each label, removing remains of xml tags and dictionary formatting\n",
    "            label_text = body_clean(str(label_text))\n",
    "            label_text = label_text.split(\"'\")\n",
    "            list_label_text = []\n",
    "\n",
    "            for phrase in label_text:\n",
    "                if len(phrase) > 2:\n",
    "                    list_label_text.append(phrase)\n",
    "\n",
    "            #Create the nested pair of label_tag + label_text --> [Label: X, [phrase1, phrase2, phrase3]]\n",
    "            label_pair = []\n",
    "            label_pair.append(label_tag)\n",
    "            label_pair.append(list_label_text)\n",
    "\n",
    "            #Append all the nested lists for each individual regulation\n",
    "            list_reg_labeled_body.append(label_pair)   \n",
    "\n",
    "            #Append each regulations final label-text nested list for adding to the df\n",
    "            list_body_final.append(list_reg_labeled_body)\n",
    "        \n",
    "    except:\n",
    "        list_body_final.append(\"Exception\")\n",
    "        list_exceptions.append(reg)"
   ]
  },
  {
   "cell_type": "code",
   "execution_count": 96,
   "metadata": {},
   "outputs": [
    {
     "name": "stdout",
     "output_type": "stream",
     "text": [
      "69\n",
      "2638\n",
      "0.0261561789234\n"
     ]
    }
   ],
   "source": [
    "print (len(list_exceptions))\n",
    "print (len(files))\n",
    "print (69.0/2638)"
   ]
  },
  {
   "cell_type": "code",
   "execution_count": 92,
   "metadata": {
    "collapsed": true
   },
   "outputs": [
    {
     "data": {
      "text/plain": [
       "['SOR-2000-131.xml',\n",
       " 'SOR-2001-182.xml',\n",
       " 'SOR-2001-286.xml',\n",
       " 'SOR-2001-297.xml',\n",
       " 'SOR-2002-351.xml',\n",
       " 'SOR-2002-420.xml',\n",
       " 'SOR-2002-48.xml',\n",
       " 'SOR-2003-312.xml',\n",
       " 'SOR-2003-313.xml',\n",
       " 'SOR-2005-226.xml',\n",
       " 'SOR-2006-139.xml',\n",
       " 'SOR-2006-247.xml',\n",
       " 'SOR-2006-288.xml',\n",
       " 'SOR-2006-298.xml',\n",
       " 'SOR-2006-43.xml',\n",
       " 'SOR-2007-286.xml',\n",
       " 'SOR-2007-71.xml',\n",
       " 'SOR-2008-249.xml',\n",
       " 'SOR-2009-14.xml',\n",
       " 'SOR-2009-202.xml',\n",
       " 'SOR-2010-166.xml',\n",
       " 'SOR-2011-115.xml',\n",
       " 'SOR-2011-168.xml',\n",
       " 'SOR-2011-227.xml',\n",
       " 'SOR-2011-52.xml',\n",
       " 'SOR-2013-141.xml',\n",
       " 'SOR-2013-142.xml',\n",
       " 'SOR-2014-18.xml',\n",
       " 'SOR-2014-236.xml',\n",
       " 'SOR-2014-59.xml',\n",
       " 'SOR-2014-61.xml',\n",
       " 'SOR-2016-42.xml',\n",
       " 'SOR-2017-205.xml',\n",
       " 'SOR-2017-245.xml',\n",
       " 'SOR-2017-73.xml',\n",
       " 'SOR-56-290.xml',\n",
       " 'SOR-57-176.xml',\n",
       " 'SOR-61-378.xml',\n",
       " 'SOR-78-148.xml',\n",
       " 'SOR-78-223.xml',\n",
       " 'SOR-78-68.xml',\n",
       " 'SOR-79-158.xml',\n",
       " 'SOR-80-629.xml',\n",
       " 'SOR-80-957.xml',\n",
       " 'SOR-81-543.xml',\n",
       " 'SOR-84-764.xml',\n",
       " 'SOR-87-40.xml',\n",
       " 'SOR-87-592.xml',\n",
       " 'SOR-87-91.xml',\n",
       " 'SOR-88-504.xml',\n",
       " 'SOR-88-590.xml',\n",
       " 'SOR-88-64.xml',\n",
       " 'SOR-89-187.xml',\n",
       " 'SOR-89-31.xml',\n",
       " 'SOR-89-488.xml',\n",
       " 'SOR-90-303.xml',\n",
       " 'SOR-90-45.xml',\n",
       " 'SOR-91-575.xml',\n",
       " 'SOR-92-636.xml',\n",
       " 'SOR-93-264.xml',\n",
       " 'SOR-93-282.xml',\n",
       " 'SOR-93-536.xml',\n",
       " 'SOR-94-27.xml',\n",
       " 'SOR-94-496.xml',\n",
       " 'SOR-96-322.xml',\n",
       " 'SOR-96-78.xml',\n",
       " 'SOR-96-8.xml',\n",
       " 'SOR-98-578.xml',\n",
       " 'SOR-99-86.xml']"
      ]
     },
     "execution_count": 92,
     "metadata": {},
     "output_type": "execute_result"
    }
   ],
   "source": [
    "list_exceptions"
   ]
  },
  {
   "cell_type": "code",
   "execution_count": null,
   "metadata": {
    "collapsed": true
   },
   "outputs": [],
   "source": []
  },
  {
   "cell_type": "code",
   "execution_count": null,
   "metadata": {
    "collapsed": true
   },
   "outputs": [],
   "source": []
  },
  {
   "cell_type": "code",
   "execution_count": null,
   "metadata": {
    "collapsed": true
   },
   "outputs": [],
   "source": []
  },
  {
   "cell_type": "code",
   "execution_count": null,
   "metadata": {
    "collapsed": true
   },
   "outputs": [],
   "source": []
  },
  {
   "cell_type": "code",
   "execution_count": null,
   "metadata": {
    "collapsed": true
   },
   "outputs": [],
   "source": []
  },
  {
   "cell_type": "code",
   "execution_count": null,
   "metadata": {
    "collapsed": true
   },
   "outputs": [],
   "source": []
  },
  {
   "cell_type": "code",
   "execution_count": null,
   "metadata": {
    "collapsed": true
   },
   "outputs": [],
   "source": []
  },
  {
   "cell_type": "code",
   "execution_count": null,
   "metadata": {
    "collapsed": true
   },
   "outputs": [],
   "source": []
  },
  {
   "cell_type": "code",
   "execution_count": null,
   "metadata": {
    "collapsed": true
   },
   "outputs": [],
   "source": []
  },
  {
   "cell_type": "code",
   "execution_count": null,
   "metadata": {
    "collapsed": true
   },
   "outputs": [],
   "source": []
  },
  {
   "cell_type": "code",
   "execution_count": null,
   "metadata": {
    "collapsed": true
   },
   "outputs": [],
   "source": []
  },
  {
   "cell_type": "code",
   "execution_count": null,
   "metadata": {
    "collapsed": true
   },
   "outputs": [],
   "source": []
  },
  {
   "cell_type": "code",
   "execution_count": null,
   "metadata": {
    "collapsed": true
   },
   "outputs": [],
   "source": []
  },
  {
   "cell_type": "code",
   "execution_count": null,
   "metadata": {
    "collapsed": true
   },
   "outputs": [],
   "source": []
  },
  {
   "cell_type": "code",
   "execution_count": 98,
   "metadata": {},
   "outputs": [],
   "source": [
    "doc = etree.parse('SOR-79-613.xml')\n",
    "doc_dict = make_dict_from_tree(doc.getroot())"
   ]
  },
  {
   "cell_type": "code",
   "execution_count": 101,
   "metadata": {},
   "outputs": [
    {
     "data": {
      "text/plain": [
       "['Body', 'Identification', 'Order', 'Schedule']"
      ]
     },
     "execution_count": 101,
     "metadata": {},
     "output_type": "execute_result"
    }
   ],
   "source": [
    "doc_dict['Regulation'].keys()"
   ]
  },
  {
   "cell_type": "markdown",
   "metadata": {},
   "source": [
    "# How to Handle Order Section"
   ]
  },
  {
   "cell_type": "code",
   "execution_count": 112,
   "metadata": {},
   "outputs": [
    {
     "data": {
      "text/plain": [
       "['Body', 'Identification', 'Order', 'Schedule']"
      ]
     },
     "execution_count": 112,
     "metadata": {},
     "output_type": "execute_result"
    }
   ],
   "source": [
    "doc_dict['Regulation'].keys()"
   ]
  },
  {
   "cell_type": "code",
   "execution_count": 113,
   "metadata": {},
   "outputs": [
    {
     "data": {
      "text/plain": [
       "{'XRefExternal': ['Statutory Instruments Act',\n",
       "  'Regulations respecting a special issue of Part II of the Canada Gazette to be published in conjunction with the Consolidated Regulations of Canada, 1978']}"
      ]
     },
     "execution_count": 113,
     "metadata": {},
     "output_type": "execute_result"
    }
   ],
   "source": [
    "doc_dict['Regulation']['Order']['Provision']['Text']"
   ]
  },
  {
   "cell_type": "code",
   "execution_count": 115,
   "metadata": {},
   "outputs": [
    {
     "data": {
      "text/plain": [
       "['XRefExternal']"
      ]
     },
     "execution_count": 115,
     "metadata": {},
     "output_type": "execute_result"
    }
   ],
   "source": [
    "doc_dict['Regulation']['Order']['Provision']['Text'].keys()"
   ]
  },
  {
   "cell_type": "code",
   "execution_count": null,
   "metadata": {
    "collapsed": true
   },
   "outputs": [],
   "source": []
  },
  {
   "cell_type": "code",
   "execution_count": null,
   "metadata": {
    "collapsed": true
   },
   "outputs": [],
   "source": []
  },
  {
   "cell_type": "code",
   "execution_count": null,
   "metadata": {
    "collapsed": true
   },
   "outputs": [],
   "source": []
  },
  {
   "cell_type": "code",
   "execution_count": 7,
   "metadata": {
    "collapsed": true
   },
   "outputs": [],
   "source": [
    "doc = etree.parse('SOR-2013-39.xml')\n",
    "doc_dict = make_dict_from_tree(doc.getroot())"
   ]
  },
  {
   "cell_type": "code",
   "execution_count": 9,
   "metadata": {},
   "outputs": [
    {
     "data": {
      "text/plain": [
       "{'Regulation': {'Body': {'Heading': [{'TitleText': 'Definition'},\n",
       "    {'TitleText': 'Borrowing'},\n",
       "    {'TitleText': 'Value of Borrowing'},\n",
       "    {'TitleText': 'Coming into Force'}],\n",
       "   'Section': [{'HistoricalNote': 'SOR/2017-114, s. 5.',\n",
       "     'Label': '1',\n",
       "     'MarginalNote': {'DefinitionRef': 'government'},\n",
       "     'Text': {'DefinedTermEn': 'government',\n",
       "      'XRefExternal': 'CPA Canada Public Sector Accounting Handbook'}},\n",
       "    {'HistoricalNote': 'SOR/2017-114, s. 3.',\n",
       "     'Label': '2',\n",
       "     'MarginalNote': 'Meaning',\n",
       "     'Subsection': [{'Label': '(1)',\n",
       "       'Paragraph': [{'Label': '(a)',\n",
       "         'Text': 'an obligation incurred as a result of any loan of money received by the government, including a loan made by the issuance and sale of bonds, debentures, notes or any other evidence of indebtedness;'},\n",
       "        {'Label': '(b)', 'Text': {'XRefInternal': '3'}},\n",
       "        {'Label': '(c)', 'Text': {'XRefInternal': '3'}},\n",
       "        {'Label': '(d)',\n",
       "         'Text': 'a contingent liability incurred as a result of any loan guarantee provided by the government.'}],\n",
       "       'Text': {'XRefExternal': 'Northwest Territories Act'}},\n",
       "      {'Label': '(2)',\n",
       "       'MarginalNote': 'Exclusions',\n",
       "       'Paragraph': [{'Label': '(a)',\n",
       "         'Text': 'an obligation, liability or contingent liability incurred as a result of any transaction referred to in subsection (1) between any two parties within the government; and'},\n",
       "        {'Label': '(b)',\n",
       "         'Text': {'XRefExternal': ['National Housing Act',\n",
       "           'National Housing Act']}}],\n",
       "       'Text': 'Each of the following does not constitute or is deemed not to constitute borrowing:'}]},\n",
       "    {'HistoricalNote': 'SOR/2017-114, ss. 4, 5.',\n",
       "     'Label': '3',\n",
       "     'MarginalNote': 'Manner to determine value of borrowing',\n",
       "     'Paragraph': [{'Label': '(a)', 'Text': {'XRefInternal': '2'}},\n",
       "      {'Label': '(b)',\n",
       "       'Text': {'XRefExternal': 'CPA Canada Public Sector Accounting Handbook',\n",
       "        'XRefInternal': '2'}},\n",
       "      {'Label': '(c)',\n",
       "       'Text': {'XRefExternal': 'CPA Canada Public Sector Accounting Handbook',\n",
       "        'XRefInternal': '2'}},\n",
       "      {'Label': '(d)', 'Text': {'XRefInternal': '2'}}],\n",
       "     'Text': {'XRefExternal': 'Northwest Territories Act'}},\n",
       "    {'Footnote': {'Label': '*', 'Text': {'Emphasis': 'see'}},\n",
       "     'Label': {'FootnoteRef': '*'},\n",
       "     'MarginalNote': 'S.C. 2012, c. 19',\n",
       "     'Text': {'XRefExternal': 'Jobs, Growth and Long-term Prosperity Act'}}]},\n",
       "  'Identification': {'ConsolidationDate': {'Date': {'DD': '21',\n",
       "     'MM': '06',\n",
       "     'YYYY': '2018'}},\n",
       "   'EnablingAuthority': {'XRefExternal': 'NORTHWEST TERRITORIES ACT'},\n",
       "   'InstrumentNumber': 'SOR/2013-39',\n",
       "   'LastModifiedDate': {'Date': {'DD': '27', 'MM': '3', 'YYYY': '2013'}},\n",
       "   'LongTitle': 'Northwest Territories Borrowing Limits Regulations',\n",
       "   'RegistrationDate': {'Date': {'DD': '8', 'MM': '3', 'YYYY': '2013'}},\n",
       "   'RegulationMakerOrder': {'Date': {'DD': '7', 'MM': '3', 'YYYY': '2013'},\n",
       "    'OrderNumber': '2013-271',\n",
       "    'RegulationMaker': 'P.C.'}},\n",
       "  'Order': {'Provision': {'Footnote': [{'Label': 'a',\n",
       "      'Text': 'S.C. 2012, c. 19, s. 214(2)'},\n",
       "     {'Label': 'b', 'Text': 'R.S., c. N-27'}],\n",
       "    'Text': {'FootnoteRef': ['a', 'b'],\n",
       "     'XRefExternal': ['Northwest Territories Act',\n",
       "      'Northwest Territories Borrowing Limits Regulations']}}}}}"
      ]
     },
     "execution_count": 9,
     "metadata": {},
     "output_type": "execute_result"
    }
   ],
   "source": [
    "doc_dict['Regulation']."
   ]
  },
  {
   "cell_type": "code",
   "execution_count": 34,
   "metadata": {
    "scrolled": true
   },
   "outputs": [
    {
     "data": {
      "text/plain": [
       "{'Heading': [{'TitleText': 'Definition'},\n",
       "  {'TitleText': 'Borrowing'},\n",
       "  {'TitleText': 'Value of Borrowing'},\n",
       "  {'TitleText': 'Coming into Force'}],\n",
       " 'Section': [{'HistoricalNote': 'SOR/2017-114, s. 5.',\n",
       "   'Label': '1',\n",
       "   'MarginalNote': {'DefinitionRef': 'government'},\n",
       "   'Text': {'DefinedTermEn': 'government',\n",
       "    'XRefExternal': 'CPA Canada Public Sector Accounting Handbook'}},\n",
       "  {'HistoricalNote': 'SOR/2017-114, s. 3.',\n",
       "   'Label': '2',\n",
       "   'MarginalNote': 'Meaning',\n",
       "   'Subsection': [{'Label': '(1)',\n",
       "     'Paragraph': [{'Label': '(a)',\n",
       "       'Text': 'an obligation incurred as a result of any loan of money received by the government, including a loan made by the issuance and sale of bonds, debentures, notes or any other evidence of indebtedness;'},\n",
       "      {'Label': '(b)', 'Text': {'XRefInternal': '3'}},\n",
       "      {'Label': '(c)', 'Text': {'XRefInternal': '3'}},\n",
       "      {'Label': '(d)',\n",
       "       'Text': 'a contingent liability incurred as a result of any loan guarantee provided by the government.'}],\n",
       "     'Text': {'XRefExternal': 'Northwest Territories Act'}},\n",
       "    {'Label': '(2)',\n",
       "     'MarginalNote': 'Exclusions',\n",
       "     'Paragraph': [{'Label': '(a)',\n",
       "       'Text': 'an obligation, liability or contingent liability incurred as a result of any transaction referred to in subsection (1) between any two parties within the government; and'},\n",
       "      {'Label': '(b)',\n",
       "       'Text': {'XRefExternal': ['National Housing Act',\n",
       "         'National Housing Act']}}],\n",
       "     'Text': 'Each of the following does not constitute or is deemed not to constitute borrowing:'}]},\n",
       "  {'HistoricalNote': 'SOR/2017-114, ss. 4, 5.',\n",
       "   'Label': '3',\n",
       "   'MarginalNote': 'Manner to determine value of borrowing',\n",
       "   'Paragraph': [{'Label': '(a)', 'Text': {'XRefInternal': '2'}},\n",
       "    {'Label': '(b)',\n",
       "     'Text': {'XRefExternal': 'CPA Canada Public Sector Accounting Handbook',\n",
       "      'XRefInternal': '2'}},\n",
       "    {'Label': '(c)',\n",
       "     'Text': {'XRefExternal': 'CPA Canada Public Sector Accounting Handbook',\n",
       "      'XRefInternal': '2'}},\n",
       "    {'Label': '(d)', 'Text': {'XRefInternal': '2'}}],\n",
       "   'Text': {'XRefExternal': 'Northwest Territories Act'}},\n",
       "  {'Footnote': {'Label': '*', 'Text': {'Emphasis': 'see'}},\n",
       "   'Label': {'FootnoteRef': '*'},\n",
       "   'MarginalNote': 'S.C. 2012, c. 19',\n",
       "   'Text': {'XRefExternal': 'Jobs, Growth and Long-term Prosperity Act'}}]}"
      ]
     },
     "execution_count": 34,
     "metadata": {},
     "output_type": "execute_result"
    }
   ],
   "source": [
    "doc_dict['Regulation']['Body']"
   ]
  },
  {
   "cell_type": "code",
   "execution_count": 42,
   "metadata": {
    "scrolled": true
   },
   "outputs": [
    {
     "data": {
      "text/plain": [
       "[{'HistoricalNote': 'SOR/2017-114, s. 5.',\n",
       "  'Label': '1',\n",
       "  'MarginalNote': {'DefinitionRef': 'government'},\n",
       "  'Text': {'DefinedTermEn': 'government',\n",
       "   'XRefExternal': 'CPA Canada Public Sector Accounting Handbook'}},\n",
       " {'HistoricalNote': 'SOR/2017-114, s. 3.',\n",
       "  'Label': '2',\n",
       "  'MarginalNote': 'Meaning',\n",
       "  'Subsection': [{'Label': '(1)',\n",
       "    'Paragraph': [{'Label': '(a)',\n",
       "      'Text': 'an obligation incurred as a result of any loan of money received by the government, including a loan made by the issuance and sale of bonds, debentures, notes or any other evidence of indebtedness;'},\n",
       "     {'Label': '(b)', 'Text': {'XRefInternal': '3'}},\n",
       "     {'Label': '(c)', 'Text': {'XRefInternal': '3'}},\n",
       "     {'Label': '(d)',\n",
       "      'Text': 'a contingent liability incurred as a result of any loan guarantee provided by the government.'}],\n",
       "    'Text': {'XRefExternal': 'Northwest Territories Act'}},\n",
       "   {'Label': '(2)',\n",
       "    'MarginalNote': 'Exclusions',\n",
       "    'Paragraph': [{'Label': '(a)',\n",
       "      'Text': 'an obligation, liability or contingent liability incurred as a result of any transaction referred to in subsection (1) between any two parties within the government; and'},\n",
       "     {'Label': '(b)',\n",
       "      'Text': {'XRefExternal': ['National Housing Act',\n",
       "        'National Housing Act']}}],\n",
       "    'Text': 'Each of the following does not constitute or is deemed not to constitute borrowing:'}]},\n",
       " {'HistoricalNote': 'SOR/2017-114, ss. 4, 5.',\n",
       "  'Label': '3',\n",
       "  'MarginalNote': 'Manner to determine value of borrowing',\n",
       "  'Paragraph': [{'Label': '(a)', 'Text': {'XRefInternal': '2'}},\n",
       "   {'Label': '(b)',\n",
       "    'Text': {'XRefExternal': 'CPA Canada Public Sector Accounting Handbook',\n",
       "     'XRefInternal': '2'}},\n",
       "   {'Label': '(c)',\n",
       "    'Text': {'XRefExternal': 'CPA Canada Public Sector Accounting Handbook',\n",
       "     'XRefInternal': '2'}},\n",
       "   {'Label': '(d)', 'Text': {'XRefInternal': '2'}}],\n",
       "  'Text': {'XRefExternal': 'Northwest Territories Act'}},\n",
       " {'Footnote': {'Label': '*', 'Text': {'Emphasis': 'see'}},\n",
       "  'Label': {'FootnoteRef': '*'},\n",
       "  'MarginalNote': 'S.C. 2012, c. 19',\n",
       "  'Text': {'XRefExternal': 'Jobs, Growth and Long-term Prosperity Act'}}]"
      ]
     },
     "execution_count": 42,
     "metadata": {},
     "output_type": "execute_result"
    }
   ],
   "source": [
    "doc_dict['Regulation']['Body']['Section']"
   ]
  },
  {
   "cell_type": "code",
   "execution_count": 47,
   "metadata": {},
   "outputs": [
    {
     "data": {
      "text/plain": [
       "4"
      ]
     },
     "execution_count": 47,
     "metadata": {},
     "output_type": "execute_result"
    }
   ],
   "source": [
    "len(doc_dict['Regulation']['Body']['Section'])"
   ]
  },
  {
   "cell_type": "code",
   "execution_count": 48,
   "metadata": {},
   "outputs": [
    {
     "data": {
      "text/plain": [
       "{'HistoricalNote': 'SOR/2017-114, s. 5.',\n",
       " 'Label': '1',\n",
       " 'MarginalNote': {'DefinitionRef': 'government'},\n",
       " 'Text': {'DefinedTermEn': 'government',\n",
       "  'XRefExternal': 'CPA Canada Public Sector Accounting Handbook'}}"
      ]
     },
     "execution_count": 48,
     "metadata": {},
     "output_type": "execute_result"
    }
   ],
   "source": [
    "#Section 1\n",
    "doc_dict['Regulation']['Body']['Section'][0]"
   ]
  },
  {
   "cell_type": "code",
   "execution_count": 46,
   "metadata": {},
   "outputs": [
    {
     "data": {
      "text/plain": [
       "4"
      ]
     },
     "execution_count": 46,
     "metadata": {},
     "output_type": "execute_result"
    }
   ],
   "source": [
    "len(doc_dict['Regulation']['Body']['Section'][0])"
   ]
  },
  {
   "cell_type": "code",
   "execution_count": 51,
   "metadata": {},
   "outputs": [
    {
     "data": {
      "text/plain": [
       "'1'"
      ]
     },
     "execution_count": 51,
     "metadata": {},
     "output_type": "execute_result"
    }
   ],
   "source": [
    "doc_dict['Regulation']['Body']['Section'][0]['Label']"
   ]
  },
  {
   "cell_type": "code",
   "execution_count": 54,
   "metadata": {},
   "outputs": [
    {
     "data": {
      "text/plain": [
       "'SOR/2017-114, s. 5.'"
      ]
     },
     "execution_count": 54,
     "metadata": {},
     "output_type": "execute_result"
    }
   ],
   "source": [
    "doc_dict['Regulation']['Body']['Section'][0]['HistoricalNote']"
   ]
  },
  {
   "cell_type": "code",
   "execution_count": 55,
   "metadata": {},
   "outputs": [
    {
     "data": {
      "text/plain": [
       "{'DefinedTermEn': 'government',\n",
       " 'XRefExternal': 'CPA Canada Public Sector Accounting Handbook'}"
      ]
     },
     "execution_count": 55,
     "metadata": {},
     "output_type": "execute_result"
    }
   ],
   "source": [
    "doc_dict['Regulation']['Body']['Section'][0]['Text']"
   ]
  },
  {
   "cell_type": "code",
   "execution_count": 57,
   "metadata": {},
   "outputs": [
    {
     "data": {
      "text/plain": [
       "{'HistoricalNote': 'SOR/2017-114, s. 3.',\n",
       " 'Label': '2',\n",
       " 'MarginalNote': 'Meaning',\n",
       " 'Subsection': [{'Label': '(1)',\n",
       "   'Paragraph': [{'Label': '(a)',\n",
       "     'Text': 'an obligation incurred as a result of any loan of money received by the government, including a loan made by the issuance and sale of bonds, debentures, notes or any other evidence of indebtedness;'},\n",
       "    {'Label': '(b)', 'Text': {'XRefInternal': '3'}},\n",
       "    {'Label': '(c)', 'Text': {'XRefInternal': '3'}},\n",
       "    {'Label': '(d)',\n",
       "     'Text': 'a contingent liability incurred as a result of any loan guarantee provided by the government.'}],\n",
       "   'Text': {'XRefExternal': 'Northwest Territories Act'}},\n",
       "  {'Label': '(2)',\n",
       "   'MarginalNote': 'Exclusions',\n",
       "   'Paragraph': [{'Label': '(a)',\n",
       "     'Text': 'an obligation, liability or contingent liability incurred as a result of any transaction referred to in subsection (1) between any two parties within the government; and'},\n",
       "    {'Label': '(b)',\n",
       "     'Text': {'XRefExternal': ['National Housing Act',\n",
       "       'National Housing Act']}}],\n",
       "   'Text': 'Each of the following does not constitute or is deemed not to constitute borrowing:'}]}"
      ]
     },
     "execution_count": 57,
     "metadata": {},
     "output_type": "execute_result"
    }
   ],
   "source": [
    "#Section 2\n",
    "doc_dict['Regulation']['Body']['Section'][1]"
   ]
  },
  {
   "cell_type": "code",
   "execution_count": 58,
   "metadata": {},
   "outputs": [
    {
     "data": {
      "text/plain": [
       "4"
      ]
     },
     "execution_count": 58,
     "metadata": {},
     "output_type": "execute_result"
    }
   ],
   "source": [
    "len(doc_dict['Regulation']['Body']['Section'][1])"
   ]
  },
  {
   "cell_type": "code",
   "execution_count": 62,
   "metadata": {},
   "outputs": [
    {
     "data": {
      "text/plain": [
       "['Subsection', 'MarginalNote', 'HistoricalNote', 'Label']"
      ]
     },
     "execution_count": 62,
     "metadata": {},
     "output_type": "execute_result"
    }
   ],
   "source": [
    "doc_dict['Regulation']['Body']['Section'][1].keys()"
   ]
  },
  {
   "cell_type": "code",
   "execution_count": 63,
   "metadata": {},
   "outputs": [
    {
     "data": {
      "text/plain": [
       "'2'"
      ]
     },
     "execution_count": 63,
     "metadata": {},
     "output_type": "execute_result"
    }
   ],
   "source": [
    "doc_dict['Regulation']['Body']['Section'][1]['Label']"
   ]
  },
  {
   "cell_type": "code",
   "execution_count": 65,
   "metadata": {},
   "outputs": [
    {
     "data": {
      "text/plain": [
       "'SOR/2017-114, s. 3.'"
      ]
     },
     "execution_count": 65,
     "metadata": {},
     "output_type": "execute_result"
    }
   ],
   "source": [
    "doc_dict['Regulation']['Body']['Section'][1]['HistoricalNote']"
   ]
  },
  {
   "cell_type": "code",
   "execution_count": 66,
   "metadata": {},
   "outputs": [
    {
     "data": {
      "text/plain": [
       "'Meaning'"
      ]
     },
     "execution_count": 66,
     "metadata": {},
     "output_type": "execute_result"
    }
   ],
   "source": [
    "doc_dict['Regulation']['Body']['Section'][1]['MarginalNote']"
   ]
  },
  {
   "cell_type": "code",
   "execution_count": 67,
   "metadata": {},
   "outputs": [
    {
     "data": {
      "text/plain": [
       "[{'Label': '(1)',\n",
       "  'Paragraph': [{'Label': '(a)',\n",
       "    'Text': 'an obligation incurred as a result of any loan of money received by the government, including a loan made by the issuance and sale of bonds, debentures, notes or any other evidence of indebtedness;'},\n",
       "   {'Label': '(b)', 'Text': {'XRefInternal': '3'}},\n",
       "   {'Label': '(c)', 'Text': {'XRefInternal': '3'}},\n",
       "   {'Label': '(d)',\n",
       "    'Text': 'a contingent liability incurred as a result of any loan guarantee provided by the government.'}],\n",
       "  'Text': {'XRefExternal': 'Northwest Territories Act'}},\n",
       " {'Label': '(2)',\n",
       "  'MarginalNote': 'Exclusions',\n",
       "  'Paragraph': [{'Label': '(a)',\n",
       "    'Text': 'an obligation, liability or contingent liability incurred as a result of any transaction referred to in subsection (1) between any two parties within the government; and'},\n",
       "   {'Label': '(b)',\n",
       "    'Text': {'XRefExternal': ['National Housing Act',\n",
       "      'National Housing Act']}}],\n",
       "  'Text': 'Each of the following does not constitute or is deemed not to constitute borrowing:'}]"
      ]
     },
     "execution_count": 67,
     "metadata": {},
     "output_type": "execute_result"
    }
   ],
   "source": [
    "doc_dict['Regulation']['Body']['Section'][1]['Subsection']"
   ]
  },
  {
   "cell_type": "code",
   "execution_count": 75,
   "metadata": {},
   "outputs": [
    {
     "data": {
      "text/plain": [
       "['Text', 'Paragraph', 'Label']"
      ]
     },
     "execution_count": 75,
     "metadata": {},
     "output_type": "execute_result"
    }
   ],
   "source": [
    "doc_dict['Regulation']['Body']['Section'][1]['Subsection'][0].keys()"
   ]
  },
  {
   "cell_type": "code",
   "execution_count": 78,
   "metadata": {},
   "outputs": [
    {
     "data": {
      "text/plain": [
       "[{'Label': '(a)',\n",
       "  'Text': 'an obligation incurred as a result of any loan of money received by the government, including a loan made by the issuance and sale of bonds, debentures, notes or any other evidence of indebtedness;'},\n",
       " {'Label': '(b)', 'Text': {'XRefInternal': '3'}},\n",
       " {'Label': '(c)', 'Text': {'XRefInternal': '3'}},\n",
       " {'Label': '(d)',\n",
       "  'Text': 'a contingent liability incurred as a result of any loan guarantee provided by the government.'}]"
      ]
     },
     "execution_count": 78,
     "metadata": {},
     "output_type": "execute_result"
    }
   ],
   "source": [
    "doc_dict['Regulation']['Body']['Section'][1]['Subsection'][0]['Paragraph']"
   ]
  },
  {
   "cell_type": "code",
   "execution_count": null,
   "metadata": {
    "collapsed": true
   },
   "outputs": [],
   "source": []
  },
  {
   "cell_type": "markdown",
   "metadata": {},
   "source": [
    "### Extracting each label & its respective text"
   ]
  },
  {
   "cell_type": "code",
   "execution_count": 221,
   "metadata": {
    "collapsed": true
   },
   "outputs": [],
   "source": [
    "#function to clean each body text\n",
    "def body_clean(text):\n",
    "    cleaned = text.replace(\"Text\", \"\")\n",
    "    cleaned = cleaned.replace(\"[\", \"\")\n",
    "    cleaned = cleaned.replace(\"]\", \"\")\n",
    "    cleaned = cleaned.replace(\"{\", \"\")\n",
    "    cleaned = cleaned.replace(\"}\", \"\")\n",
    "    return cleaned"
   ]
  },
  {
   "cell_type": "code",
   "execution_count": 222,
   "metadata": {
    "collapsed": true
   },
   "outputs": [],
   "source": [
    "#function to clean each label tag\n",
    "def label_clean(text):\n",
    "    cleaned = body_clean(text)\n",
    "    cleaned = cleaned.replace(\"'\", \"\")\n",
    "    return cleaned"
   ]
  },
  {
   "cell_type": "code",
   "execution_count": 223,
   "metadata": {
    "collapsed": true
   },
   "outputs": [],
   "source": [
    "doc = etree.parse('SOR-2013-39.xml')\n",
    "doc_dict = make_dict_from_tree(doc.getroot())"
   ]
  },
  {
   "cell_type": "code",
   "execution_count": 224,
   "metadata": {},
   "outputs": [
    {
     "data": {
      "text/plain": [
       "4"
      ]
     },
     "execution_count": 224,
     "metadata": {},
     "output_type": "execute_result"
    }
   ],
   "source": [
    "Parts = len(doc_dict['Regulation']['Body']['Section'])\n",
    "Parts"
   ]
  },
  {
   "cell_type": "code",
   "execution_count": 274,
   "metadata": {
    "collapsed": true
   },
   "outputs": [],
   "source": [
    "Parts = len(doc_dict['Regulation']['Body']['Section'])\n",
    "\n",
    "#Create the nested list for each regulation's label and associated text \n",
    "###Structure for one regulation --> [[Label: X, [phrase1, phrase2, phrase3]],[Label: Y, [Phrase5, Phrase6]]]\n",
    "reg_body_labeled = []\n",
    "        \n",
    "for i in range(0,Parts):\n",
    "    #Identify the title (e.g.number) of each section in the regulation body\n",
    "    label_number = str(doc_dict['Regulation']['Body']['Section'][i][\"Label\"])\n",
    "    label_tag = \"Label: \" + label_clean(label_number)\n",
    "                \n",
    "    #Determine all the contents associated with the label, removing the label key\n",
    "    label_text = doc_dict['Regulation']['Body']['Section'][i].copy()\n",
    "    del label_text['Label']\n",
    "    \n",
    "    #Format the text for each label, removing remains of xml tags and dictionary formatting\n",
    "    label_text = body_clean(str(label_text))\n",
    "    label_text = label_text.split(\"'\")\n",
    "    label_text_list = []\n",
    "    for phrase in label_text:\n",
    "        if len(phrase) > 2:\n",
    "            label_text_list.append(phrase)\n",
    "    \n",
    "    #Create the nested pair of label_tag + label_text --> [Label: X, [phrase1, phrase2, phrase3]]\n",
    "    label_pair = []\n",
    "    label_pair.append(label_tag)\n",
    "    label_pair.append(label_text_list)\n",
    "    \n",
    "    #Add to the master list of the individual regulation\n",
    "    reg_body_labeled.append(label_pair)   "
   ]
  },
  {
   "cell_type": "code",
   "execution_count": 275,
   "metadata": {
    "scrolled": true
   },
   "outputs": [
    {
     "data": {
      "text/plain": [
       "4"
      ]
     },
     "execution_count": 275,
     "metadata": {},
     "output_type": "execute_result"
    }
   ],
   "source": [
    "len(reg_body_labeled)"
   ]
  },
  {
   "cell_type": "code",
   "execution_count": 276,
   "metadata": {},
   "outputs": [
    {
     "data": {
      "text/plain": [
       "2"
      ]
     },
     "execution_count": 276,
     "metadata": {},
     "output_type": "execute_result"
    }
   ],
   "source": [
    "len(reg_body_labeled[0])"
   ]
  },
  {
   "cell_type": "code",
   "execution_count": 277,
   "metadata": {},
   "outputs": [
    {
     "data": {
      "text/plain": [
       "'Label: 1'"
      ]
     },
     "execution_count": 277,
     "metadata": {},
     "output_type": "execute_result"
    }
   ],
   "source": [
    "reg_body_labeled[0][0]"
   ]
  },
  {
   "cell_type": "code",
   "execution_count": 278,
   "metadata": {},
   "outputs": [
    {
     "data": {
      "text/plain": [
       "['Footnote',\n",
       " 'Emphasis',\n",
       " 'see',\n",
       " 'Label',\n",
       " 'XRefExternal',\n",
       " 'Jobs, Growth and Long-term Prosperity Act',\n",
       " 'MarginalNote',\n",
       " 'S.C. 2012, c. 19']"
      ]
     },
     "execution_count": 278,
     "metadata": {},
     "output_type": "execute_result"
    }
   ],
   "source": [
    "reg_body_labeled[3][1]"
   ]
  },
  {
   "cell_type": "code",
   "execution_count": 279,
   "metadata": {},
   "outputs": [
    {
     "data": {
      "text/plain": [
       "\"'', 'Footnote', ': ', '', ': ', 'Emphasis', ': ', 'see', ', ', 'Label', ': ', '*', ', ', '', ': ', 'XRefExternal', ': ', 'Jobs, Growth and Long-term Prosperity Act', ', ', 'MarginalNote', ': ', 'S.C. 2012, c. 19', ''\""
      ]
     },
     "execution_count": 279,
     "metadata": {},
     "output_type": "execute_result"
    }
   ],
   "source": [
    "string_clean(str(label_text))"
   ]
  },
  {
   "cell_type": "code",
   "execution_count": 195,
   "metadata": {
    "collapsed": true
   },
   "outputs": [],
   "source": [
    "test = (str(label_text)).split(\"'\")"
   ]
  },
  {
   "cell_type": "code",
   "execution_count": 196,
   "metadata": {},
   "outputs": [
    {
     "data": {
      "text/plain": [
       "list"
      ]
     },
     "execution_count": 196,
     "metadata": {},
     "output_type": "execute_result"
    }
   ],
   "source": [
    "type(test)"
   ]
  },
  {
   "cell_type": "code",
   "execution_count": 194,
   "metadata": {},
   "outputs": [
    {
     "name": "stdout",
     "output_type": "stream",
     "text": [
      "Footnote\n",
      "Emphasis\n",
      "see\n",
      "Label\n",
      "XRefExternal\n",
      "Jobs, Growth and Long-term Prosperity Act\n",
      "MarginalNote\n",
      "S.C. 2012, c. 19\n"
     ]
    }
   ],
   "source": [
    "for word in test:\n",
    "    if len(word) > 2:\n",
    "        print (word)"
   ]
  },
  {
   "cell_type": "code",
   "execution_count": null,
   "metadata": {
    "collapsed": true
   },
   "outputs": [],
   "source": []
  },
  {
   "cell_type": "code",
   "execution_count": 171,
   "metadata": {},
   "outputs": [
    {
     "data": {
      "text/plain": [
       "\"Label {'FootnoteRef': '*'} - \""
      ]
     },
     "execution_count": 171,
     "metadata": {},
     "output_type": "execute_result"
    }
   ],
   "source": [
    "label_tag"
   ]
  },
  {
   "cell_type": "code",
   "execution_count": null,
   "metadata": {
    "collapsed": true
   },
   "outputs": [],
   "source": []
  },
  {
   "cell_type": "code",
   "execution_count": 155,
   "metadata": {},
   "outputs": [
    {
     "data": {
      "text/plain": [
       "\"{'Footnote': {'Text': {'Emphasis': 'see'}, 'Label': '*'}, 'Text': {'XRefExternal': 'Jobs, Growth and Long-term Prosperity Act'}, 'MarginalNote': 'S.C. 2012, c. 19'}\""
      ]
     },
     "execution_count": 155,
     "metadata": {},
     "output_type": "execute_result"
    }
   ],
   "source": [
    "str(label_text)"
   ]
  },
  {
   "cell_type": "code",
   "execution_count": null,
   "metadata": {
    "collapsed": true
   },
   "outputs": [],
   "source": []
  },
  {
   "cell_type": "code",
   "execution_count": null,
   "metadata": {
    "collapsed": true
   },
   "outputs": [],
   "source": []
  },
  {
   "cell_type": "code",
   "execution_count": 143,
   "metadata": {},
   "outputs": [
    {
     "name": "stdout",
     "output_type": "stream",
     "text": [
      "Label {'FootnoteRef': '*'} - \n"
     ]
    }
   ],
   "source": [
    "print label_tag"
   ]
  },
  {
   "cell_type": "code",
   "execution_count": 144,
   "metadata": {},
   "outputs": [
    {
     "data": {
      "text/plain": [
       "{'HistoricalNote': 'SOR/2017-114, s. 5.',\n",
       " 'Label': '1',\n",
       " 'MarginalNote': {'DefinitionRef': 'government'},\n",
       " 'Text': {'DefinedTermEn': 'government',\n",
       "  'XRefExternal': 'CPA Canada Public Sector Accounting Handbook'}}"
      ]
     },
     "execution_count": 144,
     "metadata": {},
     "output_type": "execute_result"
    }
   ],
   "source": [
    "doc_dict['Regulation']['Body']['Section'][0]"
   ]
  },
  {
   "cell_type": "code",
   "execution_count": 145,
   "metadata": {},
   "outputs": [
    {
     "data": {
      "text/plain": [
       "\"{'Text': {'XRefExternal': 'CPA Canada Public Sector Accounting Handbook', 'DefinedTermEn': 'government'}, 'MarginalNote': {'DefinitionRef': 'government'}, 'HistoricalNote': 'SOR/2017-114, s. 5.', 'Label': '1'}\""
      ]
     },
     "execution_count": 145,
     "metadata": {},
     "output_type": "execute_result"
    }
   ],
   "source": [
    "str(doc_dict['Regulation']['Body']['Section'][0])"
   ]
  },
  {
   "cell_type": "code",
   "execution_count": null,
   "metadata": {
    "collapsed": true
   },
   "outputs": [],
   "source": []
  },
  {
   "cell_type": "code",
   "execution_count": 135,
   "metadata": {},
   "outputs": [
    {
     "data": {
      "text/plain": [
       "{'Footnote': {'Label': '*', 'Text': {'Emphasis': 'see'}},\n",
       " 'Label': {'FootnoteRef': '*'},\n",
       " 'MarginalNote': 'S.C. 2012, c. 19',\n",
       " 'Text': {'XRefExternal': 'Jobs, Growth and Long-term Prosperity Act'}}"
      ]
     },
     "execution_count": 135,
     "metadata": {},
     "output_type": "execute_result"
    }
   ],
   "source": [
    "doc_dict['Regulation']['Body']['Section'][3]"
   ]
  },
  {
   "cell_type": "code",
   "execution_count": null,
   "metadata": {
    "collapsed": true
   },
   "outputs": [],
   "source": []
  },
  {
   "cell_type": "code",
   "execution_count": null,
   "metadata": {
    "collapsed": true
   },
   "outputs": [],
   "source": []
  },
  {
   "cell_type": "code",
   "execution_count": null,
   "metadata": {
    "collapsed": true
   },
   "outputs": [],
   "source": []
  },
  {
   "cell_type": "code",
   "execution_count": null,
   "metadata": {
    "collapsed": true
   },
   "outputs": [],
   "source": []
  },
  {
   "cell_type": "code",
   "execution_count": null,
   "metadata": {
    "collapsed": true
   },
   "outputs": [],
   "source": []
  },
  {
   "cell_type": "code",
   "execution_count": null,
   "metadata": {
    "collapsed": true
   },
   "outputs": [],
   "source": []
  },
  {
   "cell_type": "code",
   "execution_count": null,
   "metadata": {
    "collapsed": true
   },
   "outputs": [],
   "source": []
  },
  {
   "cell_type": "code",
   "execution_count": null,
   "metadata": {
    "collapsed": true
   },
   "outputs": [],
   "source": []
  },
  {
   "cell_type": "code",
   "execution_count": null,
   "metadata": {
    "collapsed": true
   },
   "outputs": [],
   "source": []
  },
  {
   "cell_type": "code",
   "execution_count": null,
   "metadata": {
    "collapsed": true
   },
   "outputs": [],
   "source": []
  },
  {
   "cell_type": "code",
   "execution_count": 92,
   "metadata": {
    "collapsed": true
   },
   "outputs": [],
   "source": [
    "# Second test \n",
    "doc2 = etree.parse('SOR-2011-108.xml')\n",
    "doc_dict2 = make_dict_from_tree(doc2.getroot())\n",
    "\n",
    "\n"
   ]
  },
  {
   "cell_type": "code",
   "execution_count": 93,
   "metadata": {},
   "outputs": [
    {
     "data": {
      "text/plain": [
       "['Section', 'Heading']"
      ]
     },
     "execution_count": 93,
     "metadata": {},
     "output_type": "execute_result"
    }
   ],
   "source": [
    "doc_dict2['Regulation']['Body'].keys()"
   ]
  },
  {
   "cell_type": "code",
   "execution_count": 97,
   "metadata": {},
   "outputs": [
    {
     "data": {
      "text/plain": [
       "12"
      ]
     },
     "execution_count": 97,
     "metadata": {},
     "output_type": "execute_result"
    }
   ],
   "source": [
    "len(doc_dict2['Regulation']['Body']['Section'])"
   ]
  },
  {
   "cell_type": "code",
   "execution_count": 111,
   "metadata": {},
   "outputs": [
    {
     "data": {
      "text/plain": [
       "{'Label': '1',\n",
       " 'MarginalNote': 'Definitions',\n",
       " 'Subsection': [{'Label': '(1)',\n",
       "   'Text': {'XRefExternal': 'Financial Administration Act'}},\n",
       "  {'Definition': [{'MarginalNote': [{'DefinedTermEn': 'action or proceeding'},\n",
       "      {'DefinedTermFr': u'enqu\\xeate ou proc\\xe9dure'}],\n",
       "     'Text': {'DefinedTermEn': 'action or proceeding'}},\n",
       "    {'MarginalNote': [{'DefinedTermEn': 'officer'},\n",
       "      {'DefinedTermFr': 'dirigeant'}],\n",
       "     'Text': {'DefinedTermEn': 'officer'}},\n",
       "    {'MarginalNote': [{'DefinedTermEn': 'party'}, {'DefinedTermFr': 'partie'}],\n",
       "     'Text': {'DefinedTermEn': 'party'}}],\n",
       "   'Label': '(2)',\n",
       "   'MarginalNote': 'Definitions',\n",
       "   'Text': 'The following definitions apply for the purposes of section 119 of the Act,'}]}"
      ]
     },
     "execution_count": 111,
     "metadata": {},
     "output_type": "execute_result"
    }
   ],
   "source": [
    "doc_dict2['Regulation']['Body']['Section'][0]"
   ]
  },
  {
   "cell_type": "code",
   "execution_count": 112,
   "metadata": {},
   "outputs": [
    {
     "data": {
      "text/plain": [
       "['Subsection', 'MarginalNote', 'Label']"
      ]
     },
     "execution_count": 112,
     "metadata": {},
     "output_type": "execute_result"
    }
   ],
   "source": [
    "doc_dict2['Regulation']['Body']['Section'][0].keys()"
   ]
  },
  {
   "cell_type": "code",
   "execution_count": 121,
   "metadata": {},
   "outputs": [
    {
     "data": {
      "text/plain": [
       "{'Definition': [{'MarginalNote': [{'DefinedTermEn': 'action or proceeding'},\n",
       "    {'DefinedTermFr': u'enqu\\xeate ou proc\\xe9dure'}],\n",
       "   'Text': {'DefinedTermEn': 'action or proceeding'}},\n",
       "  {'MarginalNote': [{'DefinedTermEn': 'officer'},\n",
       "    {'DefinedTermFr': 'dirigeant'}],\n",
       "   'Text': {'DefinedTermEn': 'officer'}},\n",
       "  {'MarginalNote': [{'DefinedTermEn': 'party'}, {'DefinedTermFr': 'partie'}],\n",
       "   'Text': {'DefinedTermEn': 'party'}}],\n",
       " 'Label': '(2)',\n",
       " 'MarginalNote': 'Definitions',\n",
       " 'Text': 'The following definitions apply for the purposes of section 119 of the Act,'}"
      ]
     },
     "execution_count": 121,
     "metadata": {},
     "output_type": "execute_result"
    }
   ],
   "source": [
    "doc_dict2['Regulation']['Body']['Section'][0]['Subsection'][1]"
   ]
  },
  {
   "cell_type": "code",
   "execution_count": null,
   "metadata": {
    "collapsed": true
   },
   "outputs": [],
   "source": []
  },
  {
   "cell_type": "code",
   "execution_count": null,
   "metadata": {
    "collapsed": true
   },
   "outputs": [],
   "source": []
  },
  {
   "cell_type": "code",
   "execution_count": 96,
   "metadata": {},
   "outputs": [
    {
     "data": {
      "text/plain": [
       "[{'Label': '1',\n",
       "  'MarginalNote': 'Definitions',\n",
       "  'Subsection': [{'Label': '(1)',\n",
       "    'Text': {'XRefExternal': 'Financial Administration Act'}},\n",
       "   {'Definition': [{'MarginalNote': [{'DefinedTermEn': 'action or proceeding'},\n",
       "       {'DefinedTermFr': u'enqu\\xeate ou proc\\xe9dure'}],\n",
       "      'Text': {'DefinedTermEn': 'action or proceeding'}},\n",
       "     {'MarginalNote': [{'DefinedTermEn': 'officer'},\n",
       "       {'DefinedTermFr': 'dirigeant'}],\n",
       "      'Text': {'DefinedTermEn': 'officer'}},\n",
       "     {'MarginalNote': [{'DefinedTermEn': 'party'},\n",
       "       {'DefinedTermFr': 'partie'}],\n",
       "      'Text': {'DefinedTermEn': 'party'}}],\n",
       "    'Label': '(2)',\n",
       "    'MarginalNote': 'Definitions',\n",
       "    'Text': 'The following definitions apply for the purposes of section 119 of the Act,'}]},\n",
       " {'Label': '2',\n",
       "  'MarginalNote': 'Request',\n",
       "  'Subsection': [{'Label': '(1)',\n",
       "    'Text': 'A request for an indemnification or advance under section 119 of the Act shall be made in writing to the Secretary of the Treasury Board as soon as feasible after the director or officer becomes a party to an action or proceeding or incurs a cost, charge or expense.'},\n",
       "   {'Label': '(2)',\n",
       "    'MarginalNote': 'Content',\n",
       "    'Paragraph': [{'Label': '(a)',\n",
       "      'Text': 'specify the capacity and period in which the director or officer has served the Crown corporation;'},\n",
       "     {'Label': '(b)',\n",
       "      'Text': 'include a description of the nature of the action or proceeding;'},\n",
       "     {'Label': '(c)',\n",
       "      'Text': 'specify the amount requested and the amount that has already been approved in respect of the action or proceeding;'},\n",
       "     {'Label': '(d)',\n",
       "      'Text': 'include a copy of any court documents or other documents exchanged by the parties in relation to the action or proceeding that contain a statement of the material facts relied upon and the relief claimed;'},\n",
       "     {'Label': '(e)',\n",
       "      'Text': 'specify the name of the legal counsel retained or to be retained;'},\n",
       "     {'Label': '(f)',\n",
       "      'Text': 'provide a detailed accounting of the costs, charges and expenses that have been incurred in respect of the action or proceeding including any amount paid to settle the action or proceeding or satisfy a judgment and an estimate of any such costs, charges or expenses expected to be incurred in respect of the action or proceeding;'},\n",
       "     {'Label': '(g)',\n",
       "      'Text': 'include a copy of any invoices and other supporting documents that reflect the amounts paid or payable in respect of the action or proceeding;'},\n",
       "     {'Label': '(h)',\n",
       "      'Text': 'any information that may be used to rebut a presumption referred to in section 3; and'},\n",
       "     {'Label': '(i)',\n",
       "      'Text': 'in the case of a request related to an internal investigation or internal proceeding, any information that demonstrates that the investigation or proceeding is likely to have or has had serious financial or other personal consequences for the director or officer.'}],\n",
       "    'Text': 'The request shall'},\n",
       "   {'Label': '(3)',\n",
       "    'MarginalNote': 'Additional information',\n",
       "    'Text': 'The individual making the request shall, on the request of the Secretary of the Treasury Board, provide any other information required to assess whether the individual is entitled to an indemnification or advance and the amount of the indemnification or advance.'}]},\n",
       " {'Label': '3',\n",
       "  'MarginalNote': 'Presumption',\n",
       "  'Paragraph': [{'Label': '(a)',\n",
       "    'Text': 'the director or officer initiates the action or proceeding, unless it forms part of a legitimate defence to an action or proceeding in respect of which an indemnification or advance is paid to the director or officer under section 119 of the Act; or'},\n",
       "   {'Label': '(b)',\n",
       "    'Text': 'the Crown corporation served by the director or officer commenced the action or proceeding against the director or officer.'}],\n",
       "  'Text': 'A director or officer is presumed not to have fulfilled the condition set out in paragraph 119 (1)(a) of the Act if'},\n",
       " {'Label': '4',\n",
       "  'MarginalNote': 'Requests no more than $100,000',\n",
       "  'Subsection': [{'Label': '(1)',\n",
       "    'Text': 'The Secretary of the Treasury Board shall make a decision in relation to a request if the sum of the amount requested and any other amounts already approved in respect of the same action or proceeding is no more than $100,000.'},\n",
       "   {'Label': '(2)',\n",
       "    'MarginalNote': 'Notice',\n",
       "    'Text': 'Notification of the decision shall be made in writing within 30 days of receipt of the request.'}]},\n",
       " {'Label': '5',\n",
       "  'MarginalNote': 'Requests more than $100,000 and no more than $250,000',\n",
       "  'Subsection': [{'Label': '(1)',\n",
       "    'Text': 'The President of the Treasury Board shall make a decision in relation to a request if the sum of the amount requested and any other amounts already approved in respect of the same action or proceeding exceeds $100,000 but is no more than $250,000.'},\n",
       "   {'Label': '(2)',\n",
       "    'MarginalNote': 'Notice',\n",
       "    'Text': 'Notification of the decision shall be made in writing within 30 days of receipt of the request.'}]},\n",
       " {'Label': '6',\n",
       "  'MarginalNote': 'Requests more than $250,000',\n",
       "  'Subsection': [{'Label': '(1)',\n",
       "    'Text': 'The Treasury Board shall make a decision in relation to a request if the sum of the amount requested and any other amounts already approved in respect of the same action or proceeding is more than $250,000.'},\n",
       "   {'Label': '(2)',\n",
       "    'MarginalNote': 'Notice',\n",
       "    'Text': 'Notification of the decision shall be made in writing within 90 days of receipt of the request.'}]},\n",
       " {'Label': '7',\n",
       "  'MarginalNote': 'Reasons',\n",
       "  'Text': 'If the request is rejected in whole or in part, the notice shall include the reasons for that decision.'},\n",
       " {'Label': '8',\n",
       "  'MarginalNote': 'Expenses, costs or charges to be approved',\n",
       "  'Paragraph': [{'Label': '(a)',\n",
       "    'Text': 'whether it is or was necessary to retain legal counsel before the commencement of an action or proceeding;'},\n",
       "   {'Label': '(b)',\n",
       "    'Text': 'the skill, experience and specialized knowledge of the legal counsel;'},\n",
       "   {'Label': '(c)', 'Text': 'the complexity and novelty of the matter;'},\n",
       "   {'Label': '(d)',\n",
       "    'Text': 'the amount of money or value of any property that is involved;'},\n",
       "   {'Label': '(e)',\n",
       "    'Text': 'the time expended or to be expended by the legal counsel;'},\n",
       "   {'Label': '(f)', 'Text': 'the number of documents prepared; and'},\n",
       "   {'Label': '(g)',\n",
       "    'Text': 'the place where, and the circumstances under which, the services are rendered.'}],\n",
       "  'Text': 'In determining whether costs, charges or expenses are reasonably incurred, the Secretary or President of the Treasury Board, or the Treasury Board, as the case may be, shall take into consideration, among other things,'},\n",
       " {'Label': '9',\n",
       "  'MarginalNote': 'Non-permitted basis for refusal',\n",
       "  'Paragraph': [{'Label': '(a)',\n",
       "    'Text': 'the director or officer, as the case may be, acted negligently; or'},\n",
       "   {'Label': '(b)',\n",
       "    'Text': 'the director or officer has agreed to a settlement of the action or proceeding.'}],\n",
       "  'Text': 'A request for an indemnification or an advance shall not be refused based solely on the fact that'},\n",
       " {'Label': '10',\n",
       "  'MarginalNote': 'Obligations',\n",
       "  'Paragraph': [{'Label': '(a)',\n",
       "    'Text': 'providing a written undertaking to the Secretary of the Treasury Board in the form required by the Treasury Board to reimburse any amounts to which they are not entitled;'},\n",
       "   {'Label': '(b)',\n",
       "    'Text': 'providing a written authorization to pay to Her Majesty any amounts that the director or officer is to receive or is awarded as costs, charges and expenses;'},\n",
       "   {'Label': '(c)',\n",
       "    'Text': 'notifying the Secretary of the Treasury Board in writing of any substantial changes to the information that is required under subsection 2(2) including the details of any settlement of the action or proceeding;'},\n",
       "   {'Label': '(d)',\n",
       "    'Text': 'providing, on the request of the Secretary or President of the Treasury Board, or the Treasury Board, as the case may be, information with respect to the progress of the action or proceeding, any changes in scope of liability or any other matter relevant to the indemnification or advance that has been approved;'},\n",
       "   {'Label': '(e)',\n",
       "    'Text': 'if the approval is given prior to the conclusion of the action or proceeding, submitting to the Secretary of the Treasury Board, on a monthly basis, any invoice and any other supporting documents that reflect the costs incurred; and'},\n",
       "   {'Label': '(f)',\n",
       "    'Text': 'providing to the Secretary of the Treasury Board at the conclusion of the action or proceeding a final accounting of any amounts advanced and reimbursing any amounts that are not expended.'}],\n",
       "  'Text': 'Any approval of an indemnification or an advance under section 4, 5 or 6 is conditional on the individual'},\n",
       " {'Label': '11',\n",
       "  'MarginalNote': 'Repayment',\n",
       "  'Paragraph': [{'Label': '(a)',\n",
       "    'Text': 'if the conditions set out in section 10 are not met;'},\n",
       "   {'Label': '(b)',\n",
       "    'Text': 'if the amounts are approved as a result of a misrepresentation or the concealment of a material fact; or'},\n",
       "   {'Label': '(c)',\n",
       "    'Text': 'if the amounts are paid as the result of an administrative error.'}],\n",
       "  'Text': 'Any amounts indemnified or advanced shall be repaid'},\n",
       " {'Label': '12',\n",
       "  'MarginalNote': 'Registration',\n",
       "  'Text': 'These Regulations come into force on the day on which they are registered.'}]"
      ]
     },
     "execution_count": 96,
     "metadata": {},
     "output_type": "execute_result"
    }
   ],
   "source": [
    "doc_dict2['Regulation']['Body']['Section']"
   ]
  },
  {
   "cell_type": "code",
   "execution_count": null,
   "metadata": {
    "collapsed": true
   },
   "outputs": [],
   "source": []
  },
  {
   "cell_type": "code",
   "execution_count": 90,
   "metadata": {},
   "outputs": [
    {
     "data": {
      "text/plain": [
       "{'HistoricalNote': 'SOR/2017-114, s. 5.',\n",
       " 'Label': '1',\n",
       " 'MarginalNote': {'DefinitionRef': 'government'},\n",
       " 'Text': {'DefinedTermEn': 'government',\n",
       "  'XRefExternal': 'CPA Canada Public Sector Accounting Handbook'}}"
      ]
     },
     "execution_count": 90,
     "metadata": {},
     "output_type": "execute_result"
    }
   ],
   "source": [
    "doc_dict2['Regulation']['Body']['Section'][0]"
   ]
  },
  {
   "cell_type": "code",
   "execution_count": 91,
   "metadata": {},
   "outputs": [
    {
     "data": {
      "text/plain": [
       "{'HistoricalNote': 'SOR/2017-114, s. 3.',\n",
       " 'Label': '2',\n",
       " 'MarginalNote': 'Meaning',\n",
       " 'Subsection': [{'Label': '(1)',\n",
       "   'Paragraph': [{'Label': '(a)',\n",
       "     'Text': 'an obligation incurred as a result of any loan of money received by the government, including a loan made by the issuance and sale of bonds, debentures, notes or any other evidence of indebtedness;'},\n",
       "    {'Label': '(b)', 'Text': {'XRefInternal': '3'}},\n",
       "    {'Label': '(c)', 'Text': {'XRefInternal': '3'}},\n",
       "    {'Label': '(d)',\n",
       "     'Text': 'a contingent liability incurred as a result of any loan guarantee provided by the government.'}],\n",
       "   'Text': {'XRefExternal': 'Northwest Territories Act'}},\n",
       "  {'Label': '(2)',\n",
       "   'MarginalNote': 'Exclusions',\n",
       "   'Paragraph': [{'Label': '(a)',\n",
       "     'Text': 'an obligation, liability or contingent liability incurred as a result of any transaction referred to in subsection (1) between any two parties within the government; and'},\n",
       "    {'Label': '(b)',\n",
       "     'Text': {'XRefExternal': ['National Housing Act',\n",
       "       'National Housing Act']}}],\n",
       "   'Text': 'Each of the following does not constitute or is deemed not to constitute borrowing:'}]}"
      ]
     },
     "execution_count": 91,
     "metadata": {},
     "output_type": "execute_result"
    }
   ],
   "source": [
    "doc_dict2['Regulation']['Body']['Section'][1]"
   ]
  },
  {
   "cell_type": "code",
   "execution_count": null,
   "metadata": {
    "collapsed": true
   },
   "outputs": [],
   "source": []
  },
  {
   "cell_type": "code",
   "execution_count": null,
   "metadata": {
    "collapsed": true
   },
   "outputs": [],
   "source": []
  },
  {
   "cell_type": "code",
   "execution_count": 6,
   "metadata": {
    "collapsed": true
   },
   "outputs": [],
   "source": [
    "#Iterate through all the regulations\n",
    "files = [f for f in os.listdir('.') if os.path.isfile(f)]\n",
    "counter = 0\n",
    "\n",
    "for file in files:\n",
    "    if (file != 'Regulation Exploration AW - V1.ipynb') & (file != 'Regulation Exploration AW - V2.ipynb') & (file != 'Regulation Exploration AW - V3 - PartialTest.ipynb') & (file != 'Regulation Exploration AW - V3 - Full.ipynb') & (file != 'Regulation Exploration AW - V4'):\n",
    "\n",
    "        #Parse each xml file\n",
    "        doc = etree.parse(file)\n",
    "        doc_dict = make_dict_from_tree(doc.getroot())\n",
    "\n",
    "        #Extracting all the Identification Headers\n",
    "        try:\n",
    "            InstrumentNumber = doc_dict['Regulation']['Identification']['InstrumentNumber']\n",
    "        except: \n",
    "            InstrumentNumber = \"\"\n",
    "\n",
    "        try:\n",
    "            RegistrationDate_Year = doc_dict['Regulation']['Identification']['RegistrationDate']['Date']['YYYY']\n",
    "            RegistrationDate_Month = doc_dict['Regulation']['Identification']['RegistrationDate']['Date']['MM']\n",
    "            RegistrationDate_Day = doc_dict['Regulation']['Identification']['RegistrationDate']['Date']['DD']\n",
    "            RegistrationDate = RegistrationDate_Month + \"/\" + RegistrationDate_Day + \"/\" + RegistrationDate_Year\n",
    "        except: \n",
    "            RegistrationDate = \"\"\n",
    "\n",
    "        try:\n",
    "            ConsolidationDate_Year = doc_dict['Regulation']['Identification']['ConsolidationDate']['Date']['YYYY']\n",
    "            ConsolidationDate_Month = doc_dict['Regulation']['Identification']['ConsolidationDate']['Date']['MM']\n",
    "            ConsolidationDate_Day = doc_dict['Regulation']['Identification']['ConsolidationDate']['Date']['DD']\n",
    "            ConsolidationDate = ConsolidationDate_Month + \"/\" + ConsolidationDate_Day + \"/\" + ConsolidationDate_Year\n",
    "        except: \n",
    "            ConsolidationDate = \"\"\n",
    "\n",
    "        try:\n",
    "            LastModifiedDate_Year = doc_dict['Regulation']['Identification']['LastModifiedDate']['Date']['YYYY']\n",
    "            LastModifiedDate_Month = doc_dict['Regulation']['Identification']['LastModifiedDate']['Date']['MM']\n",
    "            LastModifiedDate_Day = doc_dict['Regulation']['Identification']['LastModifiedDate']['Date']['DD']\n",
    "            LastModifiedDate = LastModifiedDate_Month + \"/\" + LastModifiedDate_Day + \"/\" + LastModifiedDate_Year\n",
    "        except:\n",
    "            LastModifiedDate = \"\"\n",
    "\n",
    "        try:\n",
    "            EnablingAuthority = doc_dict['Regulation']['Identification']['EnablingAuthority'].values()\n",
    "        except:\n",
    "            EnablingAuthority = \"\"\n",
    "\n",
    "        try:\n",
    "            ShortTitle = doc_dict['Regulation']['Identification']['ShortTitle']\n",
    "        except:\n",
    "            ShortTitle = \"\"\n",
    "\n",
    "        try:\n",
    "            LongTitle = doc_dict['Regulation']['Identification']['LongTitle']\n",
    "        except:\n",
    "            LongTitle = \"\"\n",
    "\n",
    "        try:\n",
    "            RegulationMaker = doc_dict['Regulation']['Identification']['RegulationMakerOrder']['RegulationMaker']\n",
    "        except:\n",
    "            RegulationMaker = \"\"\n",
    "\n",
    "        try:\n",
    "            RegulationOrderNumber = doc_dict['Regulation']['Identification']['RegulationMakerOrder']['OrderNumber']\n",
    "        except:\n",
    "            RegulationOrderNumber = \"\"\n",
    "\n",
    "        try:\n",
    "            RegulationMakerOrderDate_Year = doc_dict['Regulation']['Identification']['RegulationMakerOrder']['Date']['YYYY']\n",
    "            RegulationMakerOrderDate_Month = doc_dict['Regulation']['Identification']['RegulationMakerOrder']['Date']['MM']\n",
    "            RegulationMakerOrderDate_Day = doc_dict['Regulation']['Identification']['RegulationMakerOrder']['Date']['DD']\n",
    "            RegulationMakerOrderDate = RegulationMakerOrderDate_Month + \"/\" + RegulationMakerOrderDate_Day + \"/\" + RegulationMakerOrderDate_Year\n",
    "        except:\n",
    "            RegulationMakerOrderDate = \"\"\n",
    "\n",
    "        #Order Section of the Regulation\n",
    "        try:\n",
    "            len_order = len(doc_dict['Regulation']['Order']['Provision'])\n",
    "            order = str(doc_dict['Regulation']['Order'].values())\n",
    "        except:\n",
    "            order = \"\"\n",
    "\n",
    "        #Body Section of the Regulation\n",
    "        try:\n",
    "            len_body = len(doc_dict['Regulation']['Body']['Section'])    \n",
    "            body = str(doc_dict['Regulation']['Body'].values())\n",
    "        except:\n",
    "            body = \"\"\n",
    "\n",
    "        #Schedule Section of the Regulation\n",
    "        try:\n",
    "            schedule = doc_dict['Regulation']['Schedule'].values()\n",
    "        except:\n",
    "            schedule = \"\"\n",
    "     \n",
    "        #Append to all of the lists\n",
    "        list_InstrumentNumber.append(InstrumentNumber)\n",
    "        list_RegistrationDate.append(RegistrationDate)\n",
    "        list_ConsolidationDate.append(ConsolidationDate)\n",
    "        list_LastModifiedDate.append(LastModifiedDate)\n",
    "        list_EnablingAuthority.append(EnablingAuthority)\n",
    "        list_ShortTitle.append(ShortTitle)\n",
    "        list_LongTitle.append(LongTitle)\n",
    "        list_RegulationMaker.append(RegulationMaker)\n",
    "        list_RegulationOrderNumber.append(RegulationOrderNumber)\n",
    "        list_RegulationMakerOrderDate.append(RegulationMakerOrderDate)\n",
    "        list_len_order.append(len_order)\n",
    "        list_order.append(order)\n",
    "        list_len_body.append(len_body)\n",
    "        list_body.append(body)\n",
    "\n",
    "    else:\n",
    "        pass"
   ]
  },
  {
   "cell_type": "code",
   "execution_count": 11,
   "metadata": {
    "collapsed": true
   },
   "outputs": [],
   "source": [
    "#Create final dataframe \n",
    "df = pd.DataFrame()\n",
    "df[\"Instrumentation_Num\"] = list_InstrumentNumber\n",
    "df[\"Registration_Date\"] = list_RegistrationDate\n",
    "df[\"Consolidation_Date\"] = list_ConsolidationDate\n",
    "df[\"Last_Mod_Date\"] = list_LastModifiedDate\n",
    "df[\"Enabling_Authority\"] = list_EnablingAuthority\n",
    "df[\"Short_Title\"] = list_ShortTitle\n",
    "df[\"Long_Title\"] = list_LongTitle\n",
    "df[\"Reg_Maker\"] = list_RegulationMaker\n",
    "df[\"Reg_Order_Num\"] = list_RegulationOrderNumber\n",
    "df[\"Reg_Order_Maker_Date\"] = list_RegulationMakerOrderDate\n",
    "df[\"Length_Order\"] = list_len_order\n",
    "df[\"Order\"] = list_order\n",
    "df[\"Length_Body\"] = list_len_body\n",
    "df[\"Body\"] = list_body"
   ]
  },
  {
   "cell_type": "code",
   "execution_count": 12,
   "metadata": {},
   "outputs": [
    {
     "data": {
      "text/plain": [
       "2628"
      ]
     },
     "execution_count": 12,
     "metadata": {},
     "output_type": "execute_result"
    }
   ],
   "source": [
    "len(list_LastModifiedDate)"
   ]
  },
  {
   "cell_type": "code",
   "execution_count": 13,
   "metadata": {},
   "outputs": [
    {
     "data": {
      "text/plain": [
       "2628"
      ]
     },
     "execution_count": 13,
     "metadata": {},
     "output_type": "execute_result"
    }
   ],
   "source": [
    "len(list_body)"
   ]
  },
  {
   "cell_type": "code",
   "execution_count": 14,
   "metadata": {},
   "outputs": [
    {
     "data": {
      "text/html": [
       "<div>\n",
       "<style>\n",
       "    .dataframe thead tr:only-child th {\n",
       "        text-align: right;\n",
       "    }\n",
       "\n",
       "    .dataframe thead th {\n",
       "        text-align: left;\n",
       "    }\n",
       "\n",
       "    .dataframe tbody tr th {\n",
       "        vertical-align: top;\n",
       "    }\n",
       "</style>\n",
       "<table border=\"1\" class=\"dataframe\">\n",
       "  <thead>\n",
       "    <tr style=\"text-align: right;\">\n",
       "      <th></th>\n",
       "      <th>Instrumentation_Num</th>\n",
       "      <th>Registration_Date</th>\n",
       "      <th>Consolidation_Date</th>\n",
       "      <th>Last_Mod_Date</th>\n",
       "      <th>Enabling_Authority</th>\n",
       "      <th>Short_Title</th>\n",
       "      <th>Long_Title</th>\n",
       "      <th>Reg_Maker</th>\n",
       "      <th>Reg_Order_Num</th>\n",
       "      <th>Reg_Order_Maker_Date</th>\n",
       "      <th>Length_Order</th>\n",
       "      <th>Order</th>\n",
       "      <th>Length_Body</th>\n",
       "      <th>Body</th>\n",
       "    </tr>\n",
       "  </thead>\n",
       "  <tbody>\n",
       "    <tr>\n",
       "      <th>0</th>\n",
       "      <td>SOR/2000-1</td>\n",
       "      <td>12/14/1999</td>\n",
       "      <td>06/21/2018</td>\n",
       "      <td>3/13/2008</td>\n",
       "      <td>[[PUBLIC SERVICE SUPERANNUATION ACT, FINANCIAL...</td>\n",
       "      <td></td>\n",
       "      <td>Certain Canada Port Authorities Divestiture Re...</td>\n",
       "      <td>T.B.</td>\n",
       "      <td>827750</td>\n",
       "      <td>12/9/1999</td>\n",
       "      <td>2</td>\n",
       "      <td>[{'Footnote': {'Text': 'S.C. 1992, c. 46, s. 2...</td>\n",
       "      <td>11</td>\n",
       "      <td>[[{'Text': 'The definitions in this section ap...</td>\n",
       "    </tr>\n",
       "    <tr>\n",
       "      <th>1</th>\n",
       "      <td>SOR/2000-100</td>\n",
       "      <td>3/15/2000</td>\n",
       "      <td>06/21/2018</td>\n",
       "      <td>4/27/2006</td>\n",
       "      <td>[FEDERAL-PROVINCIAL FISCAL ARRANGEMENTS ACT]</td>\n",
       "      <td></td>\n",
       "      <td>Federal-Provincial Fiscal Arrangements Regulat...</td>\n",
       "      <td>P.C.</td>\n",
       "      <td>2000-317</td>\n",
       "      <td>3/15/2000</td>\n",
       "      <td>2</td>\n",
       "      <td>[{'Footnote': [{'Text': 'S.C. 1999, c. 31, s. ...</td>\n",
       "      <td>31</td>\n",
       "      <td>[[{'Text': {'Repealed': '[Repealed, SOR/2007-3...</td>\n",
       "    </tr>\n",
       "    <tr>\n",
       "      <th>2</th>\n",
       "      <td>SOR/2000-107</td>\n",
       "      <td>3/23/2000</td>\n",
       "      <td>06/21/2018</td>\n",
       "      <td>6/20/2005</td>\n",
       "      <td>[CANADIAN ENVIRONMENTAL PROTECTION ACT, 1999]</td>\n",
       "      <td></td>\n",
       "      <td>Persistence and Bioaccumulation Regulations</td>\n",
       "      <td>P.C.</td>\n",
       "      <td>2000-348</td>\n",
       "      <td>3/23/2000</td>\n",
       "      <td>3</td>\n",
       "      <td>[[{'Footnote': {'Text': 'S.C. 1999, c. 33', 'L...</td>\n",
       "      <td>6</td>\n",
       "      <td>[[{'Text': 'The definitions in this section ap...</td>\n",
       "    </tr>\n",
       "    <tr>\n",
       "      <th>3</th>\n",
       "      <td>SOR/2000-108</td>\n",
       "      <td>3/23/2000</td>\n",
       "      <td>06/21/2018</td>\n",
       "      <td>6/22/2005</td>\n",
       "      <td>[CANADIAN ENVIRONMENTAL PROTECTION ACT, 1999]</td>\n",
       "      <td></td>\n",
       "      <td>Export Control List Notification Regulations</td>\n",
       "      <td>P.C.</td>\n",
       "      <td>2000-349</td>\n",
       "      <td>3/23/2000</td>\n",
       "      <td>1</td>\n",
       "      <td>[{'Text': {'Repealed': '[Repealed, SOR/2013-88...</td>\n",
       "      <td>5</td>\n",
       "      <td>[[{'Text': {'Repealed': '[Repealed, SOR/2013-8...</td>\n",
       "    </tr>\n",
       "    <tr>\n",
       "      <th>4</th>\n",
       "      <td>SOR/2000-111</td>\n",
       "      <td>3/23/2000</td>\n",
       "      <td>06/21/2018</td>\n",
       "      <td>8/18/2005</td>\n",
       "      <td>[AERONAUTICS ACT]</td>\n",
       "      <td></td>\n",
       "      <td>Canadian Aviation Security Regulations</td>\n",
       "      <td>P.C.</td>\n",
       "      <td>2000-364</td>\n",
       "      <td>3/23/2000</td>\n",
       "      <td>1</td>\n",
       "      <td>[{'Text': {'Repealed': '[Repealed, SOR/2011-31...</td>\n",
       "      <td>119</td>\n",
       "      <td>[[{'Text': {'Repealed': '[Repealed, SOR/2011-3...</td>\n",
       "    </tr>\n",
       "    <tr>\n",
       "      <th>5</th>\n",
       "      <td>SOR/2000-112</td>\n",
       "      <td>3/23/2000</td>\n",
       "      <td>06/21/2018</td>\n",
       "      <td>8/18/2005</td>\n",
       "      <td>[AERONAUTICS ACT]</td>\n",
       "      <td></td>\n",
       "      <td>Designated Provisions Regulations</td>\n",
       "      <td>P.C.</td>\n",
       "      <td>2000-365</td>\n",
       "      <td>3/23/2000</td>\n",
       "      <td>2</td>\n",
       "      <td>[{'Footnote': {'Text': 'S.C. 1992, c. 4, s. 19...</td>\n",
       "      <td>6</td>\n",
       "      <td>[[{'Text': 'The definitions in this section ap...</td>\n",
       "    </tr>\n",
       "    <tr>\n",
       "      <th>6</th>\n",
       "      <td>SOR/2000-113</td>\n",
       "      <td>3/23/2000</td>\n",
       "      <td>06/21/2018</td>\n",
       "      <td>9/22/2005</td>\n",
       "      <td>[BANK ACT]</td>\n",
       "      <td></td>\n",
       "      <td>Insider Reports Exemptions (Banks) Regulations</td>\n",
       "      <td>P.C.</td>\n",
       "      <td>2000-368</td>\n",
       "      <td>3/23/2000</td>\n",
       "      <td>2</td>\n",
       "      <td></td>\n",
       "      <td>2</td>\n",
       "      <td>[[{'Text': {'Repealed': '[Repealed, SOR/2006-3...</td>\n",
       "    </tr>\n",
       "    <tr>\n",
       "      <th>7</th>\n",
       "      <td>SOR/2000-131</td>\n",
       "      <td>3/30/2000</td>\n",
       "      <td>06/21/2018</td>\n",
       "      <td>5/5/2006</td>\n",
       "      <td>[PUBLIC SERVICE LABOUR RELATIONS ACT]</td>\n",
       "      <td></td>\n",
       "      <td>Order Designating the Staff of the Non-Public ...</td>\n",
       "      <td>P.C.</td>\n",
       "      <td>2000-442</td>\n",
       "      <td>3/30/2000</td>\n",
       "      <td>2</td>\n",
       "      <td>[{'Footnote': {'Text': 'S.C. 1999, c. 26, s. 1...</td>\n",
       "      <td>2</td>\n",
       "      <td></td>\n",
       "    </tr>\n",
       "    <tr>\n",
       "      <th>8</th>\n",
       "      <td>SOR/2000-132</td>\n",
       "      <td>3/30/2000</td>\n",
       "      <td>06/21/2018</td>\n",
       "      <td>10/16/2008</td>\n",
       "      <td>[PILOTAGE ACT]</td>\n",
       "      <td></td>\n",
       "      <td>General Pilotage Regulations</td>\n",
       "      <td>P.C.</td>\n",
       "      <td>2000-444</td>\n",
       "      <td>3/30/ 2000</td>\n",
       "      <td>2</td>\n",
       "      <td>[{'Footnote': {'Text': 'R.S., c. 31 (1st Supp....</td>\n",
       "      <td>29</td>\n",
       "      <td>[[{'Text': 'The definitions in this section ap...</td>\n",
       "    </tr>\n",
       "    <tr>\n",
       "      <th>9</th>\n",
       "      <td>SOR/2000-14</td>\n",
       "      <td>12/16/1999</td>\n",
       "      <td>06/21/2018</td>\n",
       "      <td>1/10/2006</td>\n",
       "      <td>[NATIONAL DEFENCE ACT]</td>\n",
       "      <td></td>\n",
       "      <td>Military Police Professional Code of Conduct</td>\n",
       "      <td>P.C.</td>\n",
       "      <td>1999-2213</td>\n",
       "      <td>12/16/1999</td>\n",
       "      <td>2</td>\n",
       "      <td>[{'Footnote': {'Text': 'S.C. 1998, c. 35, s. 5...</td>\n",
       "      <td>9</td>\n",
       "      <td>[[{'Text': {'XRefExternal': 'National Defence ...</td>\n",
       "    </tr>\n",
       "    <tr>\n",
       "      <th>10</th>\n",
       "      <td>SOR/2000-141</td>\n",
       "      <td>4/6/2000</td>\n",
       "      <td>06/21/2018</td>\n",
       "      <td>1/10/2006</td>\n",
       "      <td>[ROYAL CANADIAN MOUNTED POLICE ACT]</td>\n",
       "      <td></td>\n",
       "      <td>Commissioner’s Standing Orders (Dispute Resolu...</td>\n",
       "      <td></td>\n",
       "      <td></td>\n",
       "      <td></td>\n",
       "      <td>1</td>\n",
       "      <td>[{'Text': {'Repealed': '[Repealed, SOR/2010-18...</td>\n",
       "      <td>28</td>\n",
       "      <td>[[{'Text': {'Repealed': '[Repealed, SOR/2010-1...</td>\n",
       "    </tr>\n",
       "    <tr>\n",
       "      <th>11</th>\n",
       "      <td>SOR/2000-142</td>\n",
       "      <td>4/7/2000</td>\n",
       "      <td>06/21/2018</td>\n",
       "      <td>11/27/2008</td>\n",
       "      <td>[[EXPROPRIATION ACT, DRY DOCKS SUBSIDIES ACT, ...</td>\n",
       "      <td></td>\n",
       "      <td>Expropriation Fees Regulations</td>\n",
       "      <td></td>\n",
       "      <td></td>\n",
       "      <td></td>\n",
       "      <td>3</td>\n",
       "      <td>[[{'Footnote': [{'Text': 'S.C. 1996, c. 10, s....</td>\n",
       "      <td>3</td>\n",
       "      <td>[[{'Text': {'XRefExternal': ['Expropriation Ac...</td>\n",
       "    </tr>\n",
       "    <tr>\n",
       "      <th>12</th>\n",
       "      <td>SOR/2000-143</td>\n",
       "      <td>4/7/2000</td>\n",
       "      <td>06/21/2018</td>\n",
       "      <td>5/5/2006</td>\n",
       "      <td>[[PUBLIC SERVICE SUPERANNUATION ACT, FINANCIAL...</td>\n",
       "      <td></td>\n",
       "      <td>Withdrawal of Entities Regulations</td>\n",
       "      <td>T.B.</td>\n",
       "      <td>828066</td>\n",
       "      <td>4/6/2000</td>\n",
       "      <td>2</td>\n",
       "      <td>[{'Footnote': {'Text': 'S.C. 1999, c. 34, s. 9...</td>\n",
       "      <td>11</td>\n",
       "      <td>[[{'Text': 'The definitions in this section ap...</td>\n",
       "    </tr>\n",
       "    <tr>\n",
       "      <th>13</th>\n",
       "      <td>SOR/2000-177</td>\n",
       "      <td>5/4/2000</td>\n",
       "      <td>06/21/2018</td>\n",
       "      <td>1/10/2006</td>\n",
       "      <td>[CANADA DEPOSIT INSURANCE CORPORATION ACT]</td>\n",
       "      <td></td>\n",
       "      <td>Canada Deposit Insurance Corporation Notice Re...</td>\n",
       "      <td>P.C.</td>\n",
       "      <td>2000-630</td>\n",
       "      <td>5/4/2000</td>\n",
       "      <td>2</td>\n",
       "      <td>[{'Footnote': {'Text': 'S.C. 1996, c. 16, s. 4...</td>\n",
       "      <td>6</td>\n",
       "      <td>[[{'Text': 'The definitions in this section ap...</td>\n",
       "    </tr>\n",
       "    <tr>\n",
       "      <th>14</th>\n",
       "      <td>SOR/2000-181</td>\n",
       "      <td>5/4/2000</td>\n",
       "      <td>06/21/2018</td>\n",
       "      <td>10/21/2008</td>\n",
       "      <td>[DNA IDENTIFICATION ACT]</td>\n",
       "      <td></td>\n",
       "      <td>DNA Data Bank Advisory Committee Regulations</td>\n",
       "      <td>P.C.</td>\n",
       "      <td>2000-635</td>\n",
       "      <td>5/4/ 2000</td>\n",
       "      <td>2</td>\n",
       "      <td>[{'Footnote': {'Text': 'S.C. 1998, c. 37', 'La...</td>\n",
       "      <td>7</td>\n",
       "      <td>[[{'Text': u'In these Regulations, \\u201cAdvis...</td>\n",
       "    </tr>\n",
       "    <tr>\n",
       "      <th>15</th>\n",
       "      <td>SOR/2000-187</td>\n",
       "      <td>5/4/2000</td>\n",
       "      <td>06/21/2018</td>\n",
       "      <td>12/1/2005</td>\n",
       "      <td>[AGRICULTURE AND AGRI-FOOD ADMINISTRATIVE MONE...</td>\n",
       "      <td></td>\n",
       "      <td>Agriculture and Agri-Food Administrative Monet...</td>\n",
       "      <td></td>\n",
       "      <td></td>\n",
       "      <td></td>\n",
       "      <td>3</td>\n",
       "      <td>[[{'Footnote': {'Text': 'S.C. 1995, c. 40', 'L...</td>\n",
       "      <td>16</td>\n",
       "      <td>[[{'Text': 'The following definitions apply in...</td>\n",
       "    </tr>\n",
       "    <tr>\n",
       "      <th>16</th>\n",
       "      <td>SOR/2000-202</td>\n",
       "      <td>5/31/2000</td>\n",
       "      <td>06/21/2018</td>\n",
       "      <td>9/25/2007</td>\n",
       "      <td>[NUCLEAR SAFETY AND CONTROL ACT]</td>\n",
       "      <td></td>\n",
       "      <td>General Nuclear Safety and Control Regulations</td>\n",
       "      <td>P.C.</td>\n",
       "      <td>2000-782</td>\n",
       "      <td>5/31/ 2000</td>\n",
       "      <td>2</td>\n",
       "      <td>[{'Footnote': {'Text': 'S.C. 1997, c. 9', 'Lab...</td>\n",
       "      <td>40</td>\n",
       "      <td>[[{'Text': 'The definitions in this section ap...</td>\n",
       "    </tr>\n",
       "    <tr>\n",
       "      <th>17</th>\n",
       "      <td>SOR/2000-203</td>\n",
       "      <td>5/31/2000</td>\n",
       "      <td>06/21/2018</td>\n",
       "      <td>3/15/2007</td>\n",
       "      <td>[NUCLEAR SAFETY AND CONTROL ACT]</td>\n",
       "      <td></td>\n",
       "      <td>Radiation Protection Regulations</td>\n",
       "      <td>P.C.</td>\n",
       "      <td>2000-783</td>\n",
       "      <td>5/31/ 2000</td>\n",
       "      <td>2</td>\n",
       "      <td>[{'Footnote': {'Text': 'S.C. 1997, c. 9', 'Lab...</td>\n",
       "      <td>26</td>\n",
       "      <td>[[{'Subsection': [{'Text': 'The definitions in...</td>\n",
       "    </tr>\n",
       "    <tr>\n",
       "      <th>18</th>\n",
       "      <td>SOR/2000-204</td>\n",
       "      <td>5/31/2000</td>\n",
       "      <td>06/21/2018</td>\n",
       "      <td>6/20/2005</td>\n",
       "      <td>[NUCLEAR SAFETY AND CONTROL ACT]</td>\n",
       "      <td></td>\n",
       "      <td>Class I Nuclear Facilities Regulations</td>\n",
       "      <td>P.C.</td>\n",
       "      <td>2000-784</td>\n",
       "      <td>5/31/2000</td>\n",
       "      <td>2</td>\n",
       "      <td>[[{'Text': {'XRefExternal': ['Nuclear Safety a...</td>\n",
       "      <td>19</td>\n",
       "      <td>[[{'Text': 'The definitions in this section ap...</td>\n",
       "    </tr>\n",
       "    <tr>\n",
       "      <th>19</th>\n",
       "      <td>SOR/2000-205</td>\n",
       "      <td>5/31/2000</td>\n",
       "      <td>06/21/2018</td>\n",
       "      <td></td>\n",
       "      <td>[NUCLEAR SAFETY AND CONTROL ACT]</td>\n",
       "      <td>Class II Nuclear Facilities and Prescribed Equ...</td>\n",
       "      <td>CLASS II NUCLEAR FACILITIES AND PRESCRIBED EQU...</td>\n",
       "      <td>P.C.</td>\n",
       "      <td>2000-785</td>\n",
       "      <td>5/31/ 2000</td>\n",
       "      <td>2</td>\n",
       "      <td>[[{'Text': {'XRefExternal': ['Nuclear Safety a...</td>\n",
       "      <td>35</td>\n",
       "      <td>[[{'Text': 'The definitions in this section ap...</td>\n",
       "    </tr>\n",
       "    <tr>\n",
       "      <th>20</th>\n",
       "      <td>SOR/2000-206</td>\n",
       "      <td>5/31/2000</td>\n",
       "      <td>06/21/2018</td>\n",
       "      <td>9/25/2007</td>\n",
       "      <td>[NUCLEAR SAFETY AND CONTROL ACT]</td>\n",
       "      <td></td>\n",
       "      <td>Uranium Mines and Mills Regulations</td>\n",
       "      <td>P.C.</td>\n",
       "      <td>2000-786</td>\n",
       "      <td>5/31/ 2000</td>\n",
       "      <td>2</td>\n",
       "      <td>[{'Footnote': {'Text': 'S.C. 1997, c. 9', 'Lab...</td>\n",
       "      <td>20</td>\n",
       "      <td>[[{'Text': 'The definitions in this section ap...</td>\n",
       "    </tr>\n",
       "    <tr>\n",
       "      <th>21</th>\n",
       "      <td>SOR/2000-207</td>\n",
       "      <td>5/31/2000</td>\n",
       "      <td>06/21/2018</td>\n",
       "      <td>3/18/2008</td>\n",
       "      <td>[NUCLEAR SAFETY AND CONTROL ACT]</td>\n",
       "      <td></td>\n",
       "      <td>Nuclear Substances and Radiation Devices Regul...</td>\n",
       "      <td>P.C.</td>\n",
       "      <td>2000-787</td>\n",
       "      <td>5/31/2000</td>\n",
       "      <td>2</td>\n",
       "      <td>[{'Footnote': {'Text': 'S.C. 1997, c. 9', 'Lab...</td>\n",
       "      <td>41</td>\n",
       "      <td>[[{'Text': 'The definitions in this section ap...</td>\n",
       "    </tr>\n",
       "    <tr>\n",
       "      <th>22</th>\n",
       "      <td>SOR/2000-208</td>\n",
       "      <td>5/31/2000</td>\n",
       "      <td>06/21/2018</td>\n",
       "      <td>3/18/2008</td>\n",
       "      <td>[NUCLEAR SAFETY AND CONTROL ACT]</td>\n",
       "      <td></td>\n",
       "      <td>Packaging and Transport of Nuclear Substances ...</td>\n",
       "      <td>P.C.</td>\n",
       "      <td>2000-788</td>\n",
       "      <td>5/31/ 2000</td>\n",
       "      <td>1</td>\n",
       "      <td>[{'Text': {'Repealed': '[Repealed, SOR/2015-14...</td>\n",
       "      <td>24</td>\n",
       "      <td>[[{'Text': {'Repealed': '[Repealed, SOR/2015-1...</td>\n",
       "    </tr>\n",
       "    <tr>\n",
       "      <th>23</th>\n",
       "      <td>SOR/2000-209</td>\n",
       "      <td>5/31/2000</td>\n",
       "      <td>06/21/2018</td>\n",
       "      <td>9/18/2006</td>\n",
       "      <td>[NUCLEAR SAFETY AND CONTROL ACT]</td>\n",
       "      <td>Nuclear Security Regulations</td>\n",
       "      <td>Nuclear Security Regulations</td>\n",
       "      <td>P.C.</td>\n",
       "      <td>2000-789</td>\n",
       "      <td>5/31/2000</td>\n",
       "      <td>2</td>\n",
       "      <td>[{'Footnote': {'Text': 'S.C. 1997, c. 9', 'Lab...</td>\n",
       "      <td>68</td>\n",
       "      <td>[[{'Text': 'The definitions in this section ap...</td>\n",
       "    </tr>\n",
       "    <tr>\n",
       "      <th>24</th>\n",
       "      <td>SOR/2000-210</td>\n",
       "      <td>5/31/2000</td>\n",
       "      <td>06/21/2018</td>\n",
       "      <td>5/28/2007</td>\n",
       "      <td>[NUCLEAR SAFETY AND CONTROL ACT]</td>\n",
       "      <td></td>\n",
       "      <td>Nuclear Non-proliferation Import and Export Co...</td>\n",
       "      <td>P.C.</td>\n",
       "      <td>2000-790</td>\n",
       "      <td>5/31/2000</td>\n",
       "      <td>2</td>\n",
       "      <td>[{'Footnote': {'Text': 'S.C. 1997, c. 9', 'Lab...</td>\n",
       "      <td>5</td>\n",
       "      <td>[[{'Subsection': [{'Text': 'The definitions in...</td>\n",
       "    </tr>\n",
       "    <tr>\n",
       "      <th>25</th>\n",
       "      <td>SOR/2000-211</td>\n",
       "      <td>5/31/2000</td>\n",
       "      <td>06/21/2018</td>\n",
       "      <td>6/20/2005</td>\n",
       "      <td>[NUCLEAR SAFETY AND CONTROL ACT]</td>\n",
       "      <td></td>\n",
       "      <td>Canadian Nuclear Safety Commission Rules of Pr...</td>\n",
       "      <td></td>\n",
       "      <td></td>\n",
       "      <td></td>\n",
       "      <td>2</td>\n",
       "      <td>[[{'Text': {'XRefExternal': ['Nuclear Safety a...</td>\n",
       "      <td>46</td>\n",
       "      <td>[[{'Subsection': [{'Text': 'The definitions in...</td>\n",
       "    </tr>\n",
       "    <tr>\n",
       "      <th>26</th>\n",
       "      <td>SOR/2000-212</td>\n",
       "      <td>5/31/2000</td>\n",
       "      <td>06/21/2018</td>\n",
       "      <td>10/21/2008</td>\n",
       "      <td>[NUCLEAR SAFETY AND CONTROL ACT]</td>\n",
       "      <td></td>\n",
       "      <td>Canadian Nuclear Safety Commission By-laws</td>\n",
       "      <td></td>\n",
       "      <td></td>\n",
       "      <td></td>\n",
       "      <td>2</td>\n",
       "      <td>[[{'Footnote': {'Text': 'S.C. 1997, c. 9', 'La...</td>\n",
       "      <td>18</td>\n",
       "      <td>[[{'Text': 'The definitions in this section ap...</td>\n",
       "    </tr>\n",
       "    <tr>\n",
       "      <th>27</th>\n",
       "      <td>SOR/2000-214</td>\n",
       "      <td>6/1/2000</td>\n",
       "      <td>06/21/2018</td>\n",
       "      <td>10/21/2008</td>\n",
       "      <td>[CUSTOMS TARIFF]</td>\n",
       "      <td></td>\n",
       "      <td>Stranded Steel Wire Remission Order</td>\n",
       "      <td>P.C.</td>\n",
       "      <td>2000-797</td>\n",
       "      <td>6/1/ 2000</td>\n",
       "      <td>2</td>\n",
       "      <td>[{'Footnote': {'Text': 'S.C. 1997, c. 36', 'La...</td>\n",
       "      <td>3</td>\n",
       "      <td>[[{'Text': {'XRefExternal': 'Customs Tariff'},...</td>\n",
       "    </tr>\n",
       "    <tr>\n",
       "      <th>28</th>\n",
       "      <td>SOR/2000-217</td>\n",
       "      <td>6/1/2000</td>\n",
       "      <td>06/21/2018</td>\n",
       "      <td>3/18/2008</td>\n",
       "      <td>[CONTROLLED DRUGS AND SUBSTANCES ACT]</td>\n",
       "      <td></td>\n",
       "      <td>Benzodiazepines and Other Targeted Substances ...</td>\n",
       "      <td>P.C.</td>\n",
       "      <td>2000-827</td>\n",
       "      <td>6/1/ 2000</td>\n",
       "      <td>2</td>\n",
       "      <td>[{'Footnote': {'Text': 'S.C. 1996, c. 19', 'La...</td>\n",
       "      <td>82</td>\n",
       "      <td>[[{'Subsection': [{'Text': 'The definitions in...</td>\n",
       "    </tr>\n",
       "    <tr>\n",
       "      <th>29</th>\n",
       "      <td>SOR/2000-228</td>\n",
       "      <td>6/8/2000</td>\n",
       "      <td>06/21/2018</td>\n",
       "      <td>1/28/2009</td>\n",
       "      <td>[AGRICULTURAL PRODUCTS MARKETING ACT]</td>\n",
       "      <td></td>\n",
       "      <td>New Brunswick Primary Forest Products Order</td>\n",
       "      <td>P.C.</td>\n",
       "      <td>2000-868</td>\n",
       "      <td>6/8/2000</td>\n",
       "      <td>2</td>\n",
       "      <td>[{'Footnote': {'Text': 'S.C. 1991, c. 34, s. 2...</td>\n",
       "      <td>4</td>\n",
       "      <td>[[{'Subsection': [{'Text': 'The definitions in...</td>\n",
       "    </tr>\n",
       "    <tr>\n",
       "      <th>...</th>\n",
       "      <td>...</td>\n",
       "      <td>...</td>\n",
       "      <td>...</td>\n",
       "      <td>...</td>\n",
       "      <td>...</td>\n",
       "      <td>...</td>\n",
       "      <td>...</td>\n",
       "      <td>...</td>\n",
       "      <td>...</td>\n",
       "      <td>...</td>\n",
       "      <td>...</td>\n",
       "      <td>...</td>\n",
       "      <td>...</td>\n",
       "      <td>...</td>\n",
       "    </tr>\n",
       "    <tr>\n",
       "      <th>2598</th>\n",
       "      <td>SOR/99-295</td>\n",
       "      <td>6/23/1999</td>\n",
       "      <td>06/21/2018</td>\n",
       "      <td>5/31/2006</td>\n",
       "      <td>[AGRICULTURAL MARKETING PROGRAMS ACT]</td>\n",
       "      <td></td>\n",
       "      <td>Agricultural Marketing Programs Regulations</td>\n",
       "      <td>P.C.</td>\n",
       "      <td>1999-1186</td>\n",
       "      <td>6/23/ 1999</td>\n",
       "      <td>2</td>\n",
       "      <td>[{'Footnote': {'Text': 'S.C. 1997, c. 20', 'La...</td>\n",
       "      <td>18</td>\n",
       "      <td>[[{'Text': 'The following definitions apply in...</td>\n",
       "    </tr>\n",
       "    <tr>\n",
       "      <th>2599</th>\n",
       "      <td>SOR/99-298</td>\n",
       "      <td>6/23/1999</td>\n",
       "      <td>06/21/2018</td>\n",
       "      <td>5/11/2006</td>\n",
       "      <td>[TERRITORIAL LANDS ACT]</td>\n",
       "      <td></td>\n",
       "      <td>Order Authorizing Federal Employees to Acquire...</td>\n",
       "      <td>P.C.</td>\n",
       "      <td>1999-1204</td>\n",
       "      <td>6/23/ 1999</td>\n",
       "      <td>1</td>\n",
       "      <td>[{'Text': {'XRefExternal': ['Territorial Lands...</td>\n",
       "      <td>3</td>\n",
       "      <td>[[{'Text': 'The purpose of this Order is to au...</td>\n",
       "    </tr>\n",
       "    <tr>\n",
       "      <th>2600</th>\n",
       "      <td>SOR/99-3</td>\n",
       "      <td>12/14/1998</td>\n",
       "      <td>06/21/2018</td>\n",
       "      <td>3/14/2008</td>\n",
       "      <td>[[PUBLIC SERVICE SUPERANNUATION ACT, FINANCIAL...</td>\n",
       "      <td></td>\n",
       "      <td>Portions of the Department of Citizenship and ...</td>\n",
       "      <td>T.B.</td>\n",
       "      <td>826779</td>\n",
       "      <td>12/10/1998</td>\n",
       "      <td>2</td>\n",
       "      <td>[{'Footnote': {'Text': 'S.C. 1992, c. 46, s. 2...</td>\n",
       "      <td>10</td>\n",
       "      <td>[[{'Text': 'The definitions in this section ap...</td>\n",
       "    </tr>\n",
       "    <tr>\n",
       "      <th>2601</th>\n",
       "      <td>SOR/99-300</td>\n",
       "      <td>6/23/1999</td>\n",
       "      <td>06/21/2018</td>\n",
       "      <td>10/28/2008</td>\n",
       "      <td>[FOREIGN PUBLISHERS ADVERTISING SERVICES ACT]</td>\n",
       "      <td></td>\n",
       "      <td>Regulations Defining Certain Expressions for t...</td>\n",
       "      <td>P.C.</td>\n",
       "      <td>1999-1217</td>\n",
       "      <td>6/23/ 1999</td>\n",
       "      <td>2</td>\n",
       "      <td>[{'Footnote': {'Text': 'S.C. 1999, c. 23', 'La...</td>\n",
       "      <td>2</td>\n",
       "      <td>[[{'Text': {'XRefExternal': 'Foreign Publisher...</td>\n",
       "    </tr>\n",
       "    <tr>\n",
       "      <th>2602</th>\n",
       "      <td>SOR/99-308</td>\n",
       "      <td>7/9/1999</td>\n",
       "      <td>06/21/2018</td>\n",
       "      <td>10/28/2008</td>\n",
       "      <td>[EXPROPRIATION ACT]</td>\n",
       "      <td></td>\n",
       "      <td>Tariff of Costs</td>\n",
       "      <td>P.C.</td>\n",
       "      <td>1999-1311</td>\n",
       "      <td>7/9/ 1999</td>\n",
       "      <td>2</td>\n",
       "      <td>[{'Text': {'XRefExternal': 'Expropriation Act'...</td>\n",
       "      <td>2</td>\n",
       "      <td>[[{'Text': {'XRefExternal': 'Expropriation Act...</td>\n",
       "    </tr>\n",
       "    <tr>\n",
       "      <th>2603</th>\n",
       "      <td>SOR/99-317</td>\n",
       "      <td>7/28/1999</td>\n",
       "      <td>06/21/2018</td>\n",
       "      <td>12/5/2008</td>\n",
       "      <td>[CUSTOMS TARIFF]</td>\n",
       "      <td></td>\n",
       "      <td>European Union Surtax Order</td>\n",
       "      <td>P.C.</td>\n",
       "      <td>1999-1323</td>\n",
       "      <td>7/28/ 1999</td>\n",
       "      <td>1</td>\n",
       "      <td>[{'Text': {'Repealed': '[Repealed, SOR/2011-15...</td>\n",
       "      <td>6</td>\n",
       "      <td>[[{'Text': {'Repealed': '[Repealed, SOR/2011-1...</td>\n",
       "    </tr>\n",
       "    <tr>\n",
       "      <th>2604</th>\n",
       "      <td>SOR/99-318</td>\n",
       "      <td>7/28/1999</td>\n",
       "      <td>06/21/2018</td>\n",
       "      <td>10/28/2008</td>\n",
       "      <td>[CANADIAN ENVIRONMENTAL ASSESSMENT ACT]</td>\n",
       "      <td></td>\n",
       "      <td>Canada Port Authority Environmental Assessment...</td>\n",
       "      <td>P.C.</td>\n",
       "      <td>1999-1324</td>\n",
       "      <td>7/28/ 1999</td>\n",
       "      <td>2</td>\n",
       "      <td>[{'Footnote': [{'Text': 'S.C. 1998, c. 10, s. ...</td>\n",
       "      <td>32</td>\n",
       "      <td>[[{'Text': 'The definitions in this section ap...</td>\n",
       "    </tr>\n",
       "    <tr>\n",
       "      <th>2605</th>\n",
       "      <td>SOR/99-324</td>\n",
       "      <td>7/28/1999</td>\n",
       "      <td>06/21/2018</td>\n",
       "      <td>6/6/2005</td>\n",
       "      <td>[COPYRIGHT ACT]</td>\n",
       "      <td></td>\n",
       "      <td>Book Importation Regulations</td>\n",
       "      <td>P.C.</td>\n",
       "      <td>1999-1350</td>\n",
       "      <td>7/28/1999</td>\n",
       "      <td>2</td>\n",
       "      <td>[{'Footnote': [{'Text': 'S.C. 1997, c. 24, s. ...</td>\n",
       "      <td>11</td>\n",
       "      <td>[[{'Text': 'The definitions in this section ap...</td>\n",
       "    </tr>\n",
       "    <tr>\n",
       "      <th>2606</th>\n",
       "      <td>SOR/99-325</td>\n",
       "      <td>7/28/1999</td>\n",
       "      <td>06/21/2018</td>\n",
       "      <td>6/2/2006</td>\n",
       "      <td>[COPYRIGHT ACT]</td>\n",
       "      <td></td>\n",
       "      <td>Exceptions for Educational Institutions, Libra...</td>\n",
       "      <td>P.C.</td>\n",
       "      <td>1999-1351</td>\n",
       "      <td>7/28/ 1999</td>\n",
       "      <td>2</td>\n",
       "      <td>[{'Footnote': {'Text': 'S.C. 1997, c. 24, s. 1...</td>\n",
       "      <td>9</td>\n",
       "      <td>[[{'Subsection': [{'Text': {'XRefExternal': 'C...</td>\n",
       "    </tr>\n",
       "    <tr>\n",
       "      <th>2607</th>\n",
       "      <td>SOR/99-335</td>\n",
       "      <td>7/28/1999</td>\n",
       "      <td>06/21/2018</td>\n",
       "      <td>11/13/2007</td>\n",
       "      <td>[CANADA SHIPPING ACT, 2001]</td>\n",
       "      <td>Private Buoy Regulations</td>\n",
       "      <td>Private Buoy Regulations</td>\n",
       "      <td>P.C.</td>\n",
       "      <td>1999-1364</td>\n",
       "      <td>7/28/1999</td>\n",
       "      <td>2</td>\n",
       "      <td>[{'Footnote': {'Text': 'R.S., c. 6 (3rd Supp.)...</td>\n",
       "      <td>9</td>\n",
       "      <td>[[{'Text': {'DefinedTermEn': 'private buoy'}, ...</td>\n",
       "    </tr>\n",
       "    <tr>\n",
       "      <th>2608</th>\n",
       "      <td>SOR/99-348</td>\n",
       "      <td>8/26/1999</td>\n",
       "      <td>06/21/2018</td>\n",
       "      <td>10/28/2008</td>\n",
       "      <td>[COPYRIGHT ACT]</td>\n",
       "      <td></td>\n",
       "      <td>Regulations Prescribing Networks (Copyright Act)</td>\n",
       "      <td>P.C.</td>\n",
       "      <td>1999-1479</td>\n",
       "      <td>8/26/ 1999</td>\n",
       "      <td>2</td>\n",
       "      <td>[{'Footnote': [{'Text': 'S.C. 1997, c. 24, s. ...</td>\n",
       "      <td>2</td>\n",
       "      <td>[[{'Text': {'XRefExternal': 'Copyright Act'}, ...</td>\n",
       "    </tr>\n",
       "    <tr>\n",
       "      <th>2609</th>\n",
       "      <td>SOR/99-350</td>\n",
       "      <td>8/26/1999</td>\n",
       "      <td>06/21/2018</td>\n",
       "      <td>10/28/2008</td>\n",
       "      <td>[FOREIGN MISSIONS AND INTERNATIONAL ORGANIZATI...</td>\n",
       "      <td></td>\n",
       "      <td>Organization of American States Privileges and...</td>\n",
       "      <td>P.C.</td>\n",
       "      <td>1999-1491</td>\n",
       "      <td>8/26/ 1999</td>\n",
       "      <td>2</td>\n",
       "      <td>[{'Footnote': {'Text': 'S.C. 1991, c. 41', 'La...</td>\n",
       "      <td>3</td>\n",
       "      <td>[[{'Text': 'The definitions in this section ap...</td>\n",
       "    </tr>\n",
       "    <tr>\n",
       "      <th>2610</th>\n",
       "      <td>SOR/99-381</td>\n",
       "      <td>10/5/1999</td>\n",
       "      <td>06/21/2018</td>\n",
       "      <td>4/16/2008</td>\n",
       "      <td>[CANADA DEPOSIT INSURANCE CORPORATION ACT]</td>\n",
       "      <td></td>\n",
       "      <td>Exemption from Deposit Insurance By-law (Notic...</td>\n",
       "      <td></td>\n",
       "      <td></td>\n",
       "      <td></td>\n",
       "      <td>2</td>\n",
       "      <td>[[{'Footnote': [{'Text': 'R.S., c. 18 (3rd Sup...</td>\n",
       "      <td>5</td>\n",
       "      <td>[[{'Text': 'The definitions in this section ap...</td>\n",
       "    </tr>\n",
       "    <tr>\n",
       "      <th>2611</th>\n",
       "      <td>SOR/99-382</td>\n",
       "      <td>10/5/1999</td>\n",
       "      <td>06/21/2018</td>\n",
       "      <td>4/16/2008</td>\n",
       "      <td>[CANADA DEPOSIT INSURANCE CORPORATION ACT]</td>\n",
       "      <td></td>\n",
       "      <td>Exemption from Deposit Insurance By-law (Exemp...</td>\n",
       "      <td></td>\n",
       "      <td></td>\n",
       "      <td></td>\n",
       "      <td>4</td>\n",
       "      <td>[[{'Footnote': [{'Text': 'R.S., c. 18 (3rd Sup...</td>\n",
       "      <td>2</td>\n",
       "      <td>[[{'Text': {'XRefExternal': 'Canada Deposit In...</td>\n",
       "    </tr>\n",
       "    <tr>\n",
       "      <th>2612</th>\n",
       "      <td>SOR/99-383</td>\n",
       "      <td>10/5/1999</td>\n",
       "      <td>06/21/2018</td>\n",
       "      <td>10/28/2008</td>\n",
       "      <td>[CANADA DEPOSIT INSURANCE CORPORATION ACT]</td>\n",
       "      <td></td>\n",
       "      <td>Exemption from Deposit Insurance By-law (Inter...</td>\n",
       "      <td></td>\n",
       "      <td></td>\n",
       "      <td></td>\n",
       "      <td>2</td>\n",
       "      <td>[[{'Footnote': [{'Text': 'R.S., c. 18 (3rd Sup...</td>\n",
       "      <td>2</td>\n",
       "      <td>[[{'Text': {'XRefExternal': 'Canada Deposit In...</td>\n",
       "    </tr>\n",
       "    <tr>\n",
       "      <th>2613</th>\n",
       "      <td>SOR/99-384</td>\n",
       "      <td>10/5/1999</td>\n",
       "      <td>06/21/2018</td>\n",
       "      <td>4/16/2008</td>\n",
       "      <td>[CANADA DEPOSIT INSURANCE CORPORATION ACT]</td>\n",
       "      <td></td>\n",
       "      <td>Exemption from Deposit Insurance By-law (Forei...</td>\n",
       "      <td></td>\n",
       "      <td></td>\n",
       "      <td></td>\n",
       "      <td>2</td>\n",
       "      <td>[[{'Footnote': [{'Text': 'R.S., c. 18 (3rd Sup...</td>\n",
       "      <td>2</td>\n",
       "      <td>[[{'Text': {'XRefExternal': 'Canada Deposit In...</td>\n",
       "    </tr>\n",
       "    <tr>\n",
       "      <th>2614</th>\n",
       "      <td>SOR/99-388</td>\n",
       "      <td>10/6/1999</td>\n",
       "      <td>06/21/2018</td>\n",
       "      <td>9/23/2005</td>\n",
       "      <td>[BANK ACT]</td>\n",
       "      <td></td>\n",
       "      <td>Notices of Uninsured Deposits Regulations (Banks)</td>\n",
       "      <td>P.C.</td>\n",
       "      <td>1999-1770</td>\n",
       "      <td>10/6/1999</td>\n",
       "      <td>2</td>\n",
       "      <td>[{'Footnote': [{'Text': 'S.C. 1997, c. 15, s. ...</td>\n",
       "      <td>6</td>\n",
       "      <td>[[{'Subsection': [{'Text': {'XRefExternal': 'B...</td>\n",
       "    </tr>\n",
       "    <tr>\n",
       "      <th>2615</th>\n",
       "      <td>SOR/99-4</td>\n",
       "      <td>12/14/1998</td>\n",
       "      <td>06/21/2018</td>\n",
       "      <td>3/13/2008</td>\n",
       "      <td>[[PUBLIC SERVICE SUPERANNUATION ACT, FINANCIAL...</td>\n",
       "      <td></td>\n",
       "      <td>Blainville Motor Vehicle Test Centre Benefit E...</td>\n",
       "      <td>T.B.</td>\n",
       "      <td>826779</td>\n",
       "      <td>12/10/1998</td>\n",
       "      <td>2</td>\n",
       "      <td>[{'Footnote': {'Text': 'S.C. 1992, c. 46, s. 2...</td>\n",
       "      <td>12</td>\n",
       "      <td>[[{'Text': 'The definitions in this section ap...</td>\n",
       "    </tr>\n",
       "    <tr>\n",
       "      <th>2616</th>\n",
       "      <td>SOR/99-409</td>\n",
       "      <td>10/21/1999</td>\n",
       "      <td>06/21/2018</td>\n",
       "      <td>10/31/2008</td>\n",
       "      <td>[FOREIGN MISSIONS AND INTERNATIONAL ORGANIZATI...</td>\n",
       "      <td></td>\n",
       "      <td>Order respecting Privileges and Immunities in ...</td>\n",
       "      <td>P.C.</td>\n",
       "      <td>1999-1850</td>\n",
       "      <td>10/21/ 1999</td>\n",
       "      <td>2</td>\n",
       "      <td>[{'Footnote': [{'Text': 'S.C. 1995, c. 5, par....</td>\n",
       "      <td>11</td>\n",
       "      <td>[[{'Text': 'The definitions in this section ap...</td>\n",
       "    </tr>\n",
       "    <tr>\n",
       "      <th>2617</th>\n",
       "      <td>SOR/99-410</td>\n",
       "      <td>10/21/1999</td>\n",
       "      <td>06/21/2018</td>\n",
       "      <td>10/31/2008</td>\n",
       "      <td>[CANADIAN PEACEKEEPING SERVICE MEDAL ACT]</td>\n",
       "      <td></td>\n",
       "      <td>Canadian Peacekeeping Service Medal Award Regu...</td>\n",
       "      <td>P.C.</td>\n",
       "      <td>1999-1858</td>\n",
       "      <td>10/21/ 1999</td>\n",
       "      <td>2</td>\n",
       "      <td>[{'Footnote': {'Text': 'S.C. 1997, c. 31', 'La...</td>\n",
       "      <td>4</td>\n",
       "      <td>[[{'Text': 'The definition in this section app...</td>\n",
       "    </tr>\n",
       "    <tr>\n",
       "      <th>2618</th>\n",
       "      <td>SOR/99-422</td>\n",
       "      <td>10/21/1999</td>\n",
       "      <td>06/21/2018</td>\n",
       "      <td>5/11/2006</td>\n",
       "      <td>[TERRITORIAL LANDS ACT]</td>\n",
       "      <td></td>\n",
       "      <td>Order Authorizing Federal Employees to Acquire...</td>\n",
       "      <td>P.C.</td>\n",
       "      <td>1999-1885</td>\n",
       "      <td>10/21/ 1999</td>\n",
       "      <td>1</td>\n",
       "      <td>[{'Text': {'XRefExternal': ['Territorial Lands...</td>\n",
       "      <td>3</td>\n",
       "      <td>[[{'Text': 'The purpose of this Order is to au...</td>\n",
       "    </tr>\n",
       "    <tr>\n",
       "      <th>2619</th>\n",
       "      <td>SOR/99-444</td>\n",
       "      <td>11/10/1999</td>\n",
       "      <td>06/21/2018</td>\n",
       "      <td></td>\n",
       "      <td>[UNITED NATIONS ACT]</td>\n",
       "      <td>United Nations Al-Qaida and Taliban Regulations</td>\n",
       "      <td>United Nations Al-Qaida and Taliban Regulations</td>\n",
       "      <td>P.C.</td>\n",
       "      <td>1999-2015</td>\n",
       "      <td>11/10/1999</td>\n",
       "      <td>1</td>\n",
       "      <td>[{'Text': {'XRefExternal': ['United Nations Ac...</td>\n",
       "      <td>21</td>\n",
       "      <td>[[{'Text': 'The definitions in this section ap...</td>\n",
       "    </tr>\n",
       "    <tr>\n",
       "      <th>2620</th>\n",
       "      <td>SOR/99-451</td>\n",
       "      <td>11/25/1999</td>\n",
       "      <td>06/21/2018</td>\n",
       "      <td>10/31/2008</td>\n",
       "      <td>[CANADA AGRICULTURAL PRODUCTS ACT]</td>\n",
       "      <td></td>\n",
       "      <td>Rules of the Review Tribunal (Agriculture and ...</td>\n",
       "      <td>P.C.</td>\n",
       "      <td>1999-2082</td>\n",
       "      <td>11/25/ 1999</td>\n",
       "      <td>1</td>\n",
       "      <td>[{'Text': {'Repealed': '[Repealed, SOR/2015-10...</td>\n",
       "      <td>45</td>\n",
       "      <td>[[{'Text': {'Repealed': '[Repealed, SOR/2015-1...</td>\n",
       "    </tr>\n",
       "    <tr>\n",
       "      <th>2621</th>\n",
       "      <td>SOR/99-460</td>\n",
       "      <td>12/2/1999</td>\n",
       "      <td>06/21/2018</td>\n",
       "      <td>5/29/2007</td>\n",
       "      <td>[INDUSTRIAL DESIGN ACT]</td>\n",
       "      <td></td>\n",
       "      <td>Industrial Design Regulations</td>\n",
       "      <td>P.C.</td>\n",
       "      <td>1999-2135</td>\n",
       "      <td>12/2/ 1999</td>\n",
       "      <td>2</td>\n",
       "      <td>[{'Footnote': {'Text': u'S.C. 1993, c. 44, s.\\...</td>\n",
       "      <td>24</td>\n",
       "      <td>[[{'Text': 'The definitions in this section ap...</td>\n",
       "    </tr>\n",
       "    <tr>\n",
       "      <th>2622</th>\n",
       "      <td>SOR/99-467</td>\n",
       "      <td>12/9/1999</td>\n",
       "      <td>06/21/2018</td>\n",
       "      <td>10/22/2008</td>\n",
       "      <td>[CANADA TRAVELLING EXHIBITIONS INDEMNIFICATION...</td>\n",
       "      <td></td>\n",
       "      <td>Canada Travelling Exhibitions Indemnification ...</td>\n",
       "      <td>P.C.</td>\n",
       "      <td>1999-2163</td>\n",
       "      <td>12/9/ 1999</td>\n",
       "      <td>2</td>\n",
       "      <td>[{'Footnote': {'Text': 'S.C. 1999, c. 29', 'La...</td>\n",
       "      <td>18</td>\n",
       "      <td>[[{'Text': 'The definitions in this section ap...</td>\n",
       "    </tr>\n",
       "    <tr>\n",
       "      <th>2623</th>\n",
       "      <td>SOR/99-53</td>\n",
       "      <td>1/15/1999</td>\n",
       "      <td>06/21/2018</td>\n",
       "      <td>7/5/2007</td>\n",
       "      <td>[CANADA SHIPPING ACT, 2001]</td>\n",
       "      <td></td>\n",
       "      <td>Competency of Operators of Pleasure Craft Regu...</td>\n",
       "      <td>P.C.</td>\n",
       "      <td>1999-11</td>\n",
       "      <td>1/15/ 1999</td>\n",
       "      <td>2</td>\n",
       "      <td>[{'Footnote': {'Text': 'R.S., c. 6 (3rd Supp.)...</td>\n",
       "      <td>13</td>\n",
       "      <td>[[{'Text': 'The definitions in this section ap...</td>\n",
       "    </tr>\n",
       "    <tr>\n",
       "      <th>2624</th>\n",
       "      <td>SOR/99-7</td>\n",
       "      <td>12/16/1998</td>\n",
       "      <td>06/21/2018</td>\n",
       "      <td>4/26/2006</td>\n",
       "      <td>[CANADIAN ENVIRONMENTAL PROTECTION ACT, 1999]</td>\n",
       "      <td></td>\n",
       "      <td>Ozone-Depleting Substances Regulations, 1998</td>\n",
       "      <td>P.C</td>\n",
       "      <td>1998-2251</td>\n",
       "      <td>12/16/1998</td>\n",
       "      <td>1</td>\n",
       "      <td>[{'Text': {'Repealed': '[Repealed, SOR/2016-13...</td>\n",
       "      <td>47</td>\n",
       "      <td>[[{'Text': {'Repealed': '[Repealed, SOR/2016-1...</td>\n",
       "    </tr>\n",
       "    <tr>\n",
       "      <th>2625</th>\n",
       "      <td>SOR/99-86</td>\n",
       "      <td>2/10/1999</td>\n",
       "      <td>06/21/2018</td>\n",
       "      <td>9/26/2014</td>\n",
       "      <td>[VISITING FORCES ACT]</td>\n",
       "      <td></td>\n",
       "      <td>Proclamation Designating Certain Countries as ...</td>\n",
       "      <td></td>\n",
       "      <td></td>\n",
       "      <td></td>\n",
       "      <td>13</td>\n",
       "      <td>[[{'SignatureBlock': {'SignatureTitle': '[L.S....</td>\n",
       "      <td>47</td>\n",
       "      <td></td>\n",
       "    </tr>\n",
       "    <tr>\n",
       "      <th>2626</th>\n",
       "      <td>SOR/99-93</td>\n",
       "      <td>2/11/1999</td>\n",
       "      <td>06/21/2018</td>\n",
       "      <td>10/21/2008</td>\n",
       "      <td>[TOBACCO ACT]</td>\n",
       "      <td></td>\n",
       "      <td>Tobacco (Access) Regulations</td>\n",
       "      <td>P.C.</td>\n",
       "      <td>1999-197</td>\n",
       "      <td>2/11/1999</td>\n",
       "      <td>2</td>\n",
       "      <td>[[{'Text': {'XRefExternal': ['Tobacco Act', 'T...</td>\n",
       "      <td>6</td>\n",
       "      <td>[[{'Text': {'XRefExternal': 'Tobacco and Vapin...</td>\n",
       "    </tr>\n",
       "    <tr>\n",
       "      <th>2627</th>\n",
       "      <td>SOR/99-94</td>\n",
       "      <td>2/11/1999</td>\n",
       "      <td>06/21/2018</td>\n",
       "      <td>10/21/2008</td>\n",
       "      <td>[TOBACCO ACT]</td>\n",
       "      <td></td>\n",
       "      <td>Tobacco (Seizure and Restoration) Regulations</td>\n",
       "      <td>P.C.</td>\n",
       "      <td>1999-198</td>\n",
       "      <td>2/11/ 1999</td>\n",
       "      <td>2</td>\n",
       "      <td>[[{'Text': {'XRefExternal': ['Tobacco Act', 'T...</td>\n",
       "      <td>5</td>\n",
       "      <td>[[{'Text': {'XRefExternal': 'Tobacco and Vapin...</td>\n",
       "    </tr>\n",
       "  </tbody>\n",
       "</table>\n",
       "<p>2628 rows × 14 columns</p>\n",
       "</div>"
      ],
      "text/plain": [
       "     Instrumentation_Num Registration_Date Consolidation_Date Last_Mod_Date  \\\n",
       "0             SOR/2000-1        12/14/1999         06/21/2018     3/13/2008   \n",
       "1           SOR/2000-100         3/15/2000         06/21/2018     4/27/2006   \n",
       "2           SOR/2000-107         3/23/2000         06/21/2018     6/20/2005   \n",
       "3           SOR/2000-108         3/23/2000         06/21/2018     6/22/2005   \n",
       "4           SOR/2000-111         3/23/2000         06/21/2018     8/18/2005   \n",
       "5           SOR/2000-112         3/23/2000         06/21/2018     8/18/2005   \n",
       "6           SOR/2000-113         3/23/2000         06/21/2018     9/22/2005   \n",
       "7           SOR/2000-131         3/30/2000         06/21/2018      5/5/2006   \n",
       "8           SOR/2000-132         3/30/2000         06/21/2018    10/16/2008   \n",
       "9            SOR/2000-14        12/16/1999         06/21/2018     1/10/2006   \n",
       "10          SOR/2000-141          4/6/2000         06/21/2018     1/10/2006   \n",
       "11          SOR/2000-142          4/7/2000         06/21/2018    11/27/2008   \n",
       "12          SOR/2000-143          4/7/2000         06/21/2018      5/5/2006   \n",
       "13          SOR/2000-177          5/4/2000         06/21/2018     1/10/2006   \n",
       "14          SOR/2000-181          5/4/2000         06/21/2018    10/21/2008   \n",
       "15          SOR/2000-187          5/4/2000         06/21/2018     12/1/2005   \n",
       "16          SOR/2000-202         5/31/2000         06/21/2018     9/25/2007   \n",
       "17          SOR/2000-203         5/31/2000         06/21/2018     3/15/2007   \n",
       "18          SOR/2000-204         5/31/2000         06/21/2018     6/20/2005   \n",
       "19          SOR/2000-205         5/31/2000         06/21/2018                 \n",
       "20          SOR/2000-206         5/31/2000         06/21/2018     9/25/2007   \n",
       "21          SOR/2000-207         5/31/2000         06/21/2018     3/18/2008   \n",
       "22          SOR/2000-208         5/31/2000         06/21/2018     3/18/2008   \n",
       "23          SOR/2000-209         5/31/2000         06/21/2018     9/18/2006   \n",
       "24          SOR/2000-210         5/31/2000         06/21/2018     5/28/2007   \n",
       "25          SOR/2000-211         5/31/2000         06/21/2018     6/20/2005   \n",
       "26          SOR/2000-212         5/31/2000         06/21/2018    10/21/2008   \n",
       "27          SOR/2000-214          6/1/2000         06/21/2018    10/21/2008   \n",
       "28          SOR/2000-217          6/1/2000         06/21/2018     3/18/2008   \n",
       "29          SOR/2000-228          6/8/2000         06/21/2018     1/28/2009   \n",
       "...                  ...               ...                ...           ...   \n",
       "2598          SOR/99-295         6/23/1999         06/21/2018     5/31/2006   \n",
       "2599          SOR/99-298         6/23/1999         06/21/2018     5/11/2006   \n",
       "2600            SOR/99-3        12/14/1998         06/21/2018     3/14/2008   \n",
       "2601          SOR/99-300         6/23/1999         06/21/2018    10/28/2008   \n",
       "2602          SOR/99-308          7/9/1999         06/21/2018    10/28/2008   \n",
       "2603          SOR/99-317         7/28/1999         06/21/2018     12/5/2008   \n",
       "2604          SOR/99-318         7/28/1999         06/21/2018    10/28/2008   \n",
       "2605          SOR/99-324         7/28/1999         06/21/2018      6/6/2005   \n",
       "2606          SOR/99-325         7/28/1999         06/21/2018      6/2/2006   \n",
       "2607          SOR/99-335         7/28/1999         06/21/2018    11/13/2007   \n",
       "2608          SOR/99-348         8/26/1999         06/21/2018    10/28/2008   \n",
       "2609          SOR/99-350         8/26/1999         06/21/2018    10/28/2008   \n",
       "2610          SOR/99-381         10/5/1999         06/21/2018     4/16/2008   \n",
       "2611          SOR/99-382         10/5/1999         06/21/2018     4/16/2008   \n",
       "2612          SOR/99-383         10/5/1999         06/21/2018    10/28/2008   \n",
       "2613          SOR/99-384         10/5/1999         06/21/2018     4/16/2008   \n",
       "2614          SOR/99-388         10/6/1999         06/21/2018     9/23/2005   \n",
       "2615            SOR/99-4        12/14/1998         06/21/2018     3/13/2008   \n",
       "2616          SOR/99-409        10/21/1999         06/21/2018    10/31/2008   \n",
       "2617          SOR/99-410        10/21/1999         06/21/2018    10/31/2008   \n",
       "2618          SOR/99-422        10/21/1999         06/21/2018     5/11/2006   \n",
       "2619          SOR/99-444        11/10/1999         06/21/2018                 \n",
       "2620          SOR/99-451        11/25/1999         06/21/2018    10/31/2008   \n",
       "2621          SOR/99-460         12/2/1999         06/21/2018     5/29/2007   \n",
       "2622          SOR/99-467         12/9/1999         06/21/2018    10/22/2008   \n",
       "2623           SOR/99-53         1/15/1999         06/21/2018      7/5/2007   \n",
       "2624            SOR/99-7        12/16/1998         06/21/2018     4/26/2006   \n",
       "2625           SOR/99-86         2/10/1999         06/21/2018     9/26/2014   \n",
       "2626           SOR/99-93         2/11/1999         06/21/2018    10/21/2008   \n",
       "2627           SOR/99-94         2/11/1999         06/21/2018    10/21/2008   \n",
       "\n",
       "                                     Enabling_Authority  \\\n",
       "0     [[PUBLIC SERVICE SUPERANNUATION ACT, FINANCIAL...   \n",
       "1          [FEDERAL-PROVINCIAL FISCAL ARRANGEMENTS ACT]   \n",
       "2         [CANADIAN ENVIRONMENTAL PROTECTION ACT, 1999]   \n",
       "3         [CANADIAN ENVIRONMENTAL PROTECTION ACT, 1999]   \n",
       "4                                     [AERONAUTICS ACT]   \n",
       "5                                     [AERONAUTICS ACT]   \n",
       "6                                            [BANK ACT]   \n",
       "7                 [PUBLIC SERVICE LABOUR RELATIONS ACT]   \n",
       "8                                        [PILOTAGE ACT]   \n",
       "9                                [NATIONAL DEFENCE ACT]   \n",
       "10                  [ROYAL CANADIAN MOUNTED POLICE ACT]   \n",
       "11    [[EXPROPRIATION ACT, DRY DOCKS SUBSIDIES ACT, ...   \n",
       "12    [[PUBLIC SERVICE SUPERANNUATION ACT, FINANCIAL...   \n",
       "13           [CANADA DEPOSIT INSURANCE CORPORATION ACT]   \n",
       "14                             [DNA IDENTIFICATION ACT]   \n",
       "15    [AGRICULTURE AND AGRI-FOOD ADMINISTRATIVE MONE...   \n",
       "16                     [NUCLEAR SAFETY AND CONTROL ACT]   \n",
       "17                     [NUCLEAR SAFETY AND CONTROL ACT]   \n",
       "18                     [NUCLEAR SAFETY AND CONTROL ACT]   \n",
       "19                     [NUCLEAR SAFETY AND CONTROL ACT]   \n",
       "20                     [NUCLEAR SAFETY AND CONTROL ACT]   \n",
       "21                     [NUCLEAR SAFETY AND CONTROL ACT]   \n",
       "22                     [NUCLEAR SAFETY AND CONTROL ACT]   \n",
       "23                     [NUCLEAR SAFETY AND CONTROL ACT]   \n",
       "24                     [NUCLEAR SAFETY AND CONTROL ACT]   \n",
       "25                     [NUCLEAR SAFETY AND CONTROL ACT]   \n",
       "26                     [NUCLEAR SAFETY AND CONTROL ACT]   \n",
       "27                                     [CUSTOMS TARIFF]   \n",
       "28                [CONTROLLED DRUGS AND SUBSTANCES ACT]   \n",
       "29                [AGRICULTURAL PRODUCTS MARKETING ACT]   \n",
       "...                                                 ...   \n",
       "2598              [AGRICULTURAL MARKETING PROGRAMS ACT]   \n",
       "2599                            [TERRITORIAL LANDS ACT]   \n",
       "2600  [[PUBLIC SERVICE SUPERANNUATION ACT, FINANCIAL...   \n",
       "2601      [FOREIGN PUBLISHERS ADVERTISING SERVICES ACT]   \n",
       "2602                                [EXPROPRIATION ACT]   \n",
       "2603                                   [CUSTOMS TARIFF]   \n",
       "2604            [CANADIAN ENVIRONMENTAL ASSESSMENT ACT]   \n",
       "2605                                    [COPYRIGHT ACT]   \n",
       "2606                                    [COPYRIGHT ACT]   \n",
       "2607                        [CANADA SHIPPING ACT, 2001]   \n",
       "2608                                    [COPYRIGHT ACT]   \n",
       "2609  [FOREIGN MISSIONS AND INTERNATIONAL ORGANIZATI...   \n",
       "2610         [CANADA DEPOSIT INSURANCE CORPORATION ACT]   \n",
       "2611         [CANADA DEPOSIT INSURANCE CORPORATION ACT]   \n",
       "2612         [CANADA DEPOSIT INSURANCE CORPORATION ACT]   \n",
       "2613         [CANADA DEPOSIT INSURANCE CORPORATION ACT]   \n",
       "2614                                         [BANK ACT]   \n",
       "2615  [[PUBLIC SERVICE SUPERANNUATION ACT, FINANCIAL...   \n",
       "2616  [FOREIGN MISSIONS AND INTERNATIONAL ORGANIZATI...   \n",
       "2617          [CANADIAN PEACEKEEPING SERVICE MEDAL ACT]   \n",
       "2618                            [TERRITORIAL LANDS ACT]   \n",
       "2619                               [UNITED NATIONS ACT]   \n",
       "2620                 [CANADA AGRICULTURAL PRODUCTS ACT]   \n",
       "2621                            [INDUSTRIAL DESIGN ACT]   \n",
       "2622  [CANADA TRAVELLING EXHIBITIONS INDEMNIFICATION...   \n",
       "2623                        [CANADA SHIPPING ACT, 2001]   \n",
       "2624      [CANADIAN ENVIRONMENTAL PROTECTION ACT, 1999]   \n",
       "2625                              [VISITING FORCES ACT]   \n",
       "2626                                      [TOBACCO ACT]   \n",
       "2627                                      [TOBACCO ACT]   \n",
       "\n",
       "                                            Short_Title  \\\n",
       "0                                                         \n",
       "1                                                         \n",
       "2                                                         \n",
       "3                                                         \n",
       "4                                                         \n",
       "5                                                         \n",
       "6                                                         \n",
       "7                                                         \n",
       "8                                                         \n",
       "9                                                         \n",
       "10                                                        \n",
       "11                                                        \n",
       "12                                                        \n",
       "13                                                        \n",
       "14                                                        \n",
       "15                                                        \n",
       "16                                                        \n",
       "17                                                        \n",
       "18                                                        \n",
       "19    Class II Nuclear Facilities and Prescribed Equ...   \n",
       "20                                                        \n",
       "21                                                        \n",
       "22                                                        \n",
       "23                         Nuclear Security Regulations   \n",
       "24                                                        \n",
       "25                                                        \n",
       "26                                                        \n",
       "27                                                        \n",
       "28                                                        \n",
       "29                                                        \n",
       "...                                                 ...   \n",
       "2598                                                      \n",
       "2599                                                      \n",
       "2600                                                      \n",
       "2601                                                      \n",
       "2602                                                      \n",
       "2603                                                      \n",
       "2604                                                      \n",
       "2605                                                      \n",
       "2606                                                      \n",
       "2607                           Private Buoy Regulations   \n",
       "2608                                                      \n",
       "2609                                                      \n",
       "2610                                                      \n",
       "2611                                                      \n",
       "2612                                                      \n",
       "2613                                                      \n",
       "2614                                                      \n",
       "2615                                                      \n",
       "2616                                                      \n",
       "2617                                                      \n",
       "2618                                                      \n",
       "2619    United Nations Al-Qaida and Taliban Regulations   \n",
       "2620                                                      \n",
       "2621                                                      \n",
       "2622                                                      \n",
       "2623                                                      \n",
       "2624                                                      \n",
       "2625                                                      \n",
       "2626                                                      \n",
       "2627                                                      \n",
       "\n",
       "                                             Long_Title Reg_Maker  \\\n",
       "0     Certain Canada Port Authorities Divestiture Re...      T.B.   \n",
       "1     Federal-Provincial Fiscal Arrangements Regulat...      P.C.   \n",
       "2           Persistence and Bioaccumulation Regulations      P.C.   \n",
       "3          Export Control List Notification Regulations      P.C.   \n",
       "4                Canadian Aviation Security Regulations      P.C.   \n",
       "5                     Designated Provisions Regulations      P.C.   \n",
       "6        Insider Reports Exemptions (Banks) Regulations      P.C.   \n",
       "7     Order Designating the Staff of the Non-Public ...      P.C.   \n",
       "8                          General Pilotage Regulations      P.C.   \n",
       "9          Military Police Professional Code of Conduct      P.C.   \n",
       "10    Commissioner’s Standing Orders (Dispute Resolu...             \n",
       "11                       Expropriation Fees Regulations             \n",
       "12                   Withdrawal of Entities Regulations      T.B.   \n",
       "13    Canada Deposit Insurance Corporation Notice Re...      P.C.   \n",
       "14         DNA Data Bank Advisory Committee Regulations      P.C.   \n",
       "15    Agriculture and Agri-Food Administrative Monet...             \n",
       "16       General Nuclear Safety and Control Regulations      P.C.   \n",
       "17                     Radiation Protection Regulations      P.C.   \n",
       "18               Class I Nuclear Facilities Regulations      P.C.   \n",
       "19    CLASS II NUCLEAR FACILITIES AND PRESCRIBED EQU...      P.C.   \n",
       "20                  Uranium Mines and Mills Regulations      P.C.   \n",
       "21    Nuclear Substances and Radiation Devices Regul...      P.C.   \n",
       "22    Packaging and Transport of Nuclear Substances ...      P.C.   \n",
       "23                         Nuclear Security Regulations      P.C.   \n",
       "24    Nuclear Non-proliferation Import and Export Co...      P.C.   \n",
       "25    Canadian Nuclear Safety Commission Rules of Pr...             \n",
       "26           Canadian Nuclear Safety Commission By-laws             \n",
       "27                  Stranded Steel Wire Remission Order      P.C.   \n",
       "28    Benzodiazepines and Other Targeted Substances ...      P.C.   \n",
       "29          New Brunswick Primary Forest Products Order      P.C.   \n",
       "...                                                 ...       ...   \n",
       "2598        Agricultural Marketing Programs Regulations      P.C.   \n",
       "2599  Order Authorizing Federal Employees to Acquire...      P.C.   \n",
       "2600  Portions of the Department of Citizenship and ...      T.B.   \n",
       "2601  Regulations Defining Certain Expressions for t...      P.C.   \n",
       "2602                                    Tariff of Costs      P.C.   \n",
       "2603                        European Union Surtax Order      P.C.   \n",
       "2604  Canada Port Authority Environmental Assessment...      P.C.   \n",
       "2605                       Book Importation Regulations      P.C.   \n",
       "2606  Exceptions for Educational Institutions, Libra...      P.C.   \n",
       "2607                           Private Buoy Regulations      P.C.   \n",
       "2608   Regulations Prescribing Networks (Copyright Act)      P.C.   \n",
       "2609  Organization of American States Privileges and...      P.C.   \n",
       "2610  Exemption from Deposit Insurance By-law (Notic...             \n",
       "2611  Exemption from Deposit Insurance By-law (Exemp...             \n",
       "2612  Exemption from Deposit Insurance By-law (Inter...             \n",
       "2613  Exemption from Deposit Insurance By-law (Forei...             \n",
       "2614  Notices of Uninsured Deposits Regulations (Banks)      P.C.   \n",
       "2615  Blainville Motor Vehicle Test Centre Benefit E...      T.B.   \n",
       "2616  Order respecting Privileges and Immunities in ...      P.C.   \n",
       "2617  Canadian Peacekeeping Service Medal Award Regu...      P.C.   \n",
       "2618  Order Authorizing Federal Employees to Acquire...      P.C.   \n",
       "2619    United Nations Al-Qaida and Taliban Regulations      P.C.   \n",
       "2620  Rules of the Review Tribunal (Agriculture and ...      P.C.   \n",
       "2621                      Industrial Design Regulations      P.C.   \n",
       "2622  Canada Travelling Exhibitions Indemnification ...      P.C.   \n",
       "2623  Competency of Operators of Pleasure Craft Regu...      P.C.   \n",
       "2624       Ozone-Depleting Substances Regulations, 1998       P.C   \n",
       "2625  Proclamation Designating Certain Countries as ...             \n",
       "2626                       Tobacco (Access) Regulations      P.C.   \n",
       "2627      Tobacco (Seizure and Restoration) Regulations      P.C.   \n",
       "\n",
       "     Reg_Order_Num Reg_Order_Maker_Date  Length_Order  \\\n",
       "0           827750            12/9/1999             2   \n",
       "1         2000-317            3/15/2000             2   \n",
       "2         2000-348            3/23/2000             3   \n",
       "3         2000-349            3/23/2000             1   \n",
       "4         2000-364            3/23/2000             1   \n",
       "5         2000-365            3/23/2000             2   \n",
       "6         2000-368            3/23/2000             2   \n",
       "7         2000-442            3/30/2000             2   \n",
       "8        2000-444            3/30/ 2000             2   \n",
       "9        1999-2213           12/16/1999             2   \n",
       "10                                                  1   \n",
       "11                                                  3   \n",
       "12          828066             4/6/2000             2   \n",
       "13        2000-630             5/4/2000             2   \n",
       "14       2000-635             5/4/ 2000             2   \n",
       "15                                                  3   \n",
       "16        2000-782           5/31/ 2000             2   \n",
       "17        2000-783           5/31/ 2000             2   \n",
       "18        2000-784            5/31/2000             2   \n",
       "19       2000-785            5/31/ 2000             2   \n",
       "20        2000-786           5/31/ 2000             2   \n",
       "21       2000-787             5/31/2000             2   \n",
       "22       2000-788            5/31/ 2000             1   \n",
       "23       2000-789             5/31/2000             2   \n",
       "24       2000-790             5/31/2000             2   \n",
       "25                                                  2   \n",
       "26                                                  2   \n",
       "27       2000-797             6/1/ 2000             2   \n",
       "28       2000-827             6/1/ 2000             2   \n",
       "29        2000-868             6/8/2000             2   \n",
       "...            ...                  ...           ...   \n",
       "2598    1999-1186            6/23/ 1999             2   \n",
       "2599    1999-1204            6/23/ 1999             1   \n",
       "2600        826779           12/10/1998             2   \n",
       "2601    1999-1217            6/23/ 1999             2   \n",
       "2602    1999-1311             7/9/ 1999             2   \n",
       "2603    1999-1323            7/28/ 1999             1   \n",
       "2604    1999-1324            7/28/ 1999             2   \n",
       "2605     1999-1350            7/28/1999             2   \n",
       "2606    1999-1351            7/28/ 1999             2   \n",
       "2607    1999-1364             7/28/1999             2   \n",
       "2608    1999-1479            8/26/ 1999             2   \n",
       "2609    1999-1491            8/26/ 1999             2   \n",
       "2610                                                2   \n",
       "2611                                                4   \n",
       "2612                                                2   \n",
       "2613                                                2   \n",
       "2614     1999-1770            10/6/1999             2   \n",
       "2615        826779           12/10/1998             2   \n",
       "2616     1999-1850          10/21/ 1999             2   \n",
       "2617     1999-1858          10/21/ 1999             2   \n",
       "2618    1999-1885           10/21/ 1999             1   \n",
       "2619     1999-2015           11/10/1999             1   \n",
       "2620     1999-2082          11/25/ 1999             1   \n",
       "2621    1999-2135            12/2/ 1999             2   \n",
       "2622     1999-2163           12/9/ 1999             2   \n",
       "2623      1999-11            1/15/ 1999             2   \n",
       "2624     1998-2251           12/16/1998             1   \n",
       "2625                                               13   \n",
       "2626      1999-197            2/11/1999             2   \n",
       "2627      1999-198           2/11/ 1999             2   \n",
       "\n",
       "                                                  Order  Length_Body  \\\n",
       "0     [{'Footnote': {'Text': 'S.C. 1992, c. 46, s. 2...           11   \n",
       "1     [{'Footnote': [{'Text': 'S.C. 1999, c. 31, s. ...           31   \n",
       "2     [[{'Footnote': {'Text': 'S.C. 1999, c. 33', 'L...            6   \n",
       "3     [{'Text': {'Repealed': '[Repealed, SOR/2013-88...            5   \n",
       "4     [{'Text': {'Repealed': '[Repealed, SOR/2011-31...          119   \n",
       "5     [{'Footnote': {'Text': 'S.C. 1992, c. 4, s. 19...            6   \n",
       "6                                                                  2   \n",
       "7     [{'Footnote': {'Text': 'S.C. 1999, c. 26, s. 1...            2   \n",
       "8     [{'Footnote': {'Text': 'R.S., c. 31 (1st Supp....           29   \n",
       "9     [{'Footnote': {'Text': 'S.C. 1998, c. 35, s. 5...            9   \n",
       "10    [{'Text': {'Repealed': '[Repealed, SOR/2010-18...           28   \n",
       "11    [[{'Footnote': [{'Text': 'S.C. 1996, c. 10, s....            3   \n",
       "12    [{'Footnote': {'Text': 'S.C. 1999, c. 34, s. 9...           11   \n",
       "13    [{'Footnote': {'Text': 'S.C. 1996, c. 16, s. 4...            6   \n",
       "14    [{'Footnote': {'Text': 'S.C. 1998, c. 37', 'La...            7   \n",
       "15    [[{'Footnote': {'Text': 'S.C. 1995, c. 40', 'L...           16   \n",
       "16    [{'Footnote': {'Text': 'S.C. 1997, c. 9', 'Lab...           40   \n",
       "17    [{'Footnote': {'Text': 'S.C. 1997, c. 9', 'Lab...           26   \n",
       "18    [[{'Text': {'XRefExternal': ['Nuclear Safety a...           19   \n",
       "19    [[{'Text': {'XRefExternal': ['Nuclear Safety a...           35   \n",
       "20    [{'Footnote': {'Text': 'S.C. 1997, c. 9', 'Lab...           20   \n",
       "21    [{'Footnote': {'Text': 'S.C. 1997, c. 9', 'Lab...           41   \n",
       "22    [{'Text': {'Repealed': '[Repealed, SOR/2015-14...           24   \n",
       "23    [{'Footnote': {'Text': 'S.C. 1997, c. 9', 'Lab...           68   \n",
       "24    [{'Footnote': {'Text': 'S.C. 1997, c. 9', 'Lab...            5   \n",
       "25    [[{'Text': {'XRefExternal': ['Nuclear Safety a...           46   \n",
       "26    [[{'Footnote': {'Text': 'S.C. 1997, c. 9', 'La...           18   \n",
       "27    [{'Footnote': {'Text': 'S.C. 1997, c. 36', 'La...            3   \n",
       "28    [{'Footnote': {'Text': 'S.C. 1996, c. 19', 'La...           82   \n",
       "29    [{'Footnote': {'Text': 'S.C. 1991, c. 34, s. 2...            4   \n",
       "...                                                 ...          ...   \n",
       "2598  [{'Footnote': {'Text': 'S.C. 1997, c. 20', 'La...           18   \n",
       "2599  [{'Text': {'XRefExternal': ['Territorial Lands...            3   \n",
       "2600  [{'Footnote': {'Text': 'S.C. 1992, c. 46, s. 2...           10   \n",
       "2601  [{'Footnote': {'Text': 'S.C. 1999, c. 23', 'La...            2   \n",
       "2602  [{'Text': {'XRefExternal': 'Expropriation Act'...            2   \n",
       "2603  [{'Text': {'Repealed': '[Repealed, SOR/2011-15...            6   \n",
       "2604  [{'Footnote': [{'Text': 'S.C. 1998, c. 10, s. ...           32   \n",
       "2605  [{'Footnote': [{'Text': 'S.C. 1997, c. 24, s. ...           11   \n",
       "2606  [{'Footnote': {'Text': 'S.C. 1997, c. 24, s. 1...            9   \n",
       "2607  [{'Footnote': {'Text': 'R.S., c. 6 (3rd Supp.)...            9   \n",
       "2608  [{'Footnote': [{'Text': 'S.C. 1997, c. 24, s. ...            2   \n",
       "2609  [{'Footnote': {'Text': 'S.C. 1991, c. 41', 'La...            3   \n",
       "2610  [[{'Footnote': [{'Text': 'R.S., c. 18 (3rd Sup...            5   \n",
       "2611  [[{'Footnote': [{'Text': 'R.S., c. 18 (3rd Sup...            2   \n",
       "2612  [[{'Footnote': [{'Text': 'R.S., c. 18 (3rd Sup...            2   \n",
       "2613  [[{'Footnote': [{'Text': 'R.S., c. 18 (3rd Sup...            2   \n",
       "2614  [{'Footnote': [{'Text': 'S.C. 1997, c. 15, s. ...            6   \n",
       "2615  [{'Footnote': {'Text': 'S.C. 1992, c. 46, s. 2...           12   \n",
       "2616  [{'Footnote': [{'Text': 'S.C. 1995, c. 5, par....           11   \n",
       "2617  [{'Footnote': {'Text': 'S.C. 1997, c. 31', 'La...            4   \n",
       "2618  [{'Text': {'XRefExternal': ['Territorial Lands...            3   \n",
       "2619  [{'Text': {'XRefExternal': ['United Nations Ac...           21   \n",
       "2620  [{'Text': {'Repealed': '[Repealed, SOR/2015-10...           45   \n",
       "2621  [{'Footnote': {'Text': u'S.C. 1993, c. 44, s.\\...           24   \n",
       "2622  [{'Footnote': {'Text': 'S.C. 1999, c. 29', 'La...           18   \n",
       "2623  [{'Footnote': {'Text': 'R.S., c. 6 (3rd Supp.)...           13   \n",
       "2624  [{'Text': {'Repealed': '[Repealed, SOR/2016-13...           47   \n",
       "2625  [[{'SignatureBlock': {'SignatureTitle': '[L.S....           47   \n",
       "2626  [[{'Text': {'XRefExternal': ['Tobacco Act', 'T...            6   \n",
       "2627  [[{'Text': {'XRefExternal': ['Tobacco Act', 'T...            5   \n",
       "\n",
       "                                                   Body  \n",
       "0     [[{'Text': 'The definitions in this section ap...  \n",
       "1     [[{'Text': {'Repealed': '[Repealed, SOR/2007-3...  \n",
       "2     [[{'Text': 'The definitions in this section ap...  \n",
       "3     [[{'Text': {'Repealed': '[Repealed, SOR/2013-8...  \n",
       "4     [[{'Text': {'Repealed': '[Repealed, SOR/2011-3...  \n",
       "5     [[{'Text': 'The definitions in this section ap...  \n",
       "6     [[{'Text': {'Repealed': '[Repealed, SOR/2006-3...  \n",
       "7                                                        \n",
       "8     [[{'Text': 'The definitions in this section ap...  \n",
       "9     [[{'Text': {'XRefExternal': 'National Defence ...  \n",
       "10    [[{'Text': {'Repealed': '[Repealed, SOR/2010-1...  \n",
       "11    [[{'Text': {'XRefExternal': ['Expropriation Ac...  \n",
       "12    [[{'Text': 'The definitions in this section ap...  \n",
       "13    [[{'Text': 'The definitions in this section ap...  \n",
       "14    [[{'Text': u'In these Regulations, \\u201cAdvis...  \n",
       "15    [[{'Text': 'The following definitions apply in...  \n",
       "16    [[{'Text': 'The definitions in this section ap...  \n",
       "17    [[{'Subsection': [{'Text': 'The definitions in...  \n",
       "18    [[{'Text': 'The definitions in this section ap...  \n",
       "19    [[{'Text': 'The definitions in this section ap...  \n",
       "20    [[{'Text': 'The definitions in this section ap...  \n",
       "21    [[{'Text': 'The definitions in this section ap...  \n",
       "22    [[{'Text': {'Repealed': '[Repealed, SOR/2015-1...  \n",
       "23    [[{'Text': 'The definitions in this section ap...  \n",
       "24    [[{'Subsection': [{'Text': 'The definitions in...  \n",
       "25    [[{'Subsection': [{'Text': 'The definitions in...  \n",
       "26    [[{'Text': 'The definitions in this section ap...  \n",
       "27    [[{'Text': {'XRefExternal': 'Customs Tariff'},...  \n",
       "28    [[{'Subsection': [{'Text': 'The definitions in...  \n",
       "29    [[{'Subsection': [{'Text': 'The definitions in...  \n",
       "...                                                 ...  \n",
       "2598  [[{'Text': 'The following definitions apply in...  \n",
       "2599  [[{'Text': 'The purpose of this Order is to au...  \n",
       "2600  [[{'Text': 'The definitions in this section ap...  \n",
       "2601  [[{'Text': {'XRefExternal': 'Foreign Publisher...  \n",
       "2602  [[{'Text': {'XRefExternal': 'Expropriation Act...  \n",
       "2603  [[{'Text': {'Repealed': '[Repealed, SOR/2011-1...  \n",
       "2604  [[{'Text': 'The definitions in this section ap...  \n",
       "2605  [[{'Text': 'The definitions in this section ap...  \n",
       "2606  [[{'Subsection': [{'Text': {'XRefExternal': 'C...  \n",
       "2607  [[{'Text': {'DefinedTermEn': 'private buoy'}, ...  \n",
       "2608  [[{'Text': {'XRefExternal': 'Copyright Act'}, ...  \n",
       "2609  [[{'Text': 'The definitions in this section ap...  \n",
       "2610  [[{'Text': 'The definitions in this section ap...  \n",
       "2611  [[{'Text': {'XRefExternal': 'Canada Deposit In...  \n",
       "2612  [[{'Text': {'XRefExternal': 'Canada Deposit In...  \n",
       "2613  [[{'Text': {'XRefExternal': 'Canada Deposit In...  \n",
       "2614  [[{'Subsection': [{'Text': {'XRefExternal': 'B...  \n",
       "2615  [[{'Text': 'The definitions in this section ap...  \n",
       "2616  [[{'Text': 'The definitions in this section ap...  \n",
       "2617  [[{'Text': 'The definition in this section app...  \n",
       "2618  [[{'Text': 'The purpose of this Order is to au...  \n",
       "2619  [[{'Text': 'The definitions in this section ap...  \n",
       "2620  [[{'Text': {'Repealed': '[Repealed, SOR/2015-1...  \n",
       "2621  [[{'Text': 'The definitions in this section ap...  \n",
       "2622  [[{'Text': 'The definitions in this section ap...  \n",
       "2623  [[{'Text': 'The definitions in this section ap...  \n",
       "2624  [[{'Text': {'Repealed': '[Repealed, SOR/2016-1...  \n",
       "2625                                                     \n",
       "2626  [[{'Text': {'XRefExternal': 'Tobacco and Vapin...  \n",
       "2627  [[{'Text': {'XRefExternal': 'Tobacco and Vapin...  \n",
       "\n",
       "[2628 rows x 14 columns]"
      ]
     },
     "execution_count": 14,
     "metadata": {},
     "output_type": "execute_result"
    }
   ],
   "source": [
    "#check the final output\n",
    "df"
   ]
  },
  {
   "cell_type": "code",
   "execution_count": null,
   "metadata": {
    "collapsed": true
   },
   "outputs": [],
   "source": [
    "#Save the final output"
   ]
  },
  {
   "cell_type": "code",
   "execution_count": 15,
   "metadata": {
    "collapsed": true
   },
   "outputs": [],
   "source": [
    "df.to_excel(\"AI_Reg_Flat_Table_V1.xlsx\")"
   ]
  },
  {
   "cell_type": "markdown",
   "metadata": {
    "collapsed": true
   },
   "source": [
    "# Testing for Body Bugs"
   ]
  },
  {
   "cell_type": "code",
   "execution_count": 45,
   "metadata": {
    "collapsed": true
   },
   "outputs": [],
   "source": [
    "doc = etree.parse(\"SOR-2000-300.xml\")\n",
    "doc_dict = make_dict_from_tree(doc.getroot())"
   ]
  },
  {
   "cell_type": "code",
   "execution_count": 46,
   "metadata": {},
   "outputs": [
    {
     "data": {
      "text/plain": [
       "{'Body': {'Heading': [{'TitleText': 'Interpretation'},\n",
       "   {'TitleText': 'Samples'},\n",
       "   {'TitleText': {'XRefExternal': ['Criminal Code', 'National Defence Act']}},\n",
       "   {'TitleText': 'Written Consent'},\n",
       "   {'TitleText': 'Removal of Access to Information'},\n",
       "   {'TitleText': 'International Agreements'},\n",
       "   {'TitleText': 'Coming into Force'}],\n",
       "  'Section': [{'Definition': [{'Text': {'DefinedTermEn': 'Act',\n",
       "       'DefinedTermFr': 'Loi',\n",
       "       'XRefExternal': 'DNA Identification Act'}},\n",
       "     {'Text': {'DefinedTermEn': 'DNA Data Bank',\n",
       "       'DefinedTermFr': u'banque de donn\\xe9es g\\xe9n\\xe9tiques'}}],\n",
       "    'HistoricalNote': 'SOR/2018-42, s. 1.',\n",
       "    'Label': '1',\n",
       "    'Text': 'The definitions in this section apply in these Regulations.'},\n",
       "   {'HistoricalNote': 'SOR/2002-451, s. 1; SOR/2006-225, s. 1(E); SOR/2008-139, s. 1(E); SOR/2018-42, s. 2.',\n",
       "    'Label': '2',\n",
       "    'Subsection': [{'Label': '(1)',\n",
       "      'Paragraph': [{'Label': '(a)',\n",
       "        'Text': 'a sample of the bodily substance that was collected with a DNA Data Bank sample kit approved by the Commissioner in accordance with subsection (2);'},\n",
       "       {'Label': '(b)',\n",
       "        'Text': 'a copy of the authorization for the collection of the sample;'},\n",
       "       {'Label': '(c)',\n",
       "        'Text': 'the name of the person who collected the sample; and'},\n",
       "       {'Label': '(d)',\n",
       "        'Text': 'subject to subsection (3), the fingerprints of the convicted offender from whom the sample is collected and the name of the person who took them.'}],\n",
       "      'Text': 'A DNA profile derived from a bodily substance of a convicted offender is to be added to the convicted offenders index of the DNA Data Bank only if all of the following are received by the Commissioner:'},\n",
       "     {'Label': '(2)',\n",
       "      'Paragraph': [{'Label': '(a)',\n",
       "        'Text': 'detailed instructions on the procedure for collecting and preserving a sample and how to prevent its contamination;'},\n",
       "       {'Label': '(b)',\n",
       "        'Text': 'a sample collection medium that allows the sample to be safely handled and preserved without contamination; and'},\n",
       "       {'Label': '(c)', 'Text': 'the items necessary to collect the sample.'}],\n",
       "      'Text': 'The Commissioner must approve a DNA Data Bank sample kit that ensures the integrity of samples of bodily substances transmitted to the Commissioner. The kit must include'},\n",
       "     {'Label': '(3)',\n",
       "      'Paragraph': [{'Label': '(a)',\n",
       "        'Text': 'fingerprints could not be taken or it would not have been reasonable in the circumstances to take them at the time the sample was taken; and'},\n",
       "       {'Label': '(b)',\n",
       "        'Text': 'adequate means were used to confirm the identity of the convicted offender.'}],\n",
       "      'Text': 'Fingerprints are not required for the purposes of subsection (1) if the Commissioner is satisfied, based on a written statement that includes the name of the person who provided the statement, that'}]},\n",
       "   {'Label': '2.1', 'Text': {'Repealed': '[Repealed, SOR/2018-42, s. 2]'}},\n",
       "   {'HistoricalNote': 'SOR/2008-139, s. 2; SOR/2018-42, s. 3.',\n",
       "    'Label': '2.2',\n",
       "    'Subsection': [{'Label': '(1)',\n",
       "      'Paragraph': [{'Label': '(a)',\n",
       "        'Text': 'written confirmation by the peace officer or person that they have searched the applicable records kept by the Canadian Police Information Centre and that the convicted offenders index of the DNA Data Bank contains the DNA profile of the convicted offender who is the subject of the order or authorization; and'},\n",
       "       {'Label': '(b)',\n",
       "        'Subparagraph': [{'Label': '(i)',\n",
       "          'Text': 'attests that fingerprints could not be taken or that it would not have been reasonable in the circumstances to take them,'},\n",
       "         {'Label': '(ii)',\n",
       "          'Text': 'describes the means that were used to confirm the identity of the convicted offender, and'},\n",
       "         {'Label': '(iii)',\n",
       "          'Text': 'sets out the name of the person making the statement.'}],\n",
       "        'Text': 'the fingerprints of the convicted offender, and the name of the person who took the fingerprints, or a written statement that'}],\n",
       "      'Text': {'XRefExternal': ['Criminal Code', 'National Defence Act']}},\n",
       "     {'Label': '(2)',\n",
       "      'Paragraph': [{'Label': '(a)',\n",
       "        'Text': 'provide the corrected or supplementary information; or'},\n",
       "       {'Label': '(b)',\n",
       "        'Text': {'XRefExternal': ['Criminal Code', 'National Defence Act']}}],\n",
       "      'Text': {'XRefExternal': ['Criminal Code', 'National Defence Act']}}]},\n",
       "   {'HistoricalNote': 'SOR/2018-42, s. 4.',\n",
       "    'Label': '2.3',\n",
       "    'Paragraph': [{'Label': '(a)',\n",
       "      'Text': u'the person\\u2019s DNA profile and related information will be added to the relatives of missing persons index, the voluntary donors index or the victims index, as the case may be;'},\n",
       "     {'Label': '(b)',\n",
       "      'Text': u'the person\\u2019s DNA profile will be used for the purposes of criminal identification, finding missing persons or identifying human remains, as the case may be;'},\n",
       "     {'Label': '(c)',\n",
       "      'Text': u'the person\\u2019s DNA profile will be compared, in accordance with section 5.5 of the Act, with DNA profiles that are already contained in the crime scene index, the convicted offenders index, the victims index, the missing person index, the voluntary donors index and the human remains index;'},\n",
       "     {'Label': '(d)',\n",
       "      'Text': u'the person\\u2019s DNA profile and any information in relation to it may only be communicated and used in accordance with the Act;'},\n",
       "     {'Label': '(e)',\n",
       "      'Text': u'access to information in relation to the person\\u2019s DNA profile will be removed from the relatives of missing persons index, the voluntary donors index or the victims index, as the case may be, in accordance with section 8.1 of the Act; and'},\n",
       "     {'Label': '(f)',\n",
       "      'Text': u'forensic DNA analysis and comparison of the person\\u2019s DNA profile may result in incidental findings, such as a finding relating to genetic relationships.'}],\n",
       "    'Text': u'For the purposes of section 5.4 of the Act, a person\\u2019s written consent is provided by signing a document that states that'},\n",
       "   {'HistoricalNote': 'SOR/2002-451, s. 2(F); SOR/2018-42, s. 5.',\n",
       "    'Label': '3',\n",
       "    'Subsection': [{'Label': '(1)',\n",
       "      'Text': 'For the purposes of subsection 8.1(3) of the Act, the prescribed period is five years beginning on the day on which the DNA profile was added to the victims index, the missing persons index, the relatives of missing persons index or the voluntary donors index, as the case may be.'},\n",
       "     {'Label': '(1.1)',\n",
       "      'Text': 'If access to information in relation to a DNA profile is not removed at the end of the five-year period because an investigating authority considered appropriate by the Commissioner advises the Commissioner of the matters set out in paragraphs 8.1(3)(a) and (b) of the Act, it must be removed after any subsequent period of five years during which no investigating authority considered appropriate by the Commissioner advises the Commissioner of those matters.'},\n",
       "     {'Label': '(1.2)',\n",
       "      'Text': 'For the purpose of subsection 8.1(5) of the Act, the removal of access to information in relation to a DNA profile under any of subsections 8.1(1) to (3) of the Act must be done by destroying the information in relation to the DNA profile and the DNA profile.'},\n",
       "     {'Label': '(2)',\n",
       "      'Paragraph': [{'Label': '(a)',\n",
       "        'Text': 'to shred, burn or otherwise physically destroy, in the case of information other than information in electronic form; and'},\n",
       "       {'Label': '(b)',\n",
       "        'Text': 'to delete, write over or otherwise render permanently inaccessible, in the case of information in electronic form.'}],\n",
       "      'Text': {'DefinedTermEn': 'destroy'}}]},\n",
       "   {'Label': '4', 'Text': {'Repealed': '[Repealed, SOR/2018-42, s. 6]'}},\n",
       "   {'HistoricalNote': 'SOR/2018-42, s. 7.',\n",
       "    'Label': '5',\n",
       "    'Text': u'For the purpose of subsection 6.4(4) of the Act, any agreement or arrangement \\u2014 authorizing the communication solely for the purposes of, as the case may be, the investigation or prosecution of a criminal offence or the investigation of a missing person or human remains \\u2014 that the Government of Canada or one of its institutions enters into with a government of a foreign state, an international organization or an institution must include safeguards to protect the privacy of the personal information that is used or disclosed under it.'},\n",
       "   {'Label': '6',\n",
       "    'Text': 'These Regulations come into force on the day on which they are registered.'}]},\n",
       " 'Identification': {'ConsolidationDate': {'Date': {'DD': '21',\n",
       "    'MM': '06',\n",
       "    'YYYY': '2018'}},\n",
       "  'EnablingAuthority': {'XRefExternal': 'DNA IDENTIFICATION ACT'},\n",
       "  'InstrumentNumber': 'SOR/2000-300',\n",
       "  'LastModifiedDate': {'Date': {'DD': '28', 'MM': '11', 'YYYY': '2006'}},\n",
       "  'LongTitle': 'DNA Identification Regulations',\n",
       "  'RegistrationDate': {'Date': {'DD': '27', 'MM': '7', 'YYYY': '2000'}},\n",
       "  'RegulationMakerOrder': {'Date': {'DD': '27', 'MM': '7', 'YYYY': ' 2000'},\n",
       "   'OrderNumber': '2000-1109',\n",
       "   'RegulationMaker': 'P.C.'}},\n",
       " 'Order': {'Provision': {'Footnote': {'Label': 'a',\n",
       "    'Text': 'S.C. 1998, c. 37'},\n",
       "   'Text': {'FootnoteRef': 'a',\n",
       "    'XRefExternal': ['DNA Identification Act',\n",
       "     'DNA Identification Regulations']}}}}"
      ]
     },
     "execution_count": 46,
     "metadata": {},
     "output_type": "execute_result"
    }
   ],
   "source": [
    "doc_dict['Regulation']"
   ]
  },
  {
   "cell_type": "code",
   "execution_count": 38,
   "metadata": {
    "collapsed": true
   },
   "outputs": [],
   "source": [
    "import pandas as pd\n",
    "import io\n",
    "import xml.etree.ElementTree as ElementTree\n",
    "import os"
   ]
  },
  {
   "cell_type": "code",
   "execution_count": 39,
   "metadata": {
    "collapsed": true
   },
   "outputs": [],
   "source": [
    "class XmlListConfig(list):\n",
    "    def __init__(self, aList):\n",
    "        for element in aList:\n",
    "            if element:\n",
    "                # treat like dict\n",
    "                if len(element) == 1 or element[0].tag != element[1].tag:\n",
    "                    self.append(XmlDictConfig(element))\n",
    "                # treat like list\n",
    "                elif element[0].tag == element[1].tag:\n",
    "                    self.append(XmlListConfig(element))\n",
    "            elif element.text:\n",
    "                text = element.text.strip()\n",
    "                if text:\n",
    "                    self.append(text)\n",
    "\n",
    "\n",
    "class XmlDictConfig(dict):\n",
    "    '''\n",
    "    Example usage:\n",
    "\n",
    "    >>> tree = ElementTree.parse('your_file.xml')\n",
    "    >>> root = tree.getroot()\n",
    "    >>> xmldict = XmlDictConfig(root)\n",
    "\n",
    "    Or, if you want to use an XML string:\n",
    "\n",
    "    >>> root = ElementTree.XML(xml_string)\n",
    "    >>> xmldict = XmlDictConfig(root)\n",
    "\n",
    "    And then use xmldict for what it is... a dict.\n",
    "    '''\n",
    "    def __init__(self, parent_element):\n",
    "        if parent_element.items():\n",
    "            self.update(dict(parent_element.items()))\n",
    "        for element in parent_element:\n",
    "            if element:\n",
    "                # treat like dict - we assume that if the first two tags\n",
    "                # in a series are different, then they are all different.\n",
    "                if len(element) == 1 or element[0].tag != element[1].tag:\n",
    "                    aDict = XmlDictConfig(element)\n",
    "                # treat like list - we assume that if the first two tags\n",
    "                # in a series are the same, then the rest are the same.\n",
    "                else:\n",
    "                    # here, we put the list in dictionary; the key is the\n",
    "                    # tag name the list elements all share in common, and\n",
    "                    # the value is the list itself \n",
    "                    aDict = {element[0].tag: XmlListConfig(element)}\n",
    "                # if the tag has attributes, add those to the dict\n",
    "                if element.items():\n",
    "                    aDict.update(dict(element.items()))\n",
    "                self.update({element.tag: aDict})\n",
    "            # this assumes that if you've got an attribute in a tag,\n",
    "            # you won't be having any text. This may or may not be a \n",
    "            # good idea -- time will tell. It works for the way we are\n",
    "            # currently doing XML configuration files...\n",
    "            elif element.items():\n",
    "                self.update({element.tag: dict(element.items())})\n",
    "            # finally, if there are no child tags and no attributes, extract\n",
    "            # the text\n",
    "            else:\n",
    "                self.update({element.tag: element.text})"
   ]
  },
  {
   "cell_type": "code",
   "execution_count": 40,
   "metadata": {
    "collapsed": true
   },
   "outputs": [],
   "source": [
    "tree = ElementTree.parse('SOR-2000-300.xml')\n",
    "root = tree.getroot()"
   ]
  },
  {
   "cell_type": "code",
   "execution_count": 41,
   "metadata": {},
   "outputs": [
    {
     "data": {
      "text/plain": [
       "<Element 'Regulation' at 0x122b6da0>"
      ]
     },
     "execution_count": 41,
     "metadata": {},
     "output_type": "execute_result"
    }
   ],
   "source": [
    "root"
   ]
  },
  {
   "cell_type": "code",
   "execution_count": 42,
   "metadata": {
    "collapsed": true
   },
   "outputs": [],
   "source": [
    "xmldict = XmlDictConfig(root)"
   ]
  },
  {
   "cell_type": "code",
   "execution_count": 43,
   "metadata": {},
   "outputs": [
    {
     "data": {
      "text/plain": [
       "{'Body': {'Heading': {'TitleText': 'Coming into Force', 'level': '1'},\n",
       "  'Section': {'Label': '6',\n",
       "   'Text': 'These Regulations come into force on the day on which they are registered.',\n",
       "   'type': 'transitional'}},\n",
       " 'Identification': {'ConsolidationDate': {'Date': {'DD': '21',\n",
       "    'MM': '06',\n",
       "    'YYYY': '2018'}},\n",
       "  'EnablingAuthority': {'XRefExternal': {'reference-type': 'act'}},\n",
       "  'InstrumentNumber': 'SOR/2000-300',\n",
       "  'LastModifiedDate': {'Date': {'DD': '28', 'MM': '11', 'YYYY': '2006'}},\n",
       "  'LongTitle': 'DNA Identification Regulations',\n",
       "  'RegistrationDate': {'Date': {'DD': '27', 'MM': '7', 'YYYY': '2000'}},\n",
       "  'RegulationMakerOrder': {'Date': {'DD': '27', 'MM': '7', 'YYYY': ' 2000'},\n",
       "   'OrderNumber': '2000-1109',\n",
       "   'RegulationMaker': 'P.C.'}},\n",
       " 'Order': {'Provision': {'Footnote': {'Label': 'a',\n",
       "    'Text': 'S.C. 1998, c. 37',\n",
       "    'id': 'fn_SOR-2000-300_e_hq_1298',\n",
       "    'placement': 'page',\n",
       "    'status': 'official'},\n",
       "   'Text': {'FootnoteRef': {'idref': 'fn_SOR-2000-300_e_hq_1298'},\n",
       "    'XRefExternal': {'reference-type': 'regulation'}},\n",
       "   'format-ref': 'indent-0-0',\n",
       "   'language-align': 'yes',\n",
       "   'list-item': 'no'}},\n",
       " 'regulation-type': 'SOR',\n",
       " '{http://www.w3.org/XML/1998/namespace}lang': 'en'}"
      ]
     },
     "execution_count": 43,
     "metadata": {},
     "output_type": "execute_result"
    }
   ],
   "source": [
    "xmldict"
   ]
  },
  {
   "cell_type": "code",
   "execution_count": 44,
   "metadata": {
    "collapsed": true
   },
   "outputs": [],
   "source": [
    "# More Body Testing"
   ]
  },
  {
   "cell_type": "code",
   "execution_count": 48,
   "metadata": {},
   "outputs": [
    {
     "data": {
      "text/plain": [
       "{'Heading': [{'TitleText': 'Interpretation'},\n",
       "  {'TitleText': 'Samples'},\n",
       "  {'TitleText': {'XRefExternal': ['Criminal Code', 'National Defence Act']}},\n",
       "  {'TitleText': 'Written Consent'},\n",
       "  {'TitleText': 'Removal of Access to Information'},\n",
       "  {'TitleText': 'International Agreements'},\n",
       "  {'TitleText': 'Coming into Force'}],\n",
       " 'Section': [{'Definition': [{'Text': {'DefinedTermEn': 'Act',\n",
       "      'DefinedTermFr': 'Loi',\n",
       "      'XRefExternal': 'DNA Identification Act'}},\n",
       "    {'Text': {'DefinedTermEn': 'DNA Data Bank',\n",
       "      'DefinedTermFr': u'banque de donn\\xe9es g\\xe9n\\xe9tiques'}}],\n",
       "   'HistoricalNote': 'SOR/2018-42, s. 1.',\n",
       "   'Label': '1',\n",
       "   'Text': 'The definitions in this section apply in these Regulations.'},\n",
       "  {'HistoricalNote': 'SOR/2002-451, s. 1; SOR/2006-225, s. 1(E); SOR/2008-139, s. 1(E); SOR/2018-42, s. 2.',\n",
       "   'Label': '2',\n",
       "   'Subsection': [{'Label': '(1)',\n",
       "     'Paragraph': [{'Label': '(a)',\n",
       "       'Text': 'a sample of the bodily substance that was collected with a DNA Data Bank sample kit approved by the Commissioner in accordance with subsection (2);'},\n",
       "      {'Label': '(b)',\n",
       "       'Text': 'a copy of the authorization for the collection of the sample;'},\n",
       "      {'Label': '(c)',\n",
       "       'Text': 'the name of the person who collected the sample; and'},\n",
       "      {'Label': '(d)',\n",
       "       'Text': 'subject to subsection (3), the fingerprints of the convicted offender from whom the sample is collected and the name of the person who took them.'}],\n",
       "     'Text': 'A DNA profile derived from a bodily substance of a convicted offender is to be added to the convicted offenders index of the DNA Data Bank only if all of the following are received by the Commissioner:'},\n",
       "    {'Label': '(2)',\n",
       "     'Paragraph': [{'Label': '(a)',\n",
       "       'Text': 'detailed instructions on the procedure for collecting and preserving a sample and how to prevent its contamination;'},\n",
       "      {'Label': '(b)',\n",
       "       'Text': 'a sample collection medium that allows the sample to be safely handled and preserved without contamination; and'},\n",
       "      {'Label': '(c)', 'Text': 'the items necessary to collect the sample.'}],\n",
       "     'Text': 'The Commissioner must approve a DNA Data Bank sample kit that ensures the integrity of samples of bodily substances transmitted to the Commissioner. The kit must include'},\n",
       "    {'Label': '(3)',\n",
       "     'Paragraph': [{'Label': '(a)',\n",
       "       'Text': 'fingerprints could not be taken or it would not have been reasonable in the circumstances to take them at the time the sample was taken; and'},\n",
       "      {'Label': '(b)',\n",
       "       'Text': 'adequate means were used to confirm the identity of the convicted offender.'}],\n",
       "     'Text': 'Fingerprints are not required for the purposes of subsection (1) if the Commissioner is satisfied, based on a written statement that includes the name of the person who provided the statement, that'}]},\n",
       "  {'Label': '2.1', 'Text': {'Repealed': '[Repealed, SOR/2018-42, s. 2]'}},\n",
       "  {'HistoricalNote': 'SOR/2008-139, s. 2; SOR/2018-42, s. 3.',\n",
       "   'Label': '2.2',\n",
       "   'Subsection': [{'Label': '(1)',\n",
       "     'Paragraph': [{'Label': '(a)',\n",
       "       'Text': 'written confirmation by the peace officer or person that they have searched the applicable records kept by the Canadian Police Information Centre and that the convicted offenders index of the DNA Data Bank contains the DNA profile of the convicted offender who is the subject of the order or authorization; and'},\n",
       "      {'Label': '(b)',\n",
       "       'Subparagraph': [{'Label': '(i)',\n",
       "         'Text': 'attests that fingerprints could not be taken or that it would not have been reasonable in the circumstances to take them,'},\n",
       "        {'Label': '(ii)',\n",
       "         'Text': 'describes the means that were used to confirm the identity of the convicted offender, and'},\n",
       "        {'Label': '(iii)',\n",
       "         'Text': 'sets out the name of the person making the statement.'}],\n",
       "       'Text': 'the fingerprints of the convicted offender, and the name of the person who took the fingerprints, or a written statement that'}],\n",
       "     'Text': {'XRefExternal': ['Criminal Code', 'National Defence Act']}},\n",
       "    {'Label': '(2)',\n",
       "     'Paragraph': [{'Label': '(a)',\n",
       "       'Text': 'provide the corrected or supplementary information; or'},\n",
       "      {'Label': '(b)',\n",
       "       'Text': {'XRefExternal': ['Criminal Code', 'National Defence Act']}}],\n",
       "     'Text': {'XRefExternal': ['Criminal Code', 'National Defence Act']}}]},\n",
       "  {'HistoricalNote': 'SOR/2018-42, s. 4.',\n",
       "   'Label': '2.3',\n",
       "   'Paragraph': [{'Label': '(a)',\n",
       "     'Text': u'the person\\u2019s DNA profile and related information will be added to the relatives of missing persons index, the voluntary donors index or the victims index, as the case may be;'},\n",
       "    {'Label': '(b)',\n",
       "     'Text': u'the person\\u2019s DNA profile will be used for the purposes of criminal identification, finding missing persons or identifying human remains, as the case may be;'},\n",
       "    {'Label': '(c)',\n",
       "     'Text': u'the person\\u2019s DNA profile will be compared, in accordance with section 5.5 of the Act, with DNA profiles that are already contained in the crime scene index, the convicted offenders index, the victims index, the missing person index, the voluntary donors index and the human remains index;'},\n",
       "    {'Label': '(d)',\n",
       "     'Text': u'the person\\u2019s DNA profile and any information in relation to it may only be communicated and used in accordance with the Act;'},\n",
       "    {'Label': '(e)',\n",
       "     'Text': u'access to information in relation to the person\\u2019s DNA profile will be removed from the relatives of missing persons index, the voluntary donors index or the victims index, as the case may be, in accordance with section 8.1 of the Act; and'},\n",
       "    {'Label': '(f)',\n",
       "     'Text': u'forensic DNA analysis and comparison of the person\\u2019s DNA profile may result in incidental findings, such as a finding relating to genetic relationships.'}],\n",
       "   'Text': u'For the purposes of section 5.4 of the Act, a person\\u2019s written consent is provided by signing a document that states that'},\n",
       "  {'HistoricalNote': 'SOR/2002-451, s. 2(F); SOR/2018-42, s. 5.',\n",
       "   'Label': '3',\n",
       "   'Subsection': [{'Label': '(1)',\n",
       "     'Text': 'For the purposes of subsection 8.1(3) of the Act, the prescribed period is five years beginning on the day on which the DNA profile was added to the victims index, the missing persons index, the relatives of missing persons index or the voluntary donors index, as the case may be.'},\n",
       "    {'Label': '(1.1)',\n",
       "     'Text': 'If access to information in relation to a DNA profile is not removed at the end of the five-year period because an investigating authority considered appropriate by the Commissioner advises the Commissioner of the matters set out in paragraphs 8.1(3)(a) and (b) of the Act, it must be removed after any subsequent period of five years during which no investigating authority considered appropriate by the Commissioner advises the Commissioner of those matters.'},\n",
       "    {'Label': '(1.2)',\n",
       "     'Text': 'For the purpose of subsection 8.1(5) of the Act, the removal of access to information in relation to a DNA profile under any of subsections 8.1(1) to (3) of the Act must be done by destroying the information in relation to the DNA profile and the DNA profile.'},\n",
       "    {'Label': '(2)',\n",
       "     'Paragraph': [{'Label': '(a)',\n",
       "       'Text': 'to shred, burn or otherwise physically destroy, in the case of information other than information in electronic form; and'},\n",
       "      {'Label': '(b)',\n",
       "       'Text': 'to delete, write over or otherwise render permanently inaccessible, in the case of information in electronic form.'}],\n",
       "     'Text': {'DefinedTermEn': 'destroy'}}]},\n",
       "  {'Label': '4', 'Text': {'Repealed': '[Repealed, SOR/2018-42, s. 6]'}},\n",
       "  {'HistoricalNote': 'SOR/2018-42, s. 7.',\n",
       "   'Label': '5',\n",
       "   'Text': u'For the purpose of subsection 6.4(4) of the Act, any agreement or arrangement \\u2014 authorizing the communication solely for the purposes of, as the case may be, the investigation or prosecution of a criminal offence or the investigation of a missing person or human remains \\u2014 that the Government of Canada or one of its institutions enters into with a government of a foreign state, an international organization or an institution must include safeguards to protect the privacy of the personal information that is used or disclosed under it.'},\n",
       "  {'Label': '6',\n",
       "   'Text': 'These Regulations come into force on the day on which they are registered.'}]}"
      ]
     },
     "execution_count": 48,
     "metadata": {},
     "output_type": "execute_result"
    }
   ],
   "source": [
    "doc_dict['Regulation']['Body']"
   ]
  },
  {
   "cell_type": "code",
   "execution_count": null,
   "metadata": {
    "collapsed": true
   },
   "outputs": [],
   "source": []
  },
  {
   "cell_type": "code",
   "execution_count": null,
   "metadata": {
    "collapsed": true
   },
   "outputs": [],
   "source": []
  },
  {
   "cell_type": "code",
   "execution_count": null,
   "metadata": {
    "collapsed": true
   },
   "outputs": [],
   "source": []
  }
 ],
 "metadata": {
  "kernelspec": {
   "display_name": "Python 3",
   "language": "python",
   "name": "python3"
  },
  "language_info": {
   "codemirror_mode": {
    "name": "ipython",
    "version": 3
   },
   "file_extension": ".py",
   "mimetype": "text/x-python",
   "name": "python",
   "nbconvert_exporter": "python",
   "pygments_lexer": "ipython3",
   "version": "3.6.5"
  }
 },
 "nbformat": 4,
 "nbformat_minor": 2
}
