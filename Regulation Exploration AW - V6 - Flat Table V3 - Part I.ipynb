{
 "cells": [
  {
   "cell_type": "code",
   "execution_count": 1,
   "metadata": {},
   "outputs": [
    {
     "data": {
      "text/plain": [
       "\"\\nThe purpose of this code is to generate the first part of the flat table: 'Identification', 'Order', and 'Scheduale'\\nXML tag extraction. In addition to 'Body', these are the primary XML tags\\n\\nNote that the body will be extracted in part II as it requires the 'label' to be preserved with each phrase\\n\""
      ]
     },
     "execution_count": 1,
     "metadata": {},
     "output_type": "execute_result"
    }
   ],
   "source": [
    "'''\n",
    "The purpose of this code is to generate the first part of the flat table: 'Identification', 'Order', and 'Scheduale'\n",
    "XML tag extraction. In addition to 'Body', these are the primary XML tags\n",
    "\n",
    "Note that the body will be extracted in part II as it requires the 'label' to be preserved with each phrase\n",
    "'''"
   ]
  },
  {
   "cell_type": "code",
   "execution_count": 2,
   "metadata": {
    "collapsed": true
   },
   "outputs": [],
   "source": [
    "#Import the required packages\n",
    "import pandas as pd\n",
    "import xml.etree.ElementTree\n",
    "from lxml import etree\n",
    "import os\n",
    "import io\n",
    "\n",
    "#Hide Future Version warnings\n",
    "import warnings\n",
    "warnings.simplefilter(action='ignore', category=FutureWarning)"
   ]
  },
  {
   "cell_type": "code",
   "execution_count": 3,
   "metadata": {
    "collapsed": true
   },
   "outputs": [],
   "source": [
    "#Code to convert XML element tree to a dictionary\n",
    "def make_dict_from_tree(element_tree):\n",
    "    def internal_iter(tree, accum):\n",
    "        if tree is None:\n",
    "            return accum\n",
    "        \n",
    "        if tree.getchildren():\n",
    "            accum[tree.tag] = {}\n",
    "            for each in tree.getchildren():\n",
    "                result = internal_iter(each, {})\n",
    "                if each.tag in accum[tree.tag]:\n",
    "                    if not isinstance(accum[tree.tag][each.tag], list):\n",
    "                        accum[tree.tag][each.tag] = [\n",
    "                            accum[tree.tag][each.tag]\n",
    "                        ]\n",
    "                    accum[tree.tag][each.tag].append(result[each.tag])\n",
    "                else:\n",
    "                    accum[tree.tag].update(result)\n",
    "        else:\n",
    "            accum[tree.tag] = tree.text\n",
    "        return accum\n",
    "    return internal_iter(element_tree, {})"
   ]
  },
  {
   "cell_type": "markdown",
   "metadata": {},
   "source": [
    "## Extracting the Instrument Tags & Bulk Scheduale Info"
   ]
  },
  {
   "cell_type": "code",
   "execution_count": 4,
   "metadata": {
    "collapsed": true
   },
   "outputs": [],
   "source": [
    "#Create the empty lists to append to\n",
    "list_InstrumentNumber = []\n",
    "list_RegistrationDate = []\n",
    "list_ConsolidationDate = []\n",
    "list_LastModifiedDate = []\n",
    "list_EnablingAuthority = []\n",
    "list_ShortTitle = []\n",
    "list_LongTitle = []\n",
    "list_RegulationMaker = []\n",
    "list_RegulationOrderNumber = []\n",
    "list_RegulationMakerOrderDate = []\n",
    "list_Schedule = []"
   ]
  },
  {
   "cell_type": "code",
   "execution_count": 5,
   "metadata": {
    "collapsed": true
   },
   "outputs": [],
   "source": [
    "#Obtain the list of regulations only from the working directory\n",
    "list_regs = []\n",
    "files = [f for f in os.listdir('.') if os.path.isfile(f)]\n",
    "\n",
    "for file in files:\n",
    "    if file[-3:] == 'xml':\n",
    "        list_regs.append(file)"
   ]
  },
  {
   "cell_type": "code",
   "execution_count": 6,
   "metadata": {},
   "outputs": [
    {
     "data": {
      "text/plain": [
       "3199"
      ]
     },
     "execution_count": 6,
     "metadata": {},
     "output_type": "execute_result"
    }
   ],
   "source": [
    "len(list_regs)"
   ]
  },
  {
   "cell_type": "code",
   "execution_count": 7,
   "metadata": {},
   "outputs": [],
   "source": [
    "for file in list_regs:\n",
    "    #Parse each xml file\n",
    "    doc = etree.parse(file)\n",
    "    doc_dict = make_dict_from_tree(doc.getroot())\n",
    "\n",
    "    #Extracting all the Identification Headers\n",
    "    try:\n",
    "        InstrumentNumber = doc_dict['Regulation']['Identification']['InstrumentNumber']\n",
    "    except: \n",
    "        InstrumentNumber = \"\"\n",
    "\n",
    "    try:\n",
    "        RegistrationDate_Year = doc_dict['Regulation']['Identification']['RegistrationDate']['Date']['YYYY']\n",
    "        RegistrationDate_Month = doc_dict['Regulation']['Identification']['RegistrationDate']['Date']['MM']\n",
    "        RegistrationDate_Day = doc_dict['Regulation']['Identification']['RegistrationDate']['Date']['DD']\n",
    "        RegistrationDate = RegistrationDate_Month + \"/\" + RegistrationDate_Day + \"/\" + RegistrationDate_Year\n",
    "    except: \n",
    "        RegistrationDate = \"\"\n",
    "\n",
    "    try:\n",
    "        ConsolidationDate_Year = doc_dict['Regulation']['Identification']['ConsolidationDate']['Date']['YYYY']\n",
    "        ConsolidationDate_Month = doc_dict['Regulation']['Identification']['ConsolidationDate']['Date']['MM']\n",
    "        ConsolidationDate_Day = doc_dict['Regulation']['Identification']['ConsolidationDate']['Date']['DD']\n",
    "        ConsolidationDate = ConsolidationDate_Month + \"/\" + ConsolidationDate_Day + \"/\" + ConsolidationDate_Year\n",
    "    except: \n",
    "        ConsolidationDate = \"\"\n",
    "\n",
    "    try:\n",
    "        LastModifiedDate_Year = doc_dict['Regulation']['Identification']['LastModifiedDate']['Date']['YYYY']\n",
    "        LastModifiedDate_Month = doc_dict['Regulation']['Identification']['LastModifiedDate']['Date']['MM']\n",
    "        LastModifiedDate_Day = doc_dict['Regulation']['Identification']['LastModifiedDate']['Date']['DD']\n",
    "        LastModifiedDate = LastModifiedDate_Month + \"/\" + LastModifiedDate_Day + \"/\" + LastModifiedDate_Year\n",
    "    except:\n",
    "        LastModifiedDate = \"\"\n",
    "\n",
    "    try:\n",
    "        EnablingAuthority = doc_dict['Regulation']['Identification']['EnablingAuthority'].values()\n",
    "    except:\n",
    "        EnablingAuthority = \"\"\n",
    "\n",
    "    try:\n",
    "        ShortTitle = doc_dict['Regulation']['Identification']['ShortTitle']\n",
    "    except:\n",
    "        ShortTitle = \"\"\n",
    "\n",
    "    try:\n",
    "        LongTitle = doc_dict['Regulation']['Identification']['LongTitle']\n",
    "    except:\n",
    "        LongTitle = \"\"\n",
    "\n",
    "    try:\n",
    "        RegulationMaker = doc_dict['Regulation']['Identification']['RegulationMakerOrder']['RegulationMaker']\n",
    "    except:\n",
    "        RegulationMaker = \"\"\n",
    "\n",
    "    try:\n",
    "        RegulationOrderNumber = doc_dict['Regulation']['Identification']['RegulationMakerOrder']['OrderNumber']\n",
    "    except:\n",
    "        RegulationOrderNumber = \"\"\n",
    "\n",
    "    try:\n",
    "        RegulationMakerOrderDate_Year = doc_dict['Regulation']['Identification']['RegulationMakerOrder']['Date']['YYYY']\n",
    "        RegulationMakerOrderDate_Month = doc_dict['Regulation']['Identification']['RegulationMakerOrder']['Date']['MM']\n",
    "        RegulationMakerOrderDate_Day = doc_dict['Regulation']['Identification']['RegulationMakerOrder']['Date']['DD']\n",
    "        RegulationMakerOrderDate = RegulationMakerOrderDate_Month + \"/\" + RegulationMakerOrderDate_Day + \"/\" + RegulationMakerOrderDate_Year\n",
    "    except:\n",
    "        RegulationMakerOrderDate = \"\"\n",
    "\n",
    "   #Schedule Section of the Regulation\n",
    "    try:\n",
    "        Schedule = doc_dict['Regulation']['Schedule'].values()\n",
    "    except:\n",
    "        Schedule = \"\"\n",
    "\n",
    "    #Append to all of the lists\n",
    "    list_InstrumentNumber.append(InstrumentNumber)\n",
    "    list_RegistrationDate.append(RegistrationDate)\n",
    "    list_ConsolidationDate.append(ConsolidationDate)\n",
    "    list_LastModifiedDate.append(LastModifiedDate)\n",
    "    list_EnablingAuthority.append(EnablingAuthority)\n",
    "    list_ShortTitle.append(ShortTitle)\n",
    "    list_LongTitle.append(LongTitle)\n",
    "    list_RegulationMaker.append(RegulationMaker)\n",
    "    list_RegulationOrderNumber.append(RegulationOrderNumber)\n",
    "    list_RegulationMakerOrderDate.append(RegulationMakerOrderDate)\n",
    "    list_Schedule.append(Schedule)\n"
   ]
  },
  {
   "cell_type": "code",
   "execution_count": 8,
   "metadata": {},
   "outputs": [],
   "source": [
    "#Create final dataframe \n",
    "df = pd.DataFrame()\n",
    "df[\"Instrumentation_Num\"] = list_InstrumentNumber\n",
    "df[\"Registration_Date\"] = list_RegistrationDate\n",
    "df[\"Consolidation_Date\"] = list_ConsolidationDate\n",
    "df[\"Last_Mod_Date\"] = list_LastModifiedDate\n",
    "df[\"Enabling_Authority\"] = list_EnablingAuthority\n",
    "df[\"Short_Title\"] = list_ShortTitle\n",
    "df[\"Long_Title\"] = list_LongTitle\n",
    "df[\"Reg_Maker\"] = list_RegulationMaker\n",
    "df[\"Reg_Order_Num\"] = list_RegulationOrderNumber\n",
    "df[\"Reg_Order_Maker_Date\"] = list_RegulationMakerOrderDate\n",
    "df[\"Schedule\"] = list_Schedule"
   ]
  },
  {
   "cell_type": "code",
   "execution_count": 9,
   "metadata": {},
   "outputs": [
    {
     "data": {
      "text/plain": [
       "3199"
      ]
     },
     "execution_count": 9,
     "metadata": {},
     "output_type": "execute_result"
    }
   ],
   "source": [
    "len(list_LastModifiedDate)"
   ]
  },
  {
   "cell_type": "markdown",
   "metadata": {},
   "source": [
    "## Extracting the Order Info"
   ]
  },
  {
   "cell_type": "code",
   "execution_count": 10,
   "metadata": {
    "collapsed": true
   },
   "outputs": [],
   "source": [
    "#Note that for some reason, extracting the order tags is not straight forward like 'Idnetification'...\n",
    "file = 'SOR-2001-377.xml'\n",
    "doc = etree.parse(file)\n",
    "doc_dict = make_dict_from_tree(doc.getroot())"
   ]
  },
  {
   "cell_type": "code",
   "execution_count": 11,
   "metadata": {},
   "outputs": [
    {
     "data": {
      "text/plain": [
       "{'Provision': {'Footnote': [{'Label': 'a', 'Text': 'S.C. 2001, c. 9, s. 183'},\n",
       "   {'Label': 'b', 'Text': 'S.C. 1991, c. 46'}],\n",
       "  'Text': {'FootnoteRef': ['a', 'b'],\n",
       "   'XRefExternal': ['Bank Act',\n",
       "    'Equity of a Bank or a Bank Holding Company Regulations']}}}"
      ]
     },
     "execution_count": 11,
     "metadata": {},
     "output_type": "execute_result"
    }
   ],
   "source": [
    "#Note that the following doesn't give the same output as when you directly open the reg...text is missing\n",
    "doc_dict['Regulation']['Order']"
   ]
  },
  {
   "cell_type": "code",
   "execution_count": 12,
   "metadata": {},
   "outputs": [
    {
     "data": {
      "text/plain": [
       "1"
      ]
     },
     "execution_count": 12,
     "metadata": {},
     "output_type": "execute_result"
    }
   ],
   "source": [
    "len(doc_dict['Regulation']['Order'])"
   ]
  },
  {
   "cell_type": "code",
   "execution_count": null,
   "metadata": {
    "collapsed": true
   },
   "outputs": [],
   "source": []
  },
  {
   "cell_type": "markdown",
   "metadata": {},
   "source": [
    "##### Order Extraction Test"
   ]
  },
  {
   "cell_type": "code",
   "execution_count": 13,
   "metadata": {},
   "outputs": [],
   "source": [
    "#Method 2...read the entire XML as a string an then keep everything between the 'order' tags\n",
    "import xml.etree.ElementTree as ET\n",
    "tree = ET.parse(file)\n",
    "root = tree.getroot()\n",
    "xmlstr = ET.tostring(root, encoding='utf8', method='xml')"
   ]
  },
  {
   "cell_type": "code",
   "execution_count": 14,
   "metadata": {
    "scrolled": true
   },
   "outputs": [
    {
     "data": {
      "text/plain": [
       "'<?xml version=\\'1.0\\' encoding=\\'utf8\\'?>\\n<Regulation regulation-type=\"SOR\" xml:lang=\"en\"><Identification><InstrumentNumber>SOR/2001-377</InstrumentNumber><RegistrationDate><Date><YYYY>2001</YYYY><MM>10</MM><DD>4</DD></Date></RegistrationDate><ConsolidationDate><Date><YYYY>2018</YYYY><MM>06</MM><DD>21</DD></Date></ConsolidationDate><LastModifiedDate><Date><YYYY>2005</YYYY><MM>9</MM><DD>22</DD></Date></LastModifiedDate><EnablingAuthority><XRefExternal reference-type=\"act\">BANK ACT</XRefExternal></EnablingAuthority><LongTitle>Equity of a Bank or a Bank Holding Company Regulations</LongTitle><RegulationMakerOrder><RegulationMaker>P.C.</RegulationMaker><OrderNumber>2001-1748</OrderNumber><Date><YYYY>2001</YYYY><MM>10</MM><DD>4</DD></Date></RegulationMakerOrder></Identification><Order><Provision format-ref=\"indent-0-0\" language-align=\"yes\" list-item=\"no\"><Text>Her Excellency the Governor General in Council, on the recommendation of the Minister of Finance, pursuant to section 978<FootnoteRef idref=\"footnotea_e\">a</FootnoteRef> of the <XRefExternal reference-type=\"act\">Bank Act</XRefExternal><FootnoteRef idref=\"footnoteb_e\">b</FootnoteRef>, hereby makes the annexed <XRefExternal reference-type=\"regulation\">Equity of a Bank or a Bank Holding Company Regulations</XRefExternal>.</Text><Footnote id=\"footnotea_e\" placement=\"page\" status=\"official\"><Label>a</Label><Text>S.C. 2001, c. 9, s. 183</Text></Footnote><Footnote id=\"footnoteb_e\" placement=\"page\" status=\"official\"><Label>b</Label><Text>S.C. 1991, c. 46</Text></Footnote></Provision></Order><Body><Heading level=\"1\"><TitleText>Interpretation</TitleText></Heading><Section><MarginalNote>Definitions</MarginalNote><Label>1</Label><Subsection><Label>(1)</Label><Text>The following definitions apply in these Regulations.</Text><Definition><MarginalNote><DefinedTermEn>Act</DefinedTermEn></MarginalNote><MarginalNote><DefinedTermFr>Loi</DefinedTermFr></MarginalNote><Text><DefinedTermEn>Act</DefinedTermEn> means the <XRefExternal reference-type=\"act\">Bank Act</XRefExternal>.</Text></Definition><Definition><MarginalNote><DefinedTermEn>eligible Canadian financial institution</DefinedTermEn></MarginalNote><MarginalNote><DefinedTermFr>institution financi\\xc3\\xa8re canadienne admissible</DefinedTermFr></MarginalNote><Text><DefinedTermEn>eligible Canadian financial institution</DefinedTermEn> has the same meaning as in subsection\\xc2\\xa0370(1) of the Act.</Text></Definition><Definition><MarginalNote><DefinedTermEn>eligible foreign institution</DefinedTermEn></MarginalNote><MarginalNote><DefinedTermFr>institution \\xc3\\xa9trang\\xc3\\xa8re admissible</DefinedTermFr></MarginalNote><Text><DefinedTermEn>eligible foreign institution</DefinedTermEn> has the same meaning as in subsection\\xc2\\xa0370(1) of the Act.</Text></Definition><Definition><MarginalNote><DefinedTermEn>trust and loan company</DefinedTermEn></MarginalNote><MarginalNote><DefinedTermFr>soci\\xc3\\xa9t\\xc3\\xa9 de fiducie et de pr\\xc3\\xaat</DefinedTermFr></MarginalNote><Text><DefinedTermEn>trust and loan company</DefinedTermEn> means a body corporate to which the <XRefExternal reference-type=\"act\">Trust and Loan Companies Act</XRefExternal> applies or a trust or loan corporation incorporated by or under an Act of the legislature of a province.</Text></Definition></Subsection><Subsection><MarginalNote>Financial statement equity</MarginalNote><Label>(2)</Label><Text>For the purposes of these Regulations, the financial statement equity of an entity is the sum of the shareholders\\xe2\\x80\\x99 and members\\xe2\\x80\\x99 equity of the entity, and the minority interests in entities controlled by the entity, as they appear in the consolidated financial statements of the entity.</Text></Subsection><Subsection><MarginalNote>Acting in concert</MarginalNote><Label>(3)</Label><Text>If two or more persons are deemed under section\\xc2\\xa09, 9.1, 9.2 or 371 of the Act, for the purposes of Part\\xc2\\xa0VII or Division\\xc2\\xa07 of Part\\xc2\\xa0XV of the Act, to be a single person who is acquiring beneficial ownership of the aggregate number of shares or membership shares of a bank, shares of a bank holding company or shares or ownership interests of an entity that are beneficially owned by them, those persons are deemed, for the purposes of these Regulations, to be a single person who has acquired beneficial ownership of the aggregate number of shares or membership shares of the bank, shares of the bank holding company or shares or ownership interests of the entity that are beneficially owned by them.</Text></Subsection><HistoricalNote>SOR/2012-269, s. 4.</HistoricalNote></Section><Heading level=\"1\"><TitleText>Determination of the Equity of a Bank or a Bank Holding Company</TitleText></Heading><Section><MarginalNote>Where an entity\\xe2\\x80\\x99s equity is its financial statement equity</MarginalNote><Label>2</Label><Text>For the purposes of the Act, the equity of an entity is its financial statement equity if the entity is</Text><Paragraph><Label>(a)</Label><Text>a widely held bank or any other bank that is not controlled by any person;</Text></Paragraph><Paragraph><Label>(b)</Label><Text>a widely held bank holding company or any other bank holding company that is not controlled by any person;</Text></Paragraph><Paragraph><Label>(c)</Label><Text>a bank controlled by a widely held bank holding company;</Text></Paragraph><Paragraph><Label>(d)</Label><Text>a bank holding company controlled by a widely held bank holding company;</Text></Paragraph><Paragraph><Label>(e)</Label><Text>a bank controlled by a widely-held insurance holding company;</Text></Paragraph><Paragraph><Label>(f)</Label><Text>a bank holding company controlled by a widely-held insurance holding company;</Text></Paragraph><Paragraph><Label>(g)</Label><Text>a bank controlled by an eligible Canadian financial institution;</Text></Paragraph><Paragraph><Label>(h)</Label><Text>a bank holding company controlled by an eligible Canadian financial institution;</Text></Paragraph><Paragraph><Label>(i)</Label><Text>a bank that is not controlled by any person other than an eligible foreign institution or a subsidiary of the eligible foreign institution; or</Text></Paragraph><Paragraph><Label>(j)</Label><Text>a bank holding company that is not controlled by any person other than an eligible foreign institution or a subsidiary of the eligible foreign institution.</Text></Paragraph></Section><Section><MarginalNote>Bank\\xe2\\x80\\x99s equity by reference to its group</MarginalNote><Label>3</Label><Text>For the purposes of the Act, if the equity of a bank is not determined under section 2, the equity of the bank is the sum of</Text><Paragraph><Label>(a)</Label><Text>the financial statement equity of the bank, if the bank is not controlled by a bank, bank holding company or trust and loan company, and</Text></Paragraph><Paragraph><Label>(b)</Label><Text>all amounts each of which is the financial statement equity of an affiliate of the bank that is a bank, bank holding company or trust and loan company and that is not controlled by a bank, bank holding company or trust and loan company.</Text></Paragraph></Section><Section><MarginalNote>Bank holding company\\xe2\\x80\\x99s equity by reference to its group</MarginalNote><Label>4</Label><Text>For the purposes of the Act, if the equity of a bank holding company is not determined under section 2, the equity of the bank holding company is the sum of</Text><Paragraph><Label>(a)</Label><Text>the financial statement equity of the bank holding company, if the bank holding company is not controlled by a bank, bank holding company or trust and loan company, and</Text></Paragraph><Paragraph><Label>(b)</Label><Text>all amounts each of which is the financial statement equity of an affiliate of the bank holding company that is a bank, bank holding company or trust and loan company and that is not controlled by a bank, bank holding company or trust and loan company.</Text></Paragraph></Section><Heading level=\"1\"><TitleText>Coming into Force</TitleText></Heading><Section><MarginalNote>Coming into force</MarginalNote><Label><FootnoteRef idref=\"footnote1star_e\">*</FootnoteRef>5</Label><Text>These Regulations come into force on the day on which section\\xc2\\xa0978 of the <XRefExternal reference-type=\"act\">Bank Act</XRefExternal>, as enacted by section\\xc2\\xa0183 of the <XRefExternal reference-type=\"act\">Financial Consumer Agency of Canada Act</XRefExternal>, chapter\\xc2\\xa09 of the Statutes of Canada, 2001, comes into force.</Text><Footnote id=\"footnote1star_e\" placement=\"section\" status=\"editorial\"><Label>*</Label><Text>[Note: Regulations in force October\\xc2\\xa024, 2001, <Emphasis style=\"italic\">see</Emphasis> SI/2001-102.]</Text></Footnote></Section></Body></Regulation>'"
      ]
     },
     "execution_count": 14,
     "metadata": {},
     "output_type": "execute_result"
    }
   ],
   "source": [
    "#For some reason, the order text is preserved using this method\n",
    "xmlstr"
   ]
  },
  {
   "cell_type": "code",
   "execution_count": 15,
   "metadata": {
    "collapsed": true
   },
   "outputs": [],
   "source": [
    "def find_between( s, first, last ):\n",
    "    try:\n",
    "        start = s.index( first ) + len( first )\n",
    "        end = s.index( last, start )\n",
    "        return s[start:end]\n",
    "    except ValueError:\n",
    "        return \"\""
   ]
  },
  {
   "cell_type": "code",
   "execution_count": 16,
   "metadata": {},
   "outputs": [
    {
     "data": {
      "text/plain": [
       "'<Provision format-ref=\"indent-0-0\" language-align=\"yes\" list-item=\"no\"><Text>Her Excellency the Governor General in Council, on the recommendation of the Minister of Finance, pursuant to section 978<FootnoteRef idref=\"footnotea_e\">a</FootnoteRef> of the <XRefExternal reference-type=\"act\">Bank Act</XRefExternal><FootnoteRef idref=\"footnoteb_e\">b</FootnoteRef>, hereby makes the annexed <XRefExternal reference-type=\"regulation\">Equity of a Bank or a Bank Holding Company Regulations</XRefExternal>.</Text><Footnote id=\"footnotea_e\" placement=\"page\" status=\"official\"><Label>a</Label><Text>S.C. 2001, c. 9, s. 183</Text></Footnote><Footnote id=\"footnoteb_e\" placement=\"page\" status=\"official\"><Label>b</Label><Text>S.C. 1991, c. 46</Text></Footnote></Provision>'"
      ]
     },
     "execution_count": 16,
     "metadata": {},
     "output_type": "execute_result"
    }
   ],
   "source": [
    "find_between(xmlstr, '<Order>', '</Order>')"
   ]
  },
  {
   "cell_type": "markdown",
   "metadata": {},
   "source": [
    "##### Extracting the Order Section from all Regulations"
   ]
  },
  {
   "cell_type": "code",
   "execution_count": 17,
   "metadata": {
    "collapsed": true
   },
   "outputs": [],
   "source": [
    "import xml.etree.ElementTree as ET"
   ]
  },
  {
   "cell_type": "code",
   "execution_count": 20,
   "metadata": {
    "collapsed": true
   },
   "outputs": [],
   "source": [
    "list_order = []\n",
    "\n",
    "for file in list_regs:  \n",
    "    try:\n",
    "        tree = ET.parse(file)\n",
    "        root = tree.getroot()\n",
    "        xmlstr = ET.tostring(root, encoding='utf8', method='xml')\n",
    "        order = find_between(xmlstr, '<Order>', '</Order>')\n",
    "        list_order.append(str(order))\n",
    "    \n",
    "    except:\n",
    "        list_order.append(\"\")\n",
    "    \n",
    "df[\"Order\"] = list_order"
   ]
  },
  {
   "cell_type": "markdown",
   "metadata": {},
   "source": [
    "# Export to Excel"
   ]
  },
  {
   "cell_type": "code",
   "execution_count": 25,
   "metadata": {},
   "outputs": [],
   "source": [
    "#df.to_excel(\"AI_Reg_Flat_Table_V3_Part1.xlsx\")"
   ]
  },
  {
   "cell_type": "code",
   "execution_count": 24,
   "metadata": {
    "collapsed": true
   },
   "outputs": [],
   "source": [
    "writer = pd.ExcelWriter('AI_Reg_Flat_Table_V3_Part1.xlsx', engine='openpyxl')\n",
    "df.to_excel(writer)\n",
    "writer.save()"
   ]
  },
  {
   "cell_type": "code",
   "execution_count": null,
   "metadata": {
    "collapsed": true
   },
   "outputs": [],
   "source": []
  },
  {
   "cell_type": "code",
   "execution_count": null,
   "metadata": {
    "collapsed": true
   },
   "outputs": [],
   "source": []
  },
  {
   "cell_type": "code",
   "execution_count": null,
   "metadata": {
    "collapsed": true
   },
   "outputs": [],
   "source": []
  },
  {
   "cell_type": "code",
   "execution_count": null,
   "metadata": {
    "collapsed": true
   },
   "outputs": [],
   "source": []
  },
  {
   "cell_type": "code",
   "execution_count": null,
   "metadata": {
    "collapsed": true
   },
   "outputs": [],
   "source": []
  }
 ],
 "metadata": {
  "kernelspec": {
   "display_name": "Python 2",
   "language": "python",
   "name": "python2"
  },
  "language_info": {
   "codemirror_mode": {
    "name": "ipython",
    "version": 2
   },
   "file_extension": ".py",
   "mimetype": "text/x-python",
   "name": "python",
   "nbconvert_exporter": "python",
   "pygments_lexer": "ipython2",
   "version": "2.7.14"
  }
 },
 "nbformat": 4,
 "nbformat_minor": 2
}
