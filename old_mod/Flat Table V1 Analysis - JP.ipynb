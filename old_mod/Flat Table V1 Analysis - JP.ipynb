{
 "cells": [
  {
   "cell_type": "code",
   "execution_count": 11,
   "metadata": {
    "collapsed": true
   },
   "outputs": [],
   "source": [
    "import pandas as pd\n",
    "import numpy as np \n",
    "import matplotlib.pyplot as plt\n",
    "import seaborn as sns\n",
    "import ast"
   ]
  },
  {
   "cell_type": "code",
   "execution_count": 12,
   "metadata": {
    "collapsed": true
   },
   "outputs": [],
   "source": [
    "#read in file \n",
    "df = pd.read_excel('AI_Reg_Flat_Table_V1.xlsx')"
   ]
  },
  {
   "cell_type": "code",
   "execution_count": 17,
   "metadata": {},
   "outputs": [
    {
     "data": {
      "text/plain": [
       "\"[[{'Text': 'The definitions in this section apply in these Regulations.', 'Definition': [{'Text': {'XRefExternal': 'Public Service Superannuation Act', 'DefinedTermFr': 'Loi', 'DefinedTermEn': 'Act'}}, {'Text': {'DefinedTermFr': 'nouvel employeur', 'DefinedTermEn': 'new employer'}}], 'Label': '1'}, {'Subsection': [{'Text': {'XRefExternal': 'Divestiture of Service Transitional Coverage Regulations'}, 'Label': '(1)'}, {'Text': 'These Regulations do not apply to a person who subsequently becomes re-employed by the new employer.', 'Label': '(2)'}, {'Text': 'Sections 4 to 9 do not apply to a person who has exercised an option under subsection 3(2).', 'Label': '(3)'}], 'HistoricalNote': 'SOR/2016-203, s. 74(E).', 'Label': '2'}, {'Subsection': [{'Text': 'Sections 12, 13 and 13.01 of the Act only apply to a person on and after the date on which that person ceases to be employed by the new employer.', 'Label': '(1)'}, {'Text': 'Despite subsection (1), where, on or after January 1, 2000, a person would be eligible, were it not for these Regulations, to exercise an option under subsection 12(3) or section 13.01 of the Act, the person may exercise such an option no later than one year after the date on which the person ceases to be employed in the public service and becomes employed by the new employer.', 'Label': '(2)'}, {'Text': {'XRefExternal': 'Public Service Superannuation Regulations'}, 'Label': '(3)'}], 'HistoricalNote': 'SOR/2016-203, s. 74(E).', 'Label': '3'}, {'Text': 'For the purposes of subsection 12(8) of the Act, the survivor and children of a person who dies while employed by the new employer are entitled to a death benefit equal to a return of contributions.', 'Label': '4'}, {'Text': 'For the purposes of subsection 13(3) of the Act, the survivor and children of a person who dies while employed by the new employer are entitled to an allowance as described in paragraphs 12(4)(a) and (b) of the Act, subject to the limitations set out in subsections 12(4) and (5) of the Act.', 'Label': '5'}, {'Text': 'For the purposes of subsection 26(2) of the Act, a child who was born to or adopted by a person or became the stepchild of the person during the period that begins on the date on which the person ceases to be employed in the public service and that ends on the date on which that person ceases to be employed by the new employer is entitled to an allowance under Part I of the Act.', 'HistoricalNote': 'SOR/2016-203, s. 74(E).', 'Label': '6'}, {'Text': 'For the purposes of subsection 10(5) of the Act, the one year period referred to in paragraph 10(5)(a) of the Act shall begin on the date on which the person ceases to be employed by the new employer.', 'Label': '7'}, {'Text': 'For the purposes of sections 12 and 13 of the Act, pensionable service includes the period of service with the new employer that begins on the date on which the person ceases to be employed in the public service and that ends on the date on which the person ceases to be employed by the new employer.', 'HistoricalNote': 'SOR/2016-203, s. 74(E).', 'Label': '8'}, {'Text': 'For the purposes of sections 12 and 13 of the Act, the age of a person when the person ceases to be employed in the public service is the age of the person on the day on which that person ceases to be employed by the new employer.', 'HistoricalNote': 'SOR/2016-203, s. 74(E).', 'Label': '9'}, {'Text': 'A contributor to whom these Regulations apply is considered to be a Group 1 contributor.', 'HistoricalNote': 'SOR/2016-203, s. 73.', 'Label': '9.1'}, {'Text': 'These Regulations come into force on January 1, 2000.', 'Label': '10'}], [{'TitleText': 'Interpretation'}, {'TitleText': 'Application'}, {'TitleText': 'Applicable Provisions'}, {'TitleText': 'Survivor and Children'}, {'TitleText': 'Adaptation of Subsection 10(5) of the Act'}, {'TitleText': 'Adaptation of Sections 12 and 13 of the Act'}, {'TitleText': 'Coming into Force'}]]\""
      ]
     },
     "execution_count": 17,
     "metadata": {},
     "output_type": "execute_result"
    }
   ],
   "source": [
    "#orginal text \n",
    "df['Body'][0]"
   ]
  },
  {
   "cell_type": "code",
   "execution_count": 10,
   "metadata": {
    "scrolled": false
   },
   "outputs": [
    {
     "name": "stdout",
     "output_type": "stream",
     "text": [
      "The definitions in this section apply in these Regulations.\n",
      "For the purposes of subsection 12(8) of the Act, the survivor and children of a person who dies while employed by the new employer are entitled to a death benefit equal to a return of contributions.\n",
      "For the purposes of subsection 13(3) of the Act, the survivor and children of a person who dies while employed by the new employer are entitled to an allowance as described in paragraphs 12(4)(a) and (b) of the Act, subject to the limitations set out in subsections 12(4) and (5) of the Act.\n",
      "For the purposes of subsection 26(2) of the Act, a child who was born to or adopted by a person or became the stepchild of the person during the period that begins on the date on which the person ceases to be employed in the public service and that ends on the date on which that person ceases to be employed by the new employer is entitled to an allowance under Part I of the Act.\n",
      "For the purposes of subsection 10(5) of the Act, the one year period referred to in paragraph 10(5)(a) of the Act shall begin on the date on which the person ceases to be employed by the new employer.\n",
      "For the purposes of sections 12 and 13 of the Act, pensionable service includes the period of service with the new employer that begins on the date on which the person ceases to be employed in the public service and that ends on the date on which the person ceases to be employed by the new employer.\n",
      "For the purposes of sections 12 and 13 of the Act, the age of a person when the person ceases to be employed in the public service is the age of the person on the day on which that person ceases to be employed by the new employer.\n",
      "A contributor to whom these Regulations apply is considered to be a Group 1 contributor.\n",
      "These Regulations come into force on January 1, 2000.\n"
     ]
    }
   ],
   "source": [
    "#modified text\n",
    "for i in range(len(ast.literal_eval(df['Body'][0])[0])):\n",
    "    for element in ast.literal_eval(df['Body'][0])[0][i]:\n",
    "        if element == 'Text':\n",
    "            print(ast.literal_eval(df['Body'][0])[0][i]['Text'])\n",
    "        elif element == 'TitleText':\n",
    "            print(ast.literal_eval(df['Body'][0])[0][i]['TitleText'])"
   ]
  },
  {
   "cell_type": "code",
   "execution_count": null,
   "metadata": {
    "collapsed": true
   },
   "outputs": [],
   "source": []
  }
 ],
 "metadata": {
  "kernelspec": {
   "display_name": "Python 2",
   "language": "python",
   "name": "python2"
  },
  "language_info": {
   "codemirror_mode": {
    "name": "ipython",
    "version": 2
   },
   "file_extension": ".py",
   "mimetype": "text/x-python",
   "name": "python",
   "nbconvert_exporter": "python",
   "pygments_lexer": "ipython2",
   "version": "2.7.14"
  }
 },
 "nbformat": 4,
 "nbformat_minor": 2
}
