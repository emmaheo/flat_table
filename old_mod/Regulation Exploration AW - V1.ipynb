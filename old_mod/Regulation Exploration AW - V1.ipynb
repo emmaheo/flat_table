{
 "cells": [
  {
   "cell_type": "code",
   "execution_count": 1,
   "metadata": {
    "collapsed": true
   },
   "outputs": [],
   "source": [
    "import pandas as pd\n",
    "import io\n",
    "import xml.etree.ElementTree as ElementTree\n",
    "import os"
   ]
  },
  {
   "cell_type": "code",
   "execution_count": 2,
   "metadata": {
    "collapsed": true
   },
   "outputs": [],
   "source": [
    "class XmlListConfig(list):\n",
    "    def __init__(self, aList):\n",
    "        for element in aList:\n",
    "            if element:\n",
    "                # treat like dict\n",
    "                if len(element) == 1 or element[0].tag != element[1].tag:\n",
    "                    self.append(XmlDictConfig(element))\n",
    "                # treat like list\n",
    "                elif element[0].tag == element[1].tag:\n",
    "                    self.append(XmlListConfig(element))\n",
    "            elif element.text:\n",
    "                text = element.text.strip()\n",
    "                if text:\n",
    "                    self.append(text)\n",
    "\n",
    "\n",
    "class XmlDictConfig(dict):\n",
    "    '''\n",
    "    Example usage:\n",
    "\n",
    "    >>> tree = ElementTree.parse('your_file.xml')\n",
    "    >>> root = tree.getroot()\n",
    "    >>> xmldict = XmlDictConfig(root)\n",
    "\n",
    "    Or, if you want to use an XML string:\n",
    "\n",
    "    >>> root = ElementTree.XML(xml_string)\n",
    "    >>> xmldict = XmlDictConfig(root)\n",
    "\n",
    "    And then use xmldict for what it is... a dict.\n",
    "    '''\n",
    "    def __init__(self, parent_element):\n",
    "        if parent_element.items():\n",
    "            self.update(dict(parent_element.items()))\n",
    "        for element in parent_element:\n",
    "            if element:\n",
    "                # treat like dict - we assume that if the first two tags\n",
    "                # in a series are different, then they are all different.\n",
    "                if len(element) == 1 or element[0].tag != element[1].tag:\n",
    "                    aDict = XmlDictConfig(element)\n",
    "                # treat like list - we assume that if the first two tags\n",
    "                # in a series are the same, then the rest are the same.\n",
    "                else:\n",
    "                    # here, we put the list in dictionary; the key is the\n",
    "                    # tag name the list elements all share in common, and\n",
    "                    # the value is the list itself \n",
    "                    aDict = {element[0].tag: XmlListConfig(element)}\n",
    "                # if the tag has attributes, add those to the dict\n",
    "                if element.items():\n",
    "                    aDict.update(dict(element.items()))\n",
    "                self.update({element.tag: aDict})\n",
    "            # this assumes that if you've got an attribute in a tag,\n",
    "            # you won't be having any text. This may or may not be a \n",
    "            # good idea -- time will tell. It works for the way we are\n",
    "            # currently doing XML configuration files...\n",
    "            elif element.items():\n",
    "                self.update({element.tag: dict(element.items())})\n",
    "            # finally, if there are no child tags and no attributes, extract\n",
    "            # the text\n",
    "            else:\n",
    "                self.update({element.tag: element.text})"
   ]
  },
  {
   "cell_type": "markdown",
   "metadata": {},
   "source": [
    "# Method 1 - Test with the First Regulation ('SOR-49-42')"
   ]
  },
  {
   "cell_type": "code",
   "execution_count": 97,
   "metadata": {
    "collapsed": true
   },
   "outputs": [],
   "source": [
    "#Hide future version warnings\n",
    "import warnings\n",
    "warnings.simplefilter(action='ignore', category=FutureWarning)\n",
    "\n",
    "#Create the parent-child dictionary \n",
    "tree = ElementTree.parse('SOR-49-42.xml')\n",
    "root = tree.getroot()\n",
    "xmldict = XmlDictConfig(root)"
   ]
  },
  {
   "cell_type": "markdown",
   "metadata": {},
   "source": [
    "##### Identification"
   ]
  },
  {
   "cell_type": "code",
   "execution_count": 99,
   "metadata": {},
   "outputs": [
    {
     "data": {
      "text/plain": [
       "{'ConsolidationDate': {'Date': {'DD': '21', 'MM': '06', 'YYYY': '2018'}},\n",
       " 'EnablingAuthority': {'XRefExternal': ['APPROPRIATION ACT, NO. 7, 1949',\n",
       "   'APPROPRIATION ACTS']},\n",
       " 'InstrumentNumber': 'SOR/49-42',\n",
       " 'LastModifiedDate': {'Date': {'DD': '26', 'MM': '10', 'YYYY': '2006'}},\n",
       " 'LongTitle': 'Regulations Governing Payment of School Fees and Transportation Costs Re Children of Certain Employees of the Government of Canada',\n",
       " 'RegulationMakerOrder': {'Date': {'DD': '09', 'MM': '11', 'YYYY': '1954'},\n",
       "  'OrderNumber': '1954-1694',\n",
       "  'RegulationMaker': 'P.C.'},\n",
       " 'ShortTitle': 'Regulations re school fees and transportation costs for children of certain Government employees'}"
      ]
     },
     "execution_count": 99,
     "metadata": {},
     "output_type": "execute_result"
    }
   ],
   "source": [
    "#The Entire Identification Block\n",
    "xmldict['Identification']"
   ]
  },
  {
   "cell_type": "code",
   "execution_count": 100,
   "metadata": {
    "collapsed": true
   },
   "outputs": [],
   "source": [
    "#Obtaining each element\n",
    "InstrumentNumber = xmldict['Identification']['InstrumentNumber']\n",
    "ConsolidationDate = xmldict['Identification']['ConsolidationDate']['Date']\n",
    "LastModificationDate = xmldict['Identification']['LastModifiedDate']['Date']\n",
    "EnablingAuthority = xmldict['Identification']['EnablingAuthority']['XRefExternal'][0]\n",
    "ShortTitle = xmldict['Identification']['ShortTitle']\n",
    "LongTitle = xmldict['Identification']['LongTitle']\n",
    "RegulationMaker = xmldict['Identification']['RegulationMakerOrder']['RegulationMaker']\n",
    "RetulationOrderNumber = xmldict['Identification']['RegulationMakerOrder']['OrderNumber']\n",
    "RegulationMakerDate = xmldict['Identification']['RegulationMakerOrder']['Date']"
   ]
  },
  {
   "cell_type": "code",
   "execution_count": 101,
   "metadata": {},
   "outputs": [
    {
     "name": "stdout",
     "output_type": "stream",
     "text": [
      "SOR/49-42\n",
      "{'YYYY': '2018', 'MM': '06', 'DD': '21'}\n",
      "{'YYYY': '2006', 'MM': '10', 'DD': '26'}\n",
      "APPROPRIATION ACT, NO. 7, 1949\n",
      "Regulations re school fees and transportation costs for children of certain Government employees\n",
      "Regulations Governing Payment of School Fees and Transportation Costs Re Children of Certain Employees of the Government of Canada\n",
      "P.C.\n",
      "1954-1694\n",
      "{'YYYY': '1954', 'MM': '11', 'DD': '09'}\n"
     ]
    }
   ],
   "source": [
    "#Checking all the elements\n",
    "print (InstrumentNumber)\n",
    "print (ConsolidationDate)\n",
    "print (LastModificationDate)\n",
    "print (EnablingAuthority)\n",
    "print (ShortTitle)\n",
    "print (LongTitle)\n",
    "print (RegulationMaker)\n",
    "print (RetulationOrderNumber)\n",
    "print (RegulationMakerDate)"
   ]
  },
  {
   "cell_type": "markdown",
   "metadata": {},
   "source": [
    "##### Order"
   ]
  },
  {
   "cell_type": "code",
   "execution_count": 111,
   "metadata": {},
   "outputs": [
    {
     "data": {
      "text/plain": [
       "{'Provision': [{'Text': 'His Excellency the Governor General in Council, on the recommendation of the Minister of Finance and pursuant to The Appropriation Act, No. 7, 1949, Vote No 938, is pleased to order as follows:',\n",
       "   'format-ref': 'indent-0-0',\n",
       "   'language-align': 'yes',\n",
       "   'list-item': 'no'},\n",
       "  {'Label': '1.',\n",
       "   'Text': 'The Regulations governing the payment of school fees and transportation costs of children of certain employees of the Government of Canada, established by Order in Council PC 3455 of 19th July, 1950, are hereby revoked; and',\n",
       "   'format-ref': 'indent-0-0',\n",
       "   'language-align': 'no',\n",
       "   'list-item': 'no'},\n",
       "  {'Label': '2.',\n",
       "   'Text': u'The annexed \\u201cRegulations governing payment of school fees and transportation costs re children of certain employees of the Government of Canada\\u201d are hereby made and established in substitution for the regulations hereby revoked.',\n",
       "   'format-ref': 'indent-0-0',\n",
       "   'language-align': 'no',\n",
       "   'list-item': 'no'}]}"
      ]
     },
     "execution_count": 111,
     "metadata": {},
     "output_type": "execute_result"
    }
   ],
   "source": [
    "#The Entire Order Block\n",
    "xmldict['Order']"
   ]
  },
  {
   "cell_type": "code",
   "execution_count": 126,
   "metadata": {
    "collapsed": true
   },
   "outputs": [],
   "source": [
    "provisions = \"\"\n",
    "for i in range(0,len(xmldict['Order']['Provision'])):\n",
    "    provisions += (xmldict['Order']['Provision'][i][\"Text\"] + \" \")"
   ]
  },
  {
   "cell_type": "code",
   "execution_count": 127,
   "metadata": {},
   "outputs": [
    {
     "name": "stdout",
     "output_type": "stream",
     "text": [
      "His Excellency the Governor General in Council, on the recommendation of the Minister of Finance and pursuant to The Appropriation Act, No. 7, 1949, Vote No 938, is pleased to order as follows: The Regulations governing the payment of school fees and transportation costs of children of certain employees of the Government of Canada, established by Order in Council PC 3455 of 19th July, 1950, are hereby revoked; and The annexed “Regulations governing payment of school fees and transportation costs re children of certain employees of the Government of Canada” are hereby made and established in substitution for the regulations hereby revoked. \n"
     ]
    }
   ],
   "source": [
    "print (provisions)"
   ]
  },
  {
   "cell_type": "code",
   "execution_count": 116,
   "metadata": {},
   "outputs": [
    {
     "data": {
      "text/plain": [
       "2"
      ]
     },
     "execution_count": 116,
     "metadata": {},
     "output_type": "execute_result"
    }
   ],
   "source": [
    "number_provisions = len(xmldict['Order']['Provision']) - 1\n",
    "number_provisions"
   ]
  },
  {
   "cell_type": "markdown",
   "metadata": {},
   "source": [
    "##### Body"
   ]
  },
  {
   "cell_type": "code",
   "execution_count": 132,
   "metadata": {},
   "outputs": [
    {
     "data": {
      "text/plain": [
       "{'Section': [{'Definition': {'Text': {'DefinedTermEn': 'school authority',\n",
       "     'DefinedTermFr': u'autorit\\xe9 scolaire'},\n",
       "    'generate-in-text': 'no'},\n",
       "   'Label': '1',\n",
       "   'Text': 'In these regulations,'},\n",
       "  {'Label': '2',\n",
       "   'Text': 'Where a non-taxable employee resides on federal land that, in the opinion of the Minister, is within easy access of a school established by the Minister of National Defence, the Minister shall, unless the facilities are insufficient, arrange with the Minister of National Defence for the accommodation at that school of the children of the employee, while he is so resident, in accordance with the provisions of Order in Council P.C. 44/2300 of 6th May, 1950.'},\n",
       "  {'Label': '3',\n",
       "   'Subsection': {'Label': '(3)',\n",
       "    'Text': 'The amount payable under subsection (2) may be paid to a non-taxable employee to the extent that he has paid school fees to the school authority in respect of the child, and the amount payable to the school authority shall be reduced by the amount so paid.'}},\n",
       "  {'Label': '4',\n",
       "   'Subsection': {'Label': '(2)',\n",
       "    'Text': 'Where the Minister of National Defence provides a transportation service that can be made available to a child for the purpose of attending a school pursuant to an arrangement under section 3, the Minister may arrange for the child to use that service on such terms and conditions as the Minister of National Defence may prescribe.'}},\n",
       "  {'Label': '5',\n",
       "   'Text': 'Where federal land is made available for residential use, the Minister shall, except where in his opinion it is not feasible, lease the land on terms that will not deprive the municipality in which the land is situated, of its right to tax the tenant in respect of his occupancy of the land.'},\n",
       "  {'Label': '6',\n",
       "   'Paragraph': {'Label': '(b)',\n",
       "    'Text': 'that is situated in a municipality in which he is subject to municipal taxation in respect of his occupancy of that land.'},\n",
       "   'Text': 'No payment shall be made under these regulations in respect of a person who resides on federal land'},\n",
       "  {'Label': '7',\n",
       "   'Text': 'Any payment or arrangement made under these regulations shall be reported to the Municipal Grants Division of the Department of Finance.'}]}"
      ]
     },
     "execution_count": 132,
     "metadata": {},
     "output_type": "execute_result"
    }
   ],
   "source": [
    "#The Entire Body Block\n",
    "xmldict['Body']"
   ]
  },
  {
   "cell_type": "code",
   "execution_count": 156,
   "metadata": {},
   "outputs": [
    {
     "data": {
      "text/plain": [
       "7"
      ]
     },
     "execution_count": 156,
     "metadata": {},
     "output_type": "execute_result"
    }
   ],
   "source": [
    "len(xmldict['Body']['Section'])"
   ]
  },
  {
   "cell_type": "code",
   "execution_count": 169,
   "metadata": {},
   "outputs": [
    {
     "data": {
      "text/plain": [
       "{'Definition': {'Text': {'DefinedTermEn': 'school authority',\n",
       "   'DefinedTermFr': u'autorit\\xe9 scolaire'},\n",
       "  'generate-in-text': 'no'},\n",
       " 'Label': '1',\n",
       " 'Text': 'In these regulations,'}"
      ]
     },
     "execution_count": 169,
     "metadata": {},
     "output_type": "execute_result"
    }
   ],
   "source": [
    "xmldict['Body']['Section'][0]"
   ]
  },
  {
   "cell_type": "code",
   "execution_count": 170,
   "metadata": {},
   "outputs": [
    {
     "data": {
      "text/plain": [
       "'In these regulations,'"
      ]
     },
     "execution_count": 170,
     "metadata": {},
     "output_type": "execute_result"
    }
   ],
   "source": [
    "xmldict['Body']['Section'][0][\"Text\"]"
   ]
  },
  {
   "cell_type": "code",
   "execution_count": 171,
   "metadata": {},
   "outputs": [
    {
     "data": {
      "text/plain": [
       "{'DefinedTermEn': 'school authority', 'DefinedTermFr': u'autorit\\xe9 scolaire'}"
      ]
     },
     "execution_count": 171,
     "metadata": {},
     "output_type": "execute_result"
    }
   ],
   "source": [
    "xmldict['Body']['Section'][0]['Definition'][\"Text\"]"
   ]
  },
  {
   "cell_type": "code",
   "execution_count": 172,
   "metadata": {},
   "outputs": [
    {
     "data": {
      "text/plain": [
       "'Where a non-taxable employee resides on federal land that, in the opinion of the Minister, is within easy access of a school established by the Minister of National Defence, the Minister shall, unless the facilities are insufficient, arrange with the Minister of National Defence for the accommodation at that school of the children of the employee, while he is so resident, in accordance with the provisions of Order in Council P.C. 44/2300 of 6th May, 1950.'"
      ]
     },
     "execution_count": 172,
     "metadata": {},
     "output_type": "execute_result"
    }
   ],
   "source": [
    "xmldict['Body']['Section'][1][\"Text\"]"
   ]
  },
  {
   "cell_type": "code",
   "execution_count": 398,
   "metadata": {},
   "outputs": [
    {
     "ename": "KeyError",
     "evalue": "2",
     "output_type": "error",
     "traceback": [
      "\u001b[1;31m---------------------------------------------------------------------------\u001b[0m",
      "\u001b[1;31mKeyError\u001b[0m                                  Traceback (most recent call last)",
      "\u001b[1;32m<ipython-input-398-b774f9489e65>\u001b[0m in \u001b[0;36m<module>\u001b[1;34m()\u001b[0m\n\u001b[1;32m----> 1\u001b[1;33m \u001b[0mxmldict\u001b[0m\u001b[1;33m[\u001b[0m\u001b[1;34m'Body'\u001b[0m\u001b[1;33m]\u001b[0m\u001b[1;33m[\u001b[0m\u001b[1;34m'Section'\u001b[0m\u001b[1;33m]\u001b[0m\u001b[1;33m[\u001b[0m\u001b[1;36m2\u001b[0m\u001b[1;33m]\u001b[0m\u001b[1;33m\u001b[0m\u001b[0m\n\u001b[0m",
      "\u001b[1;31mKeyError\u001b[0m: 2"
     ]
    }
   ],
   "source": [
    "xmldict['Body']['Section'][2]"
   ]
  },
  {
   "cell_type": "code",
   "execution_count": null,
   "metadata": {
    "collapsed": true
   },
   "outputs": [],
   "source": []
  },
  {
   "cell_type": "code",
   "execution_count": null,
   "metadata": {
    "collapsed": true
   },
   "outputs": [],
   "source": []
  },
  {
   "cell_type": "markdown",
   "metadata": {},
   "source": [
    "# Method 1 - Test with 2nd Regualtion "
   ]
  },
  {
   "cell_type": "code",
   "execution_count": 396,
   "metadata": {
    "collapsed": true
   },
   "outputs": [],
   "source": [
    "#Create the parent-child dictionary \n",
    "tree = ElementTree.parse('SOR-80-394.xml')\n",
    "root = tree.getroot()\n",
    "xmldict = XmlDictConfig(root)"
   ]
  },
  {
   "cell_type": "code",
   "execution_count": 400,
   "metadata": {},
   "outputs": [
    {
     "data": {
      "text/plain": [
       "{'Heading': {'TitleText': 'Notice of Appeal', 'level': '1'},\n",
       " 'Section': {'Label': '6',\n",
       "  'Text': 'A notice of appeal shall be in the form set out in the schedule.'}}"
      ]
     },
     "execution_count": 400,
     "metadata": {},
     "output_type": "execute_result"
    }
   ],
   "source": [
    "xmldict['Body']"
   ]
  },
  {
   "cell_type": "code",
   "execution_count": null,
   "metadata": {
    "collapsed": true
   },
   "outputs": [],
   "source": []
  },
  {
   "cell_type": "code",
   "execution_count": null,
   "metadata": {
    "collapsed": true
   },
   "outputs": [],
   "source": []
  },
  {
   "cell_type": "markdown",
   "metadata": {
    "collapsed": true
   },
   "source": [
    "# Alternate Method"
   ]
  },
  {
   "cell_type": "code",
   "execution_count": 401,
   "metadata": {
    "collapsed": true
   },
   "outputs": [],
   "source": [
    "import untangle\n",
    "import xml.etree.ElementTree\n",
    "from lxml import etree"
   ]
  },
  {
   "cell_type": "code",
   "execution_count": 402,
   "metadata": {
    "collapsed": true
   },
   "outputs": [],
   "source": [
    "def make_dict_from_tree(element_tree):\n",
    "    \"\"\"Traverse the given XML element tree to convert it into a dictionary.\n",
    " \n",
    "    :param element_tree: An XML element tree\n",
    "    :type element_tree: xml.etree.ElementTree\n",
    "    :rtype: dict\n",
    "    \"\"\"\n",
    "    def internal_iter(tree, accum):\n",
    "        \"\"\"Recursively iterate through the elements of the tree accumulating\n",
    "        a dictionary result.\n",
    " \n",
    "        :param tree: The XML element tree\n",
    "        :type tree: xml.etree.ElementTree\n",
    "        :param accum: Dictionary into which data is accumulated\n",
    "        :type accum: dict\n",
    "        :rtype: dict\n",
    "        \"\"\"\n",
    "        if tree is None:\n",
    "            return accum\n",
    " \n",
    "        if tree.getchildren():\n",
    "            accum[tree.tag] = {}\n",
    "            for each in tree.getchildren():\n",
    "                result = internal_iter(each, {})\n",
    "                if each.tag in accum[tree.tag]:\n",
    "                    if not isinstance(accum[tree.tag][each.tag], list):\n",
    "                        accum[tree.tag][each.tag] = [\n",
    "                            accum[tree.tag][each.tag]\n",
    "                        ]\n",
    "                    accum[tree.tag][each.tag].append(result[each.tag])\n",
    "                else:\n",
    "                    accum[tree.tag].update(result)\n",
    "        else:\n",
    "            accum[tree.tag] = tree.text\n",
    " \n",
    "        return accum\n",
    " \n",
    "    return internal_iter(element_tree, {})\n",
    " \n"
   ]
  },
  {
   "cell_type": "markdown",
   "metadata": {},
   "source": [
    "# Alt Method Test 1 - SOR-49-42"
   ]
  },
  {
   "cell_type": "code",
   "execution_count": 403,
   "metadata": {},
   "outputs": [],
   "source": [
    "doc = etree.parse('SOR-49-42.xml')\n",
    "doc_dict = make_dict_from_tree(doc.getroot())"
   ]
  },
  {
   "cell_type": "code",
   "execution_count": 404,
   "metadata": {
    "scrolled": true
   },
   "outputs": [
    {
     "data": {
      "text/plain": [
       "{'Regulation': {'Body': {'Section': [{'Definition': [{'Text': {'DefinedTermEn': 'child',\n",
       "        'DefinedTermFr': 'enfant'}},\n",
       "      {'Text': {'DefinedTermEn': 'federal land',\n",
       "        'DefinedTermFr': u'terrain f\\xe9d\\xe9ral'}},\n",
       "      {'Text': {'DefinedTermEn': 'Minister', 'DefinedTermFr': 'Ministre'}},\n",
       "      {'Text': {'DefinedTermEn': 'non-taxable employee',\n",
       "        'DefinedTermFr': u'employ\\xe9 non imposable'}},\n",
       "      {'Text': {'DefinedTermEn': 'school authority',\n",
       "        'DefinedTermFr': u'autorit\\xe9 scolaire'}}],\n",
       "     'Label': '1',\n",
       "     'Text': 'In these regulations,'},\n",
       "    {'Label': '2',\n",
       "     'Text': 'Where a non-taxable employee resides on federal land that, in the opinion of the Minister, is within easy access of a school established by the Minister of National Defence, the Minister shall, unless the facilities are insufficient, arrange with the Minister of National Defence for the accommodation at that school of the children of the employee, while he is so resident, in accordance with the provisions of Order in Council P.C. 44/2300 of 6th May, 1950.'},\n",
       "    {'Label': '3',\n",
       "     'Subsection': [{'Label': '(1)',\n",
       "       'Text': 'Where a child of a non-taxable employee is not accommodated at a school mentioned in section 2, the Minister may arrange for the child to be accommodated at a school in the municipality in which the employee resides, or if, in the opinion of the Minister, the school facilities in that municipality are inadequate, at a school in a municipality having adequate facilities for the purpose, but a report shall be submitted to the Treasury Board whenever attendance at a school outside the municipality in which the employee resides is authorized stating the reasons for the arrangement and the additional costs resulting, if any.'},\n",
       "      {'Label': '(2)',\n",
       "       'Text': 'Where a child is accommodated at a school pursuant to an arrangement under subsection (1), the Minister may pay to the school authority, in each school year during which the child attends the school under the arrangement, an amount not exceeding the school fees ordinarily charged for the accommodation of a non-resident at the school.'},\n",
       "      {'Label': '(3)',\n",
       "       'Text': 'The amount payable under subsection (2) may be paid to a non-taxable employee to the extent that he has paid school fees to the school authority in respect of the child, and the amount payable to the school authority shall be reduced by the amount so paid.'}]},\n",
       "    {'Label': '4',\n",
       "     'Subsection': [{'Label': '(1)',\n",
       "       'Text': 'Where a child of a non-taxable employee, pursuant to an arrangement under section 3, attends a school that is not less than five miles and not more than thirty miles from the place of residence, and to attend the school uses a public transportation service approved for the purpose by the Minister, other than the service mentioned in subsection (2) or an urban public transportation service, the Minister may pay to the employee the amount by which the cost to the employee of the service that is rendered to the child exceeds three dollars a month.'},\n",
       "      {'Label': '(2)',\n",
       "       'Text': 'Where the Minister of National Defence provides a transportation service that can be made available to a child for the purpose of attending a school pursuant to an arrangement under section 3, the Minister may arrange for the child to use that service on such terms and conditions as the Minister of National Defence may prescribe.'}]},\n",
       "    {'Label': '5',\n",
       "     'Text': 'Where federal land is made available for residential use, the Minister shall, except where in his opinion it is not feasible, lease the land on terms that will not deprive the municipality in which the land is situated, of its right to tax the tenant in respect of his occupancy of the land.'},\n",
       "    {'Label': '6',\n",
       "     'Paragraph': [{'Label': '(a)',\n",
       "       'Text': {'XRefExternal': 'Municipal Grants Act'}},\n",
       "      {'Label': '(b)',\n",
       "       'Text': 'that is situated in a municipality in which he is subject to municipal taxation in respect of his occupancy of that land.'}],\n",
       "     'Text': 'No payment shall be made under these regulations in respect of a person who resides on federal land'},\n",
       "    {'Label': '7',\n",
       "     'Text': 'Any payment or arrangement made under these regulations shall be reported to the Municipal Grants Division of the Department of Finance.'}]},\n",
       "  'Identification': {'ConsolidationDate': {'Date': {'DD': '21',\n",
       "     'MM': '06',\n",
       "     'YYYY': '2018'}},\n",
       "   'EnablingAuthority': {'XRefExternal': ['APPROPRIATION ACT, NO. 7, 1949',\n",
       "     'APPROPRIATION ACTS']},\n",
       "   'InstrumentNumber': 'SOR/49-42',\n",
       "   'LastModifiedDate': {'Date': {'DD': '26', 'MM': '10', 'YYYY': '2006'}},\n",
       "   'LongTitle': 'Regulations Governing Payment of School Fees and Transportation Costs Re Children of Certain Employees of the Government of Canada',\n",
       "   'RegulationMakerOrder': {'Date': {'DD': '09', 'MM': '11', 'YYYY': '1954'},\n",
       "    'OrderNumber': '1954-1694',\n",
       "    'RegulationMaker': 'P.C.'},\n",
       "   'ShortTitle': 'Regulations re school fees and transportation costs for children of certain Government employees'},\n",
       "  'Order': {'Provision': [{'Text': 'His Excellency the Governor General in Council, on the recommendation of the Minister of Finance and pursuant to The Appropriation Act, No. 7, 1949, Vote No 938, is pleased to order as follows:'},\n",
       "    {'Label': '1.',\n",
       "     'Text': 'The Regulations governing the payment of school fees and transportation costs of children of certain employees of the Government of Canada, established by Order in Council PC 3455 of 19th July, 1950, are hereby revoked; and'},\n",
       "    {'Label': '2.',\n",
       "     'Text': u'The annexed \\u201cRegulations governing payment of school fees and transportation costs re children of certain employees of the Government of Canada\\u201d are hereby made and established in substitution for the regulations hereby revoked.'}]}}}"
      ]
     },
     "execution_count": 404,
     "metadata": {},
     "output_type": "execute_result"
    }
   ],
   "source": [
    "doc_dict"
   ]
  },
  {
   "cell_type": "markdown",
   "metadata": {},
   "source": [
    "### Body"
   ]
  },
  {
   "cell_type": "code",
   "execution_count": 412,
   "metadata": {},
   "outputs": [
    {
     "data": {
      "text/plain": [
       "7"
      ]
     },
     "execution_count": 412,
     "metadata": {},
     "output_type": "execute_result"
    }
   ],
   "source": [
    "#How many parts (labels) does this Section have?\n",
    "len_body = len(doc_dict['Regulation']['Body']['Section'])\n",
    "len_body "
   ]
  },
  {
   "cell_type": "code",
   "execution_count": 413,
   "metadata": {},
   "outputs": [
    {
     "data": {
      "text/plain": [
       "\"[[{'Text': 'In these regulations,', 'Definition': [{'Text': {'DefinedTermFr': 'enfant', 'DefinedTermEn': 'child'}}, {'Text': {'DefinedTermFr': u'terrain f\\\\xe9d\\\\xe9ral', 'DefinedTermEn': 'federal land'}}, {'Text': {'DefinedTermFr': 'Ministre', 'DefinedTermEn': 'Minister'}}, {'Text': {'DefinedTermFr': u'employ\\\\xe9 non imposable', 'DefinedTermEn': 'non-taxable employee'}}, {'Text': {'DefinedTermFr': u'autorit\\\\xe9 scolaire', 'DefinedTermEn': 'school authority'}}], 'Label': '1'}, {'Text': 'Where a non-taxable employee resides on federal land that, in the opinion of the Minister, is within easy access of a school established by the Minister of National Defence, the Minister shall, unless the facilities are insufficient, arrange with the Minister of National Defence for the accommodation at that school of the children of the employee, while he is so resident, in accordance with the provisions of Order in Council P.C. 44/2300 of 6th May, 1950.', 'Label': '2'}, {'Subsection': [{'Text': 'Where a child of a non-taxable employee is not accommodated at a school mentioned in section 2, the Minister may arrange for the child to be accommodated at a school in the municipality in which the employee resides, or if, in the opinion of the Minister, the school facilities in that municipality are inadequate, at a school in a municipality having adequate facilities for the purpose, but a report shall be submitted to the Treasury Board whenever attendance at a school outside the municipality in which the employee resides is authorized stating the reasons for the arrangement and the additional costs resulting, if any.', 'Label': '(1)'}, {'Text': 'Where a child is accommodated at a school pursuant to an arrangement under subsection (1), the Minister may pay to the school authority, in each school year during which the child attends the school under the arrangement, an amount not exceeding the school fees ordinarily charged for the accommodation of a non-resident at the school.', 'Label': '(2)'}, {'Text': 'The amount payable under subsection (2) may be paid to a non-taxable employee to the extent that he has paid school fees to the school authority in respect of the child, and the amount payable to the school authority shall be reduced by the amount so paid.', 'Label': '(3)'}], 'Label': '3'}, {'Subsection': [{'Text': 'Where a child of a non-taxable employee, pursuant to an arrangement under section 3, attends a school that is not less than five miles and not more than thirty miles from the place of residence, and to attend the school uses a public transportation service approved for the purpose by the Minister, other than the service mentioned in subsection (2) or an urban public transportation service, the Minister may pay to the employee the amount by which the cost to the employee of the service that is rendered to the child exceeds three dollars a month.', 'Label': '(1)'}, {'Text': 'Where the Minister of National Defence provides a transportation service that can be made available to a child for the purpose of attending a school pursuant to an arrangement under section 3, the Minister may arrange for the child to use that service on such terms and conditions as the Minister of National Defence may prescribe.', 'Label': '(2)'}], 'Label': '4'}, {'Text': 'Where federal land is made available for residential use, the Minister shall, except where in his opinion it is not feasible, lease the land on terms that will not deprive the municipality in which the land is situated, of its right to tax the tenant in respect of his occupancy of the land.', 'Label': '5'}, {'Text': 'No payment shall be made under these regulations in respect of a person who resides on federal land', 'Paragraph': [{'Text': {'XRefExternal': 'Municipal Grants Act'}, 'Label': '(a)'}, {'Text': 'that is situated in a municipality in which he is subject to municipal taxation in respect of his occupancy of that land.', 'Label': '(b)'}], 'Label': '6'}, {'Text': 'Any payment or arrangement made under these regulations shall be reported to the Municipal Grants Division of the Department of Finance.', 'Label': '7'}]]\""
      ]
     },
     "execution_count": 413,
     "metadata": {},
     "output_type": "execute_result"
    }
   ],
   "source": [
    "#Raw extraction of all text in the body...\n",
    "str(doc_dict['Regulation']['Body'].values())"
   ]
  },
  {
   "cell_type": "markdown",
   "metadata": {},
   "source": [
    "### Extraction of each Part (Label) in the Body"
   ]
  },
  {
   "cell_type": "markdown",
   "metadata": {},
   "source": [
    "##### Part 1 of 7"
   ]
  },
  {
   "cell_type": "code",
   "execution_count": 207,
   "metadata": {},
   "outputs": [
    {
     "data": {
      "text/plain": [
       "{'Definition': [{'Text': {'DefinedTermEn': 'child',\n",
       "    'DefinedTermFr': 'enfant'}},\n",
       "  {'Text': {'DefinedTermEn': 'federal land',\n",
       "    'DefinedTermFr': u'terrain f\\xe9d\\xe9ral'}},\n",
       "  {'Text': {'DefinedTermEn': 'Minister', 'DefinedTermFr': 'Ministre'}},\n",
       "  {'Text': {'DefinedTermEn': 'non-taxable employee',\n",
       "    'DefinedTermFr': u'employ\\xe9 non imposable'}},\n",
       "  {'Text': {'DefinedTermEn': 'school authority',\n",
       "    'DefinedTermFr': u'autorit\\xe9 scolaire'}}],\n",
       " 'Label': '1',\n",
       " 'Text': 'In these regulations,'}"
      ]
     },
     "execution_count": 207,
     "metadata": {},
     "output_type": "execute_result"
    }
   ],
   "source": [
    "doc_dict['Regulation']['Body']['Section'][0]"
   ]
  },
  {
   "cell_type": "code",
   "execution_count": 209,
   "metadata": {},
   "outputs": [
    {
     "data": {
      "text/plain": [
       "3"
      ]
     },
     "execution_count": 209,
     "metadata": {},
     "output_type": "execute_result"
    }
   ],
   "source": [
    "#How many parts in this 1st section\n",
    "len(doc_dict['Regulation']['Body']['Section'][0])"
   ]
  },
  {
   "cell_type": "code",
   "execution_count": 215,
   "metadata": {},
   "outputs": [
    {
     "data": {
      "text/plain": [
       "5"
      ]
     },
     "execution_count": 215,
     "metadata": {},
     "output_type": "execute_result"
    }
   ],
   "source": [
    "#How many definitions in part\n",
    "len(doc_dict['Regulation']['Body']['Section'][0]['Definition'])"
   ]
  },
  {
   "cell_type": "code",
   "execution_count": 225,
   "metadata": {},
   "outputs": [],
   "source": [
    "list_terms = []\n",
    "for i in range (0,len(doc_dict['Regulation']['Body']['Section'][0]['Definition'])):\n",
    "    list_terms.append(doc_dict['Regulation']['Body']['Section'][0]['Definition'][i]['Text']['DefinedTermEn'])"
   ]
  },
  {
   "cell_type": "code",
   "execution_count": 227,
   "metadata": {},
   "outputs": [
    {
     "data": {
      "text/plain": [
       "['child',\n",
       " 'federal land',\n",
       " 'Minister',\n",
       " 'non-taxable employee',\n",
       " 'school authority']"
      ]
     },
     "execution_count": 227,
     "metadata": {},
     "output_type": "execute_result"
    }
   ],
   "source": [
    "list_terms"
   ]
  },
  {
   "cell_type": "markdown",
   "metadata": {},
   "source": [
    "##### Part 2 of 7"
   ]
  },
  {
   "cell_type": "code",
   "execution_count": 310,
   "metadata": {
    "collapsed": true
   },
   "outputs": [],
   "source": [
    "num = 1"
   ]
  },
  {
   "cell_type": "code",
   "execution_count": 312,
   "metadata": {},
   "outputs": [],
   "source": [
    "#Check if there are subsections \n",
    "try:\n",
    "    len_sub = len(doc_dict['Regulation']['Body']['Section'][num]['Subsection'])\n",
    "    section = \"\"\n",
    "    for k in range (0,len_sub):\n",
    "        section += (doc_dict['Regulation']['Body']['Section'][num]['Subsection'][k]['Text']    + \" \") \n",
    "    \n",
    "except:\n",
    "    section = doc_dict['Regulation']['Body']['Section'][num][\"Text\"]"
   ]
  },
  {
   "cell_type": "code",
   "execution_count": 313,
   "metadata": {},
   "outputs": [
    {
     "data": {
      "text/plain": [
       "'Where a non-taxable employee resides on federal land that, in the opinion of the Minister, is within easy access of a school established by the Minister of National Defence, the Minister shall, unless the facilities are insufficient, arrange with the Minister of National Defence for the accommodation at that school of the children of the employee, while he is so resident, in accordance with the provisions of Order in Council P.C. 44/2300 of 6th May, 1950.'"
      ]
     },
     "execution_count": 313,
     "metadata": {},
     "output_type": "execute_result"
    }
   ],
   "source": [
    "section"
   ]
  },
  {
   "cell_type": "markdown",
   "metadata": {},
   "source": [
    "##### Part 3 of 7"
   ]
  },
  {
   "cell_type": "code",
   "execution_count": 322,
   "metadata": {
    "collapsed": true
   },
   "outputs": [],
   "source": [
    "num = 2"
   ]
  },
  {
   "cell_type": "code",
   "execution_count": 323,
   "metadata": {
    "collapsed": true
   },
   "outputs": [],
   "source": [
    "#Check if there are subsections \n",
    "try:\n",
    "    len_sub = len(doc_dict['Regulation']['Body']['Section'][num]['Subsection'])\n",
    "    section = \"\"\n",
    "    for k in range (0,len_sub):\n",
    "        section += (doc_dict['Regulation']['Body']['Section'][num]['Subsection'][k]['Text']    + \" \") \n",
    "    \n",
    "except:\n",
    "    section = doc_dict['Regulation']['Body']['Section'][num][\"Text\"]"
   ]
  },
  {
   "cell_type": "code",
   "execution_count": 324,
   "metadata": {},
   "outputs": [
    {
     "data": {
      "text/plain": [
       "'Where a child of a non-taxable employee is not accommodated at a school mentioned in section 2, the Minister may arrange for the child to be accommodated at a school in the municipality in which the employee resides, or if, in the opinion of the Minister, the school facilities in that municipality are inadequate, at a school in a municipality having adequate facilities for the purpose, but a report shall be submitted to the Treasury Board whenever attendance at a school outside the municipality in which the employee resides is authorized stating the reasons for the arrangement and the additional costs resulting, if any. Where a child is accommodated at a school pursuant to an arrangement under subsection (1), the Minister may pay to the school authority, in each school year during which the child attends the school under the arrangement, an amount not exceeding the school fees ordinarily charged for the accommodation of a non-resident at the school. The amount payable under subsection (2) may be paid to a non-taxable employee to the extent that he has paid school fees to the school authority in respect of the child, and the amount payable to the school authority shall be reduced by the amount so paid. '"
      ]
     },
     "execution_count": 324,
     "metadata": {},
     "output_type": "execute_result"
    }
   ],
   "source": [
    "section"
   ]
  },
  {
   "cell_type": "markdown",
   "metadata": {},
   "source": [
    "##### Part 4 of 7"
   ]
  },
  {
   "cell_type": "code",
   "execution_count": 331,
   "metadata": {
    "collapsed": true
   },
   "outputs": [],
   "source": [
    "num = 3"
   ]
  },
  {
   "cell_type": "code",
   "execution_count": 329,
   "metadata": {},
   "outputs": [],
   "source": [
    "#Check if there are subsections \n",
    "try:\n",
    "    len_sub = len(doc_dict['Regulation']['Body']['Section'][num]['Subsection'])\n",
    "    section = \"\"\n",
    "    for k in range (0,len_sub):\n",
    "        section += (doc_dict['Regulation']['Body']['Section'][num]['Subsection'][k]['Text']    + \" \") \n",
    "    \n",
    "except:\n",
    "    section = doc_dict['Regulation']['Body']['Section'][num][\"Text\"]"
   ]
  },
  {
   "cell_type": "code",
   "execution_count": 330,
   "metadata": {},
   "outputs": [
    {
     "data": {
      "text/plain": [
       "'Where a child of a non-taxable employee, pursuant to an arrangement under section 3, attends a school that is not less than five miles and not more than thirty miles from the place of residence, and to attend the school uses a public transportation service approved for the purpose by the Minister, other than the service mentioned in subsection (2) or an urban public transportation service, the Minister may pay to the employee the amount by which the cost to the employee of the service that is rendered to the child exceeds three dollars a month. Where the Minister of National Defence provides a transportation service that can be made available to a child for the purpose of attending a school pursuant to an arrangement under section 3, the Minister may arrange for the child to use that service on such terms and conditions as the Minister of National Defence may prescribe. '"
      ]
     },
     "execution_count": 330,
     "metadata": {},
     "output_type": "execute_result"
    }
   ],
   "source": [
    "section"
   ]
  },
  {
   "cell_type": "markdown",
   "metadata": {},
   "source": [
    "##### Part 5 of 7"
   ]
  },
  {
   "cell_type": "code",
   "execution_count": 335,
   "metadata": {
    "collapsed": true
   },
   "outputs": [],
   "source": [
    "num = 4\n",
    "\n",
    "try:\n",
    "    len_sub = len(doc_dict['Regulation']['Body']['Section'][num]['Subsection'])\n",
    "    section = \"\"\n",
    "    for k in range (0,len_sub):\n",
    "        section += (doc_dict['Regulation']['Body']['Section'][num]['Subsection'][k]['Text']    + \" \") \n",
    "    \n",
    "except:\n",
    "    section = doc_dict['Regulation']['Body']['Section'][num][\"Text\"]"
   ]
  },
  {
   "cell_type": "code",
   "execution_count": 336,
   "metadata": {},
   "outputs": [
    {
     "data": {
      "text/plain": [
       "'Where federal land is made available for residential use, the Minister shall, except where in his opinion it is not feasible, lease the land on terms that will not deprive the municipality in which the land is situated, of its right to tax the tenant in respect of his occupancy of the land.'"
      ]
     },
     "execution_count": 336,
     "metadata": {},
     "output_type": "execute_result"
    }
   ],
   "source": [
    "section"
   ]
  },
  {
   "cell_type": "markdown",
   "metadata": {},
   "source": [
    "##### Part 6 of 7"
   ]
  },
  {
   "cell_type": "code",
   "execution_count": 364,
   "metadata": {},
   "outputs": [
    {
     "data": {
      "text/plain": [
       "{'Label': '6',\n",
       " 'Paragraph': [{'Label': '(a)',\n",
       "   'Text': {'XRefExternal': 'Municipal Grants Act'}},\n",
       "  {'Label': '(b)',\n",
       "   'Text': 'that is situated in a municipality in which he is subject to municipal taxation in respect of his occupancy of that land.'}],\n",
       " 'Text': 'No payment shall be made under these regulations in respect of a person who resides on federal land'}"
      ]
     },
     "execution_count": 364,
     "metadata": {},
     "output_type": "execute_result"
    }
   ],
   "source": [
    "doc_dict['Regulation']['Body']['Section'][num]"
   ]
  },
  {
   "cell_type": "code",
   "execution_count": 394,
   "metadata": {},
   "outputs": [],
   "source": [
    "num = 5\n",
    "\n",
    "#Check for if body section has subsections \n",
    "try:\n",
    "    len_sub = len(doc_dict['Regulation']['Body']['Section'][num]['Subsection'])\n",
    "    section = \"\"\n",
    "    for k in range (0,len_sub):\n",
    "        section += (doc_dict['Regulation']['Body']['Section'][num]['Subsection'][k]['Text']    + \" \") \n",
    "    \n",
    "except:\n",
    "    pass\n",
    "\n",
    "#Check for if body section has multiple paragrphs \n",
    "try:\n",
    "    len_paragraph = len(doc_dict['Regulation']['Body']['Section'][num]['Paragraph'])\n",
    "    section = \"\"\n",
    "    for k in range (0,len_paragraph):\n",
    "        section += (doc_dict['Regulation']['Body']['Section'][num][\"Text\"] + \" \" + \n",
    "        (str(doc_dict['Regulation']['Body']['Section'][num]['Paragraph'][k]['Text']))  + \" \")\n",
    "\n",
    "#If there are subsections or separate paragraphs\n",
    "except:\n",
    "    section = doc_dict['Regulation']['Body']['Section'][num][\"Text\"]"
   ]
  },
  {
   "cell_type": "code",
   "execution_count": 395,
   "metadata": {},
   "outputs": [
    {
     "data": {
      "text/plain": [
       "\"No payment shall be made under these regulations in respect of a person who resides on federal land {'XRefExternal': 'Municipal Grants Act'} No payment shall be made under these regulations in respect of a person who resides on federal land that is situated in a municipality in which he is subject to municipal taxation in respect of his occupancy of that land. \""
      ]
     },
     "execution_count": 395,
     "metadata": {},
     "output_type": "execute_result"
    }
   ],
   "source": [
    "section"
   ]
  },
  {
   "cell_type": "code",
   "execution_count": 388,
   "metadata": {},
   "outputs": [
    {
     "data": {
      "text/plain": [
       "'No payment shall be made under these regulations in respect of a person who resides on federal land'"
      ]
     },
     "execution_count": 388,
     "metadata": {},
     "output_type": "execute_result"
    }
   ],
   "source": [
    "doc_dict['Regulation']['Body']['Section'][num][\"Text\"]"
   ]
  },
  {
   "cell_type": "code",
   "execution_count": 393,
   "metadata": {},
   "outputs": [
    {
     "data": {
      "text/plain": [
       "'that is situated in a municipality in which he is subject to municipal taxation in respect of his occupancy of that land.'"
      ]
     },
     "execution_count": 393,
     "metadata": {},
     "output_type": "execute_result"
    }
   ],
   "source": [
    "str(doc_dict['Regulation']['Body']['Section'][num]['Paragraph'][1]['Text'])"
   ]
  },
  {
   "cell_type": "code",
   "execution_count": null,
   "metadata": {
    "collapsed": true
   },
   "outputs": [],
   "source": []
  },
  {
   "cell_type": "code",
   "execution_count": 367,
   "metadata": {},
   "outputs": [
    {
     "data": {
      "text/plain": [
       "2"
      ]
     },
     "execution_count": 367,
     "metadata": {},
     "output_type": "execute_result"
    }
   ],
   "source": [
    "len_paragraph = len(doc_dict['Regulation']['Body']['Section'][num]['Paragraph'])\n",
    "len_paragraph"
   ]
  },
  {
   "cell_type": "code",
   "execution_count": 379,
   "metadata": {},
   "outputs": [],
   "source": [
    "section = \"\"\n",
    "for k in range (0,len_paragraph):\n",
    "    section += (str(doc_dict['Regulation']['Body']['Section'][num]['Paragraph'][k]['Text'])  + \" \")"
   ]
  },
  {
   "cell_type": "code",
   "execution_count": 380,
   "metadata": {},
   "outputs": [
    {
     "data": {
      "text/plain": [
       "\"{'XRefExternal': 'Municipal Grants Act'} that is situated in a municipality in which he is subject to municipal taxation in respect of his occupancy of that land. \""
      ]
     },
     "execution_count": 380,
     "metadata": {},
     "output_type": "execute_result"
    }
   ],
   "source": [
    "section"
   ]
  },
  {
   "cell_type": "code",
   "execution_count": null,
   "metadata": {
    "collapsed": true
   },
   "outputs": [],
   "source": []
  },
  {
   "cell_type": "code",
   "execution_count": null,
   "metadata": {
    "collapsed": true
   },
   "outputs": [],
   "source": []
  },
  {
   "cell_type": "code",
   "execution_count": null,
   "metadata": {
    "collapsed": true
   },
   "outputs": [],
   "source": []
  },
  {
   "cell_type": "markdown",
   "metadata": {},
   "source": [
    "# Alt Method Test 2: SOR-80-394"
   ]
  },
  {
   "cell_type": "code",
   "execution_count": null,
   "metadata": {
    "collapsed": true
   },
   "outputs": [],
   "source": [
    "doc = etree.parse('SOR-49-42.xml')\n",
    "doc_dict = make_dict_from_tree(doc.getroot())"
   ]
  }
 ],
 "metadata": {
  "kernelspec": {
   "display_name": "Python 2",
   "language": "python",
   "name": "python2"
  },
  "language_info": {
   "codemirror_mode": {
    "name": "ipython",
    "version": 2
   },
   "file_extension": ".py",
   "mimetype": "text/x-python",
   "name": "python",
   "nbconvert_exporter": "python",
   "pygments_lexer": "ipython2",
   "version": "2.7.14"
  }
 },
 "nbformat": 4,
 "nbformat_minor": 2
}
