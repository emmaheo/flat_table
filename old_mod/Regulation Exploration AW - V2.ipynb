{
 "cells": [
  {
   "cell_type": "code",
   "execution_count": 100,
   "metadata": {
    "collapsed": true
   },
   "outputs": [],
   "source": [
    "import pandas as pd\n",
    "import io\n",
    "import xml.etree.ElementTree as ElementTree\n",
    "import os\n",
    "\n",
    "#Hide Future Version warnings\n",
    "import warnings\n",
    "warnings.simplefilter(action='ignore', category=FutureWarning)"
   ]
  },
  {
   "cell_type": "code",
   "execution_count": 101,
   "metadata": {
    "collapsed": true
   },
   "outputs": [],
   "source": [
    "#Code to convert XML element tree to a dictionary\n",
    "def make_dict_from_tree(element_tree):\n",
    "    def internal_iter(tree, accum):\n",
    "        if tree is None:\n",
    "            return accum\n",
    "        \n",
    "        if tree.getchildren():\n",
    "            accum[tree.tag] = {}\n",
    "            for each in tree.getchildren():\n",
    "                result = internal_iter(each, {})\n",
    "                if each.tag in accum[tree.tag]:\n",
    "                    if not isinstance(accum[tree.tag][each.tag], list):\n",
    "                        accum[tree.tag][each.tag] = [\n",
    "                            accum[tree.tag][each.tag]\n",
    "                        ]\n",
    "                    accum[tree.tag][each.tag].append(result[each.tag])\n",
    "                else:\n",
    "                    accum[tree.tag].update(result)\n",
    "        else:\n",
    "            accum[tree.tag] = tree.text\n",
    "        return accum\n",
    "    return internal_iter(element_tree, {})"
   ]
  },
  {
   "cell_type": "markdown",
   "metadata": {},
   "source": [
    "# Test 1 - SOR-49-42"
   ]
  },
  {
   "cell_type": "code",
   "execution_count": 102,
   "metadata": {
    "collapsed": true
   },
   "outputs": [],
   "source": [
    "doc = etree.parse('SOR-49-42.xml')\n",
    "doc_dict = make_dict_from_tree(doc.getroot())"
   ]
  },
  {
   "cell_type": "code",
   "execution_count": 103,
   "metadata": {
    "scrolled": true
   },
   "outputs": [
    {
     "data": {
      "text/plain": [
       "{'Regulation': {'Body': {'Section': [{'Definition': [{'Text': {'DefinedTermEn': 'child',\n",
       "        'DefinedTermFr': 'enfant'}},\n",
       "      {'Text': {'DefinedTermEn': 'federal land',\n",
       "        'DefinedTermFr': u'terrain f\\xe9d\\xe9ral'}},\n",
       "      {'Text': {'DefinedTermEn': 'Minister', 'DefinedTermFr': 'Ministre'}},\n",
       "      {'Text': {'DefinedTermEn': 'non-taxable employee',\n",
       "        'DefinedTermFr': u'employ\\xe9 non imposable'}},\n",
       "      {'Text': {'DefinedTermEn': 'school authority',\n",
       "        'DefinedTermFr': u'autorit\\xe9 scolaire'}}],\n",
       "     'Label': '1',\n",
       "     'Text': 'In these regulations,'},\n",
       "    {'Label': '2',\n",
       "     'Text': 'Where a non-taxable employee resides on federal land that, in the opinion of the Minister, is within easy access of a school established by the Minister of National Defence, the Minister shall, unless the facilities are insufficient, arrange with the Minister of National Defence for the accommodation at that school of the children of the employee, while he is so resident, in accordance with the provisions of Order in Council P.C. 44/2300 of 6th May, 1950.'},\n",
       "    {'Label': '3',\n",
       "     'Subsection': [{'Label': '(1)',\n",
       "       'Text': 'Where a child of a non-taxable employee is not accommodated at a school mentioned in section 2, the Minister may arrange for the child to be accommodated at a school in the municipality in which the employee resides, or if, in the opinion of the Minister, the school facilities in that municipality are inadequate, at a school in a municipality having adequate facilities for the purpose, but a report shall be submitted to the Treasury Board whenever attendance at a school outside the municipality in which the employee resides is authorized stating the reasons for the arrangement and the additional costs resulting, if any.'},\n",
       "      {'Label': '(2)',\n",
       "       'Text': 'Where a child is accommodated at a school pursuant to an arrangement under subsection (1), the Minister may pay to the school authority, in each school year during which the child attends the school under the arrangement, an amount not exceeding the school fees ordinarily charged for the accommodation of a non-resident at the school.'},\n",
       "      {'Label': '(3)',\n",
       "       'Text': 'The amount payable under subsection (2) may be paid to a non-taxable employee to the extent that he has paid school fees to the school authority in respect of the child, and the amount payable to the school authority shall be reduced by the amount so paid.'}]},\n",
       "    {'Label': '4',\n",
       "     'Subsection': [{'Label': '(1)',\n",
       "       'Text': 'Where a child of a non-taxable employee, pursuant to an arrangement under section 3, attends a school that is not less than five miles and not more than thirty miles from the place of residence, and to attend the school uses a public transportation service approved for the purpose by the Minister, other than the service mentioned in subsection (2) or an urban public transportation service, the Minister may pay to the employee the amount by which the cost to the employee of the service that is rendered to the child exceeds three dollars a month.'},\n",
       "      {'Label': '(2)',\n",
       "       'Text': 'Where the Minister of National Defence provides a transportation service that can be made available to a child for the purpose of attending a school pursuant to an arrangement under section 3, the Minister may arrange for the child to use that service on such terms and conditions as the Minister of National Defence may prescribe.'}]},\n",
       "    {'Label': '5',\n",
       "     'Text': 'Where federal land is made available for residential use, the Minister shall, except where in his opinion it is not feasible, lease the land on terms that will not deprive the municipality in which the land is situated, of its right to tax the tenant in respect of his occupancy of the land.'},\n",
       "    {'Label': '6',\n",
       "     'Paragraph': [{'Label': '(a)',\n",
       "       'Text': {'XRefExternal': 'Municipal Grants Act'}},\n",
       "      {'Label': '(b)',\n",
       "       'Text': 'that is situated in a municipality in which he is subject to municipal taxation in respect of his occupancy of that land.'}],\n",
       "     'Text': 'No payment shall be made under these regulations in respect of a person who resides on federal land'},\n",
       "    {'Label': '7',\n",
       "     'Text': 'Any payment or arrangement made under these regulations shall be reported to the Municipal Grants Division of the Department of Finance.'}]},\n",
       "  'Identification': {'ConsolidationDate': {'Date': {'DD': '21',\n",
       "     'MM': '06',\n",
       "     'YYYY': '2018'}},\n",
       "   'EnablingAuthority': {'XRefExternal': ['APPROPRIATION ACT, NO. 7, 1949',\n",
       "     'APPROPRIATION ACTS']},\n",
       "   'InstrumentNumber': 'SOR/49-42',\n",
       "   'LastModifiedDate': {'Date': {'DD': '26', 'MM': '10', 'YYYY': '2006'}},\n",
       "   'LongTitle': 'Regulations Governing Payment of School Fees and Transportation Costs Re Children of Certain Employees of the Government of Canada',\n",
       "   'RegulationMakerOrder': {'Date': {'DD': '09', 'MM': '11', 'YYYY': '1954'},\n",
       "    'OrderNumber': '1954-1694',\n",
       "    'RegulationMaker': 'P.C.'},\n",
       "   'ShortTitle': 'Regulations re school fees and transportation costs for children of certain Government employees'},\n",
       "  'Order': {'Provision': [{'Text': 'His Excellency the Governor General in Council, on the recommendation of the Minister of Finance and pursuant to The Appropriation Act, No. 7, 1949, Vote No 938, is pleased to order as follows:'},\n",
       "    {'Label': '1.',\n",
       "     'Text': 'The Regulations governing the payment of school fees and transportation costs of children of certain employees of the Government of Canada, established by Order in Council PC 3455 of 19th July, 1950, are hereby revoked; and'},\n",
       "    {'Label': '2.',\n",
       "     'Text': u'The annexed \\u201cRegulations governing payment of school fees and transportation costs re children of certain employees of the Government of Canada\\u201d are hereby made and established in substitution for the regulations hereby revoked.'}]}}}"
      ]
     },
     "execution_count": 103,
     "metadata": {},
     "output_type": "execute_result"
    }
   ],
   "source": [
    "doc_dict"
   ]
  },
  {
   "cell_type": "markdown",
   "metadata": {},
   "source": [
    "##### Identification"
   ]
  },
  {
   "cell_type": "code",
   "execution_count": 108,
   "metadata": {},
   "outputs": [],
   "source": [
    "#Extracting all the Identification Headers\n",
    "InstrumentNumber = doc_dict['Regulation']['Identification']['InstrumentNumber']\n",
    "ConsolidationDate = doc_dict['Regulation']['Identification']['ConsolidationDate']['Date']\n",
    "LastModificationDate = doc_dict['Regulation']['Identification']['LastModifiedDate']['Date']\n",
    "EnablingAuthority = doc_dict['Regulation']['Identification']['EnablingAuthority'].values()\n",
    "ShortTitle = doc_dict['Regulation']['Identification']['ShortTitle']\n",
    "LongTitle = doc_dict['Regulation']['Identification']['LongTitle']\n",
    "RegulationMaker = doc_dict['Regulation']['Identification']['RegulationMakerOrder']['RegulationMaker']\n",
    "RetulationOrderNumber = doc_dict['Regulation']['Identification']['RegulationMakerOrder']['OrderNumber']\n",
    "RegulationMakerDate = doc_dict['Regulation']['Identification']['RegulationMakerOrder']['Date']"
   ]
  },
  {
   "cell_type": "code",
   "execution_count": 109,
   "metadata": {},
   "outputs": [
    {
     "name": "stdout",
     "output_type": "stream",
     "text": [
      "SOR/49-42\n",
      "{'YYYY': '2018', 'MM': '06', 'DD': '21'}\n",
      "{'YYYY': '2006', 'MM': '10', 'DD': '26'}\n",
      "[['APPROPRIATION ACT, NO. 7, 1949', 'APPROPRIATION ACTS']]\n",
      "Regulations re school fees and transportation costs for children of certain Government employees\n",
      "Regulations Governing Payment of School Fees and Transportation Costs Re Children of Certain Employees of the Government of Canada\n",
      "P.C.\n",
      "1954-1694\n",
      "{'YYYY': '1954', 'MM': '11', 'DD': '09'}\n"
     ]
    }
   ],
   "source": [
    "#Checking all the elements\n",
    "print (InstrumentNumber)\n",
    "print (ConsolidationDate)\n",
    "print (LastModificationDate)\n",
    "print (EnablingAuthority)\n",
    "print (ShortTitle)\n",
    "print (LongTitle)\n",
    "print (RegulationMaker)\n",
    "print (RetulationOrderNumber)\n",
    "print (RegulationMakerDate)"
   ]
  },
  {
   "cell_type": "markdown",
   "metadata": {},
   "source": [
    "##### Order"
   ]
  },
  {
   "cell_type": "code",
   "execution_count": 57,
   "metadata": {},
   "outputs": [
    {
     "data": {
      "text/plain": [
       "3"
      ]
     },
     "execution_count": 57,
     "metadata": {},
     "output_type": "execute_result"
    }
   ],
   "source": [
    "#How many parts (labels) does this body have?\n",
    "len(doc_dict['Regulation']['Order']['Provision'])"
   ]
  },
  {
   "cell_type": "code",
   "execution_count": 51,
   "metadata": {},
   "outputs": [
    {
     "data": {
      "text/plain": [
       "\"[[{'Text': 'His Excellency the Governor General in Council, on the recommendation of the Minister of Finance and pursuant to The Appropriation Act, No. 7, 1949, Vote No 938, is pleased to order as follows:'}, {'Text': 'The Regulations governing the payment of school fees and transportation costs of children of certain employees of the Government of Canada, established by Order in Council PC 3455 of 19th July, 1950, are hereby revoked; and', 'Label': '1.'}, {'Text': u'The annexed \\\\u201cRegulations governing payment of school fees and transportation costs re children of certain employees of the Government of Canada\\\\u201d are hereby made and established in substitution for the regulations hereby revoked.', 'Label': '2.'}]]\""
      ]
     },
     "execution_count": 51,
     "metadata": {},
     "output_type": "execute_result"
    }
   ],
   "source": [
    "#Raw extraction of all text in the 'order'...\n",
    "order = str(doc_dict['Regulation']['Order'].values())\n",
    "order"
   ]
  },
  {
   "cell_type": "markdown",
   "metadata": {},
   "source": [
    "##### Body"
   ]
  },
  {
   "cell_type": "code",
   "execution_count": 7,
   "metadata": {
    "scrolled": true
   },
   "outputs": [
    {
     "data": {
      "text/plain": [
       "7"
      ]
     },
     "execution_count": 7,
     "metadata": {},
     "output_type": "execute_result"
    }
   ],
   "source": [
    "#How many parts (labels) does this body have?\n",
    "len_body = len(doc_dict['Regulation']['Body']['Section'])\n",
    "len_body "
   ]
  },
  {
   "cell_type": "code",
   "execution_count": 58,
   "metadata": {
    "scrolled": true
   },
   "outputs": [
    {
     "data": {
      "text/plain": [
       "\"[[{'Text': 'In these regulations,', 'Definition': [{'Text': {'DefinedTermFr': 'enfant', 'DefinedTermEn': 'child'}}, {'Text': {'DefinedTermFr': u'terrain f\\\\xe9d\\\\xe9ral', 'DefinedTermEn': 'federal land'}}, {'Text': {'DefinedTermFr': 'Ministre', 'DefinedTermEn': 'Minister'}}, {'Text': {'DefinedTermFr': u'employ\\\\xe9 non imposable', 'DefinedTermEn': 'non-taxable employee'}}, {'Text': {'DefinedTermFr': u'autorit\\\\xe9 scolaire', 'DefinedTermEn': 'school authority'}}], 'Label': '1'}, {'Text': 'Where a non-taxable employee resides on federal land that, in the opinion of the Minister, is within easy access of a school established by the Minister of National Defence, the Minister shall, unless the facilities are insufficient, arrange with the Minister of National Defence for the accommodation at that school of the children of the employee, while he is so resident, in accordance with the provisions of Order in Council P.C. 44/2300 of 6th May, 1950.', 'Label': '2'}, {'Subsection': [{'Text': 'Where a child of a non-taxable employee is not accommodated at a school mentioned in section 2, the Minister may arrange for the child to be accommodated at a school in the municipality in which the employee resides, or if, in the opinion of the Minister, the school facilities in that municipality are inadequate, at a school in a municipality having adequate facilities for the purpose, but a report shall be submitted to the Treasury Board whenever attendance at a school outside the municipality in which the employee resides is authorized stating the reasons for the arrangement and the additional costs resulting, if any.', 'Label': '(1)'}, {'Text': 'Where a child is accommodated at a school pursuant to an arrangement under subsection (1), the Minister may pay to the school authority, in each school year during which the child attends the school under the arrangement, an amount not exceeding the school fees ordinarily charged for the accommodation of a non-resident at the school.', 'Label': '(2)'}, {'Text': 'The amount payable under subsection (2) may be paid to a non-taxable employee to the extent that he has paid school fees to the school authority in respect of the child, and the amount payable to the school authority shall be reduced by the amount so paid.', 'Label': '(3)'}], 'Label': '3'}, {'Subsection': [{'Text': 'Where a child of a non-taxable employee, pursuant to an arrangement under section 3, attends a school that is not less than five miles and not more than thirty miles from the place of residence, and to attend the school uses a public transportation service approved for the purpose by the Minister, other than the service mentioned in subsection (2) or an urban public transportation service, the Minister may pay to the employee the amount by which the cost to the employee of the service that is rendered to the child exceeds three dollars a month.', 'Label': '(1)'}, {'Text': 'Where the Minister of National Defence provides a transportation service that can be made available to a child for the purpose of attending a school pursuant to an arrangement under section 3, the Minister may arrange for the child to use that service on such terms and conditions as the Minister of National Defence may prescribe.', 'Label': '(2)'}], 'Label': '4'}, {'Text': 'Where federal land is made available for residential use, the Minister shall, except where in his opinion it is not feasible, lease the land on terms that will not deprive the municipality in which the land is situated, of its right to tax the tenant in respect of his occupancy of the land.', 'Label': '5'}, {'Text': 'No payment shall be made under these regulations in respect of a person who resides on federal land', 'Paragraph': [{'Text': {'XRefExternal': 'Municipal Grants Act'}, 'Label': '(a)'}, {'Text': 'that is situated in a municipality in which he is subject to municipal taxation in respect of his occupancy of that land.', 'Label': '(b)'}], 'Label': '6'}, {'Text': 'Any payment or arrangement made under these regulations shall be reported to the Municipal Grants Division of the Department of Finance.', 'Label': '7'}]]\""
      ]
     },
     "execution_count": 58,
     "metadata": {},
     "output_type": "execute_result"
    }
   ],
   "source": [
    "#Raw extraction of all text in the 'body'...\n",
    "body = str(doc_dict['Regulation']['Body'].values())\n",
    "body"
   ]
  },
  {
   "cell_type": "markdown",
   "metadata": {},
   "source": [
    "# Test 2: SOR-80-394"
   ]
  },
  {
   "cell_type": "code",
   "execution_count": 126,
   "metadata": {
    "collapsed": true
   },
   "outputs": [],
   "source": [
    "doc = etree.parse('SOR-80-394.xml')\n",
    "doc_dict = make_dict_from_tree(doc.getroot())\n",
    "\n",
    "#Extracting all the Identification Headers\n",
    "InstrumentNumber = doc_dict['Regulation']['Identification']['InstrumentNumber']\n",
    "RegistrationDate = doc_dict['Regulation']['Identification']['RegistrationDate']['Date']\n",
    "ConsolidationDate = doc_dict['Regulation']['Identification']['ConsolidationDate']['Date']\n",
    "LastModificationDate = doc_dict['Regulation']['Identification']['LastModifiedDate']['Date']\n",
    "EnablingAuthority = doc_dict['Regulation']['Identification']['EnablingAuthority'].values()\n",
    "ShortTitle = doc_dict['Regulation']['Identification']['ShortTitle']\n",
    "LongTitle = doc_dict['Regulation']['Identification']['LongTitle']\n",
    "RegulationMaker = doc_dict['Regulation']['Identification']['RegulationMakerOrder']['RegulationMaker']\n",
    "RetulationOrderNumber = doc_dict['Regulation']['Identification']['RegulationMakerOrder']['OrderNumber']\n",
    "RegulationMakerDate = doc_dict['Regulation']['Identification']['RegulationMakerOrder']['Date']\n",
    "\n",
    "#How many parts (labels) does this body have?\n",
    "len_order = len(doc_dict['Regulation']['Order']['Provision'])\n",
    "\n",
    "#Raw extraction of all text in the 'order'...\n",
    "order = str(doc_dict['Regulation']['Order'].values())\n",
    "\n",
    "#How many parts (labels) does this body have?\n",
    "len_body = len(doc_dict['Regulation']['Body']['Section'])\n",
    "\n",
    "#Raw extraction of all text in the 'body'...\n",
    "body = str(doc_dict['Regulation']['Body'].values())\n",
    "\n",
    "#Raw extraction of all text in the Schedule\n",
    "schedule = doc_dict['Regulation']['Schedule'].values()"
   ]
  },
  {
   "cell_type": "code",
   "execution_count": 127,
   "metadata": {},
   "outputs": [
    {
     "name": "stdout",
     "output_type": "stream",
     "text": [
      "SOR/80-394\n",
      "{'YYYY': '1980', 'MM': '5', 'DD': '27'}\n",
      "{'YYYY': '2018', 'MM': '06', 'DD': '21'}\n",
      "{'YYYY': '2016', 'MM': '11', 'DD': '28'}\n",
      "['CANADIAN HUMAN RIGHTS ACT']\n",
      "Human Rights Tribunal Appeal Regulations\n",
      "Regulations Respecting the Manner and Form for Making an Appeal from the Decision or Order of a Human Rights Tribunal\n",
      "P.C.\n",
      "1980-1411\n",
      "{'YYYY': '1980', 'MM': '5', 'DD': '27'}\n"
     ]
    }
   ],
   "source": [
    "#Checking all the Identification elements\n",
    "print (InstrumentNumber)\n",
    "print (RegistrationDate)\n",
    "print (ConsolidationDate)\n",
    "print (LastModificationDate)\n",
    "print (EnablingAuthority)\n",
    "print (ShortTitle)\n",
    "print (LongTitle)\n",
    "print (RegulationMaker)\n",
    "print (RetulationOrderNumber)\n",
    "print (RegulationMakerDate)"
   ]
  },
  {
   "cell_type": "code",
   "execution_count": 128,
   "metadata": {},
   "outputs": [
    {
     "name": "stdout",
     "output_type": "stream",
     "text": [
      "Length of order: 1\n",
      "[{'Text': {'XRefExternal': ['Canadian Human Rights Act', 'Regulations respecting the manner and form for making an appeal from the decision or order of a Human Rights Tribunal']}}]\n"
     ]
    }
   ],
   "source": [
    "#Checking the Order\n",
    "print (\"Length of order: \" + str(len_order))\n",
    "print (order)"
   ]
  },
  {
   "cell_type": "code",
   "execution_count": 129,
   "metadata": {},
   "outputs": [
    {
     "name": "stdout",
     "output_type": "stream",
     "text": [
      "Length of body: 6\n",
      "[[{'Text': {'XRefExternal': 'Human Rights Tribunal Appeal Regulations'}, 'Label': '1'}, {'Text': {'Repealed': '[Revoked, SOR/90-286, s. 1]'}, 'Label': '2'}, {'Text': {'Repealed': '[Revoked, SOR/90-286, s. 2]'}, 'Label': '3'}, {'Text': 'Service of the notice of appeal on all parties may be made personally or by registered mail.', 'Label': '4'}, {'Text': {'Repealed': '[Revoked, SOR/90-286, s. 3]'}, 'Label': '5'}, {'Text': 'A notice of appeal shall be in the form set out in the schedule.', 'Label': '6'}], [{'TitleText': 'Short Title'}, {'TitleText': 'Notice of Appeal'}]]\n"
     ]
    }
   ],
   "source": [
    "#Checking the Body\n",
    "print (\"Length of body: \" + str(len_body))\n",
    "print (body)"
   ]
  },
  {
   "cell_type": "code",
   "execution_count": 132,
   "metadata": {},
   "outputs": [
    {
     "name": "stdout",
     "output_type": "stream",
     "text": [
      "[{'TitleText': 'Notice of Appeal', 'Label': 'SCHEDULE'}, [{'Text': {'Leader': [None, None, None]}}, {'Text': {'LeaderRightJustified': None, 'Leader': None}}, {'Text': {'LeaderRightJustified': None}}, {'Text': 'The Appellant appeals on the following grounds (a brief statement of the points to be argued).'}, {'Text': {'Leader': [None, None, None, None]}, 'SignatureBlock': {'SignatureLine': {'Leader': None}, 'SignatureName': 'Appellant'}}, {'Text': 'TO: President', 'Provision': [{'Text': 'Human Rights Tribunal Panel'}, {'Text': 'Ottawa, Ontario'}, {'Text': 'K1A 1J4'}]}, {'Text': 'AND TO:'}], 'SOR/86-294, s. 3; SOR/90-286, s. 4; SOR/94-237, s. 1.']\n"
     ]
    }
   ],
   "source": [
    "#Checking the scheduale \n",
    "print (schedule)"
   ]
  },
  {
   "cell_type": "markdown",
   "metadata": {},
   "source": [
    "# Test 3: SOR-2018-46"
   ]
  },
  {
   "cell_type": "code",
   "execution_count": 137,
   "metadata": {
    "collapsed": true
   },
   "outputs": [],
   "source": [
    "doc = etree.parse('SOR-2018-46.xml')\n",
    "doc_dict = make_dict_from_tree(doc.getroot())"
   ]
  },
  {
   "cell_type": "code",
   "execution_count": 140,
   "metadata": {},
   "outputs": [],
   "source": [
    "#Extracting all the Identification Headers\n",
    "try:\n",
    "    InstrumentNumber = doc_dict['Regulation']['Identification']['InstrumentNumber']\n",
    "except: \n",
    "    InstrumentNumber = \"\"\n",
    "\n",
    "try:\n",
    "    RegistrationDate = doc_dict['Regulation']['Identification']['RegistrationDate']['Date']\n",
    "except: \n",
    "    RegistrationDate = \"\"\n",
    "\n",
    "try:\n",
    "    ConsolidationDate = doc_dict['Regulation']['Identification']['ConsolidationDate']['Date']\n",
    "except: \n",
    "    RegistrationDate = \"\"\n",
    "\n",
    "try:\n",
    "    LastModificationDate = doc_dict['Regulation']['Identification']['LastModifiedDate']['Date']\n",
    "except:\n",
    "    LastModificationDate = \"\"\n",
    "\n",
    "try:\n",
    "    EnablingAuthority = doc_dict['Regulation']['Identification']['EnablingAuthority'].values()\n",
    "except:\n",
    "    EnablingAuthority = \"\"\n",
    "\n",
    "try:\n",
    "    ShortTitle = doc_dict['Regulation']['Identification']['ShortTitle']\n",
    "except:\n",
    "    ShortTitle = \"\"\n",
    "\n",
    "try:\n",
    "    LongTitle = doc_dict['Regulation']['Identification']['LongTitle']\n",
    "except:\n",
    "    LongTitle = \"\"\n",
    "\n",
    "try:\n",
    "    RegulationMaker = doc_dict['Regulation']['Identification']['RegulationMakerOrder']['RegulationMaker']\n",
    "except:\n",
    "    RegulationMaker = \"\"\n",
    "\n",
    "try:\n",
    "    RetulationOrderNumber = doc_dict['Regulation']['Identification']['RegulationMakerOrder']['OrderNumber']\n",
    "except:\n",
    "    RetulationOrderNumber = \"\"\n",
    "\n",
    "try:\n",
    "    RegulationMakerDate = doc_dict['Regulation']['Identification']['RegulationMakerOrder']['Date']\n",
    "except:\n",
    "    RegulationMakerDate = \"\"\n",
    "\n",
    "#Order Section of the Regulation\n",
    "try:\n",
    "    len_order = len(doc_dict['Regulation']['Order']['Provision'])\n",
    "    order = str(doc_dict['Regulation']['Order'].values())\n",
    "except:\n",
    "    order = \"\"\n",
    "\n",
    "#Body Section of the Regulation\n",
    "try:\n",
    "    len_body = len(doc_dict['Regulation']['Body']['Section'])    \n",
    "    body = str(doc_dict['Regulation']['Body'].values())\n",
    "except:\n",
    "    body = \"\"\n",
    "\n",
    "#Schedule Section of the Regulation\n",
    "try:\n",
    "    schedule = doc_dict['Regulation']['Schedule'].values()\n",
    "except:\n",
    "    schedule = \"\""
   ]
  },
  {
   "cell_type": "code",
   "execution_count": 141,
   "metadata": {},
   "outputs": [
    {
     "name": "stdout",
     "output_type": "stream",
     "text": [
      "SOR/2018-46\n",
      "{'YYYY': '2018', 'MM': '3', 'DD': '20'}\n",
      "{'YYYY': '2018', 'MM': '06', 'DD': '21'}\n",
      "{'YYYY': '2018', 'MM': '4', 'DD': '4'}\n",
      "['CRIMINAL CODE']\n",
      "Human Rights Tribunal Appeal Regulations\n",
      "Order Declaring an Amnesty Period (2018)\n",
      "P.C.\n",
      "2018-301\n",
      "{'YYYY': '2018', 'MM': '3', 'DD': '20'}\n"
     ]
    }
   ],
   "source": [
    "#Checking all the Identification elements\n",
    "print (InstrumentNumber)\n",
    "print (RegistrationDate)\n",
    "print (ConsolidationDate)\n",
    "print (LastModificationDate)\n",
    "print (EnablingAuthority)\n",
    "print (ShortTitle)\n",
    "print (LongTitle)\n",
    "print (RegulationMaker)\n",
    "print (RetulationOrderNumber)\n",
    "print (RegulationMakerDate)"
   ]
  },
  {
   "cell_type": "code",
   "execution_count": 142,
   "metadata": {
    "scrolled": true
   },
   "outputs": [
    {
     "name": "stdout",
     "output_type": "stream",
     "text": [
      "Length of order: 1\n",
      "[[{'Text': 'S.C. 1995, c. 39, s. 139', 'Label': 'a'}, {'Text': 'R.S., c. C-46', 'Label': 'b'}], {'Text': {'XRefExternal': ['Criminal Code', 'Order Declaring an Amnesty Period (2018)'], 'FootnoteRef': ['a', 'b']}}]\n"
     ]
    }
   ],
   "source": [
    "#Checking the Order\n",
    "print (\"Length of order: \" + str(len_order))\n",
    "print (order)"
   ]
  },
  {
   "cell_type": "code",
   "execution_count": 143,
   "metadata": {},
   "outputs": [
    {
     "name": "stdout",
     "output_type": "stream",
     "text": [
      "Length of body: 3\n",
      "[[{'Text': {'DefinedTermEn': 'firearm'}, 'Paragraph': [{'Text': 'a SAN Swiss Arms Model Classic Green Sniper rifle;', 'Label': '(a)'}, {'Text': 'a SAN Swiss Arms Model Ver rifle;', 'Label': '(b)'}, {'Text': 'a SAN Swiss Arms Model Aestas rifle;', 'Label': '(c)'}, {'Text': 'a SAN Swiss Arms Model Autumnus rifle; and', 'Label': '(d)'}, {'Text': 'a SAN Swiss Arms Model Hiemis rifle.', 'Label': '(e)'}], 'MarginalNote': {'DefinitionRef': 'firearm'}, 'Label': '1'}, {'Subsection': [{'Text': {'XRefExternal': 'Criminal Code'}, 'Paragraph': [{'Text': {'XRefExternal': 'Firearms Act'}, 'Label': '(a)'}, {'Text': 'during the amnesty period, continues to hold a licence while in possession of the firearm.', 'Label': '(b)'}], 'Label': '(1)'}, {'Text': 'The purpose of the amnesty period is to permit the person to do any of the following during that period:', 'Paragraph': [{'Text': 'possess the firearm;', 'Label': '(a)'}, {'Text': 'deliver the firearm to a peace officer, firearms officer or chief firearms officer;', 'Label': '(b)'}, {'Text': u'sell or give the firearm to a business \\u2013 including a museum \\u2013 authorized to acquire and possess prohibited firearms; and', 'Label': '(c)'}, {'Text': 'transport the firearm for the purposes of paragraph (b) or (c).', 'Label': '(d)'}], 'MarginalNote': 'Purpose', 'Label': '(2)'}, {'Text': 'The amnesty period begins on the day on which this Order is registered and ends on February 28, 2021.', 'MarginalNote': 'Amnesty period', 'Label': '(3)'}], 'MarginalNote': 'Amnesty', 'Label': '2'}, {'Text': 'This Order comes into force on the day on which it is registered.', 'MarginalNote': 'Coming into force', 'Label': '3'}]]\n"
     ]
    }
   ],
   "source": [
    "#Checking the Body\n",
    "print (\"Length of body: \" + str(len_body))\n",
    "print (body)"
   ]
  },
  {
   "cell_type": "code",
   "execution_count": null,
   "metadata": {
    "collapsed": true
   },
   "outputs": [],
   "source": []
  },
  {
   "cell_type": "code",
   "execution_count": null,
   "metadata": {
    "collapsed": true
   },
   "outputs": [],
   "source": []
  }
 ],
 "metadata": {
  "kernelspec": {
   "display_name": "Python 2",
   "language": "python",
   "name": "python2"
  },
  "language_info": {
   "codemirror_mode": {
    "name": "ipython",
    "version": 2
   },
   "file_extension": ".py",
   "mimetype": "text/x-python",
   "name": "python",
   "nbconvert_exporter": "python",
   "pygments_lexer": "ipython2",
   "version": "2.7.14"
  }
 },
 "nbformat": 4,
 "nbformat_minor": 2
}
